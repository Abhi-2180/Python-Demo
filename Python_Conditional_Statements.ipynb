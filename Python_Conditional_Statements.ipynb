{
 "cells": [
  {
   "cell_type": "code",
   "execution_count": null,
   "id": "dba5ee7f-f1e2-4e04-a497-c9461eaa8ff7",
   "metadata": {},
   "outputs": [],
   "source": [
    "Conditional Statements"
   ]
  },
  {
   "cell_type": "code",
   "execution_count": null,
   "id": "9780ab62-0061-45f5-bfce-f8c5439d0fab",
   "metadata": {},
   "outputs": [],
   "source": [
    "**IF**\n"
   ]
  },
  {
   "cell_type": "code",
   "execution_count": null,
   "id": "0db0cb84-8a36-4832-bb7b-a2288bddbfc2",
   "metadata": {},
   "outputs": [],
   "source": [
    "if <condition> :\n",
    "    <Codeline1>\n",
    "    <Codeline2>"
   ]
  },
  {
   "cell_type": "code",
   "execution_count": 3,
   "id": "7e806534-f7f6-4346-a8d2-09635408034e",
   "metadata": {},
   "outputs": [
    {
     "name": "stdout",
     "output_type": "stream",
     "text": [
      "Hello !!!\n"
     ]
    }
   ],
   "source": [
    "if 100>10:           \n",
    "    print(\"Hello !!!\")"
   ]
  },
  {
   "cell_type": "code",
   "execution_count": null,
   "id": "9ce2e41a-e1e5-4382-a216-fac75846345b",
   "metadata": {},
   "outputs": [],
   "source": [
    "**Mistakes**\n",
    "-Indentation\n",
    "-Colon after if\n",
    "-Condition should be there after colon\n",
    "-Missing print brackets "
   ]
  },
  {
   "cell_type": "code",
   "execution_count": 4,
   "id": "e5081979-ddf5-4741-a1bf-8e683eeca61d",
   "metadata": {},
   "outputs": [
    {
     "name": "stdout",
     "output_type": "stream",
     "text": [
      "Hello !!!\n",
      "Good Morning \n"
     ]
    }
   ],
   "source": [
    "if 100>10:\n",
    "    print(\"Hello !!!\")\n",
    "    print(\"Good Morning \")"
   ]
  },
  {
   "cell_type": "code",
   "execution_count": 5,
   "id": "bf69d8d4-7940-4217-89dc-2352f8ae09ca",
   "metadata": {},
   "outputs": [
    {
     "name": "stdout",
     "output_type": "stream",
     "text": [
      "Hello\n",
      "Good Morning\n",
      "Have a nice day !\n",
      "Bye\n"
     ]
    }
   ],
   "source": [
    "if 100>10:\n",
    "    print(\"Hello\")\n",
    "    print(\"Good Morning\")\n",
    "\n",
    "print(\"Have a nice day !\")\n",
    "print(\"Bye\")"
   ]
  },
  {
   "cell_type": "code",
   "execution_count": null,
   "id": "87ec5d4f-e3a7-42d0-8f60-0f90559a0991",
   "metadata": {},
   "outputs": [],
   "source": [
    "If.... Else"
   ]
  },
  {
   "cell_type": "code",
   "execution_count": null,
   "id": "4e9bb99f-3e91-48ff-9bdb-77b9071910ba",
   "metadata": {},
   "outputs": [],
   "source": [
    "If requires condition\n",
    "If condition is true then if will execute\n",
    "Else dont require condition"
   ]
  },
  {
   "cell_type": "code",
   "execution_count": null,
   "id": "2ecf4cf7-6f58-454a-8f03-ead08568c5cc",
   "metadata": {},
   "outputs": [],
   "source": [
    "#SYNTAX#\n",
    "\n",
    "if <condition>:\n",
    "    <code line>\n",
    "else:\n",
    "        <code line>"
   ]
  },
  {
   "cell_type": "code",
   "execution_count": 6,
   "id": "e0291b69-f729-4ecf-8ec4-fed0358757fc",
   "metadata": {},
   "outputs": [
    {
     "name": "stdout",
     "output_type": "stream",
     "text": [
      "Condition satisfied\n"
     ]
    }
   ],
   "source": [
    "if 100>10:\n",
    "    print(\"Condition satisfied\")\n",
    "else:\n",
    "    print(\"Condition not satisfied\")"
   ]
  },
  {
   "cell_type": "code",
   "execution_count": 9,
   "id": "b59a0ef5-ae60-4b94-9936-7f1e649bbdda",
   "metadata": {},
   "outputs": [
    {
     "name": "stdin",
     "output_type": "stream",
     "text": [
      "Enter the number : 5\n"
     ]
    },
    {
     "name": "stdout",
     "output_type": "stream",
     "text": [
      "The number is odd\n"
     ]
    }
   ],
   "source": [
    "num=eval(input(\"Enter the number :\"))\n",
    "if num%2==0:\n",
    "    print(\"The number is even\")\n",
    "else:\n",
    "    print(\"The number is odd\")"
   ]
  },
  {
   "cell_type": "code",
   "execution_count": null,
   "id": "e6fccf2a-99b9-477c-b4ad-6f0edca24f4e",
   "metadata": {},
   "outputs": [],
   "source": []
  }
 ],
 "metadata": {
  "kernelspec": {
   "display_name": "Python 3 (ipykernel)",
   "language": "python",
   "name": "python3"
  },
  "language_info": {
   "codemirror_mode": {
    "name": "ipython",
    "version": 3
   },
   "file_extension": ".py",
   "mimetype": "text/x-python",
   "name": "python",
   "nbconvert_exporter": "python",
   "pygments_lexer": "ipython3",
   "version": "3.11.7"
  }
 },
 "nbformat": 4,
 "nbformat_minor": 5
}
