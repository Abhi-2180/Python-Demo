{
 "cells": [
  {
   "cell_type": "code",
   "execution_count": null,
   "id": "3f3341b3-c659-434f-810e-4ada44d345ba",
   "metadata": {},
   "outputs": [],
   "source": [
    "#### Python divided into 3 types ###\n",
    "--- Basics\n",
    "1 Variables\n",
    "2 Data Typres\n",
    "3 Type Conversions\n",
    "4 Eval Input\n",
    "5 Packages\n",
    "6 Conditional Statements\n",
    "7 Try-Except\n",
    "8 Functions\n",
    "9 For\n",
    "10 While\n",
    "\n",
    "\n",
    "\n",
    "--------- INTERMEDIATE PART ---------------\n",
    "11 Strings\n",
    "12 Lists\n",
    "13 Dictionary\n",
    "14 Tuples\n",
    "15 Sets\n",
    "16 Lambda Functions\n",
    "17 File Handling sessions \n",
    "\n",
    "\n",
    "\n",
    "\n",
    "--------Advanced----------------\n",
    "18 OOPS"
   ]
  },
  {
   "cell_type": "code",
   "execution_count": null,
   "id": "becd1887-85a6-4aea-b93a-4e611cf693cb",
   "metadata": {},
   "outputs": [],
   "source": []
  },
  {
   "cell_type": "code",
   "execution_count": null,
   "id": "4db0767c-b44f-4c49-98f8-acaf75eb3c57",
   "metadata": {},
   "outputs": [],
   "source": [
    "===============PaRT-1==============\n",
    "- Initializaton\n",
    "- Type\n",
    "- len\n",
    "- max\n",
    "- min\n",
    "- sorted\n",
    "- reversed\n",
    "- in\n",
    "- for loop using in\n",
    "- index\n",
    "- for loop using index\n",
    "- mutable\n",
    "- Concatination\n",
    "\n",
    "=============part 2 =================\n",
    "\n",
    "- methods\n"
   ]
  },
  {
   "cell_type": "markdown",
   "id": "187e056d-8fa1-427b-8bfc-bd7eca6349b6",
   "metadata": {},
   "source": [
    "**Initialization**"
   ]
  },
  {
   "cell_type": "code",
   "execution_count": 4,
   "id": "ab9b2814-5f4e-4c30-9a2a-9cbb67fbd4bd",
   "metadata": {},
   "outputs": [
    {
     "name": "stdout",
     "output_type": "stream",
     "text": [
      "python\n"
     ]
    }
   ],
   "source": [
    "str1='python'\n",
    "str2=\"python\"\n",
    "str1\n",
    "str2\n",
    "print(str1)"
   ]
  },
  {
   "cell_type": "markdown",
   "id": "c4092559-580e-4b04-b77a-1233babf2064",
   "metadata": {},
   "source": [
    "**NOTE**\n",
    "\n",
    "- If we give single quotes or double quotes by default it provides in single quote\n",
    "- If we print the string  we will get answer without \n",
    "- Triple quotes are used fro doc atring\n",
    "- INORDER TO CONVEY THE INFORMATION ABOUT COING PART WE USE DOC STRING\n",
    "- Anything inside single or double quotes is string in puthon"
   ]
  },
  {
   "cell_type": "markdown",
   "id": "6e2b1f95-13d6-42e2-b46d-366183596aab",
   "metadata": {},
   "source": [
    "**Triple Quotes**"
   ]
  },
  {
   "cell_type": "code",
   "execution_count": 10,
   "id": "cc966e4e-774a-449d-85fd-fb08fbfbe934",
   "metadata": {},
   "outputs": [
    {
     "data": {
      "text/plain": [
       "'Hii How are You\\n\\n        Im Good'"
      ]
     },
     "execution_count": 10,
     "metadata": {},
     "output_type": "execute_result"
    }
   ],
   "source": [
    "str3=\"\"\"Hii How are You\n",
    "        Im Good\"\"\"\n",
    "str3"
   ]
  },
  {
   "cell_type": "markdown",
   "id": "ab8107c1-3d14-4c38-8b4f-32a3559a6f9b",
   "metadata": {},
   "source": [
    "**TYPE**"
   ]
  },
  {
   "cell_type": "code",
   "execution_count": 8,
   "id": "fb16e628-7fdd-4896-a52d-749757e82eb4",
   "metadata": {},
   "outputs": [
    {
     "data": {
      "text/plain": [
       "str"
      ]
     },
     "execution_count": 8,
     "metadata": {},
     "output_type": "execute_result"
    }
   ],
   "source": [
    "type(str1) ## Gives type of string"
   ]
  },
  {
   "cell_type": "code",
   "execution_count": 11,
   "id": "723d973f-790f-4a9f-992a-5b0bbdee6530",
   "metadata": {},
   "outputs": [
    {
     "data": {
      "text/plain": [
       "str"
      ]
     },
     "execution_count": 11,
     "metadata": {},
     "output_type": "execute_result"
    }
   ],
   "source": [
    "str3='10'\n",
    "str4='10.5'\n",
    "str5='true'\n",
    "type(str4)"
   ]
  },
  {
   "cell_type": "markdown",
   "id": "20998b3b-8dff-49c7-91d2-210d20f9af4f",
   "metadata": {},
   "source": [
    "**length**"
   ]
  },
  {
   "cell_type": "code",
   "execution_count": null,
   "id": "5a2f5134-fc73-4fbe-835e-13099d8189e8",
   "metadata": {},
   "outputs": [],
   "source": [
    "str1='python'\n",
    "len(str)"
   ]
  },
  {
   "cell_type": "markdown",
   "id": "e5320ffe-1af6-4f90-b667-f1c98eec290e",
   "metadata": {},
   "source": [
    "**MAX AND MIN**"
   ]
  },
  {
   "cell_type": "code",
   "execution_count": 12,
   "id": "227a27c0-0da1-4b19-a30b-ec0c5a96bed3",
   "metadata": {},
   "outputs": [
    {
     "data": {
      "text/plain": [
       "'Y'"
      ]
     },
     "execution_count": 12,
     "metadata": {},
     "output_type": "execute_result"
    }
   ],
   "source": [
    "str1='PYTHON'\n",
    "max(str1)"
   ]
  },
  {
   "cell_type": "code",
   "execution_count": 13,
   "id": "e9325e78-e1f2-4c59-8566-b890582b97e7",
   "metadata": {},
   "outputs": [
    {
     "data": {
      "text/plain": [
       "(112, 121, 116, 104, 111, 110)"
      ]
     },
     "execution_count": 13,
     "metadata": {},
     "output_type": "execute_result"
    }
   ],
   "source": [
    "ord('p'),ord('y'),ord('t'),ord('h'),ord('o'),ord('n')"
   ]
  },
  {
   "cell_type": "code",
   "execution_count": 15,
   "id": "8837ae30-9e54-4271-bec2-0648a46bb3b9",
   "metadata": {},
   "outputs": [
    {
     "data": {
      "text/plain": [
       "'h'"
      ]
     },
     "execution_count": 15,
     "metadata": {},
     "output_type": "execute_result"
    }
   ],
   "source": [
    "str1='python'\n",
    "min(str1)"
   ]
  },
  {
   "cell_type": "markdown",
   "id": "696ccd33-7d4b-4cb1-99da-2671435c5a58",
   "metadata": {},
   "source": [
    "**KEYWORDS v\\s METHODS**"
   ]
  },
  {
   "cell_type": "markdown",
   "id": "5861566a-feef-4f09-8854-c7971ca25549",
   "metadata": {},
   "source": [
    "type(<>)\n",
    "print(<>)\n",
    "len(<>)\n",
    "max(<>)\n",
    "min(<>)\n",
    "eval(<>)\n",
    "input(<>)\n",
    "sum(<>)"
   ]
  },
  {
   "cell_type": "markdown",
   "id": "a53f4768-7096-4656-9df0-96470e3a5d9f",
   "metadata": {},
   "source": [
    "- in order to use methd we need to call packaage\n",
    "\n",
    "import random\n",
    "random.randint()"
   ]
  },
  {
   "cell_type": "markdown",
   "id": "0fbcecad-41e8-48a0-b023-9cdff2895c17",
   "metadata": {},
   "source": [
    "**SUM**"
   ]
  },
  {
   "cell_type": "code",
   "execution_count": 17,
   "id": "7d057de5-c316-481b-9621-5bf398a0f886",
   "metadata": {},
   "outputs": [
    {
     "ename": "TypeError",
     "evalue": "unsupported operand type(s) for +: 'int' and 'str'",
     "output_type": "error",
     "traceback": [
      "\u001b[1;31m---------------------------------------------------------------------------\u001b[0m",
      "\u001b[1;31mTypeError\u001b[0m                                 Traceback (most recent call last)",
      "Cell \u001b[1;32mIn[17], line 2\u001b[0m\n\u001b[0;32m      1\u001b[0m str1\u001b[38;5;241m=\u001b[39m\u001b[38;5;124m'\u001b[39m\u001b[38;5;124mpython\u001b[39m\u001b[38;5;124m'\u001b[39m\n\u001b[1;32m----> 2\u001b[0m \u001b[38;5;28msum\u001b[39m(str1)\n",
      "\u001b[1;31mTypeError\u001b[0m: unsupported operand type(s) for +: 'int' and 'str'"
     ]
    }
   ],
   "source": [
    "str1='python'\n",
    "sum(str1)"
   ]
  },
  {
   "cell_type": "code",
   "execution_count": 18,
   "id": "8ff48e9c-ac4f-46fe-8dc8-e1db9ec38dad",
   "metadata": {},
   "outputs": [
    {
     "data": {
      "text/plain": [
       "'py'"
      ]
     },
     "execution_count": 18,
     "metadata": {},
     "output_type": "execute_result"
    }
   ],
   "source": [
    "'p'+'y'"
   ]
  },
  {
   "cell_type": "code",
   "execution_count": 19,
   "id": "47485422-d473-4f31-974a-6b4ef25f2e9e",
   "metadata": {},
   "outputs": [
    {
     "data": {
      "text/plain": [
       "6"
      ]
     },
     "execution_count": 19,
     "metadata": {},
     "output_type": "execute_result"
    }
   ],
   "source": [
    "sum([1,2,3])"
   ]
  },
  {
   "cell_type": "markdown",
   "id": "cb251198-6d03-44de-b973-61aeb94e8f47",
   "metadata": {},
   "source": [
    "**SORTED**"
   ]
  },
  {
   "cell_type": "code",
   "execution_count": 21,
   "id": "bbb9d5d0-b5aa-464d-b8ff-0abfb72d34d7",
   "metadata": {},
   "outputs": [
    {
     "data": {
      "text/plain": [
       "6"
      ]
     },
     "execution_count": 21,
     "metadata": {},
     "output_type": "execute_result"
    }
   ],
   "source": [
    "max('python')\n",
    "min('python')\n",
    "len('python')\n"
   ]
  },
  {
   "cell_type": "code",
   "execution_count": 22,
   "id": "7c527816-8384-4e30-83ee-35339e1c8a9a",
   "metadata": {},
   "outputs": [
    {
     "data": {
      "text/plain": [
       "['h', 'n', 'o', 'p', 't', 'y']"
      ]
     },
     "execution_count": 22,
     "metadata": {},
     "output_type": "execute_result"
    }
   ],
   "source": [
    "sorted('python')"
   ]
  },
  {
   "cell_type": "markdown",
   "id": "754de713-61f5-478d-81fc-fdf61b4cab16",
   "metadata": {},
   "source": [
    "- Sorted fives ascending order based on ASCII numbers \n",
    "- sorted is a kind of function\n",
    "- every function we have arguments\n",
    "- In that one default argument is **Reverse=False**\n",
    "- By default sorted output gives **Ascendong order**\n",
    "- We can change the order by provoding reverse=false\n",
    "- If we dont give it will give default answer"
   ]
  },
  {
   "cell_type": "code",
   "execution_count": 23,
   "id": "f32b1309-2605-4fb8-a4e5-b52462320ac0",
   "metadata": {},
   "outputs": [
    {
     "data": {
      "text/plain": [
       "['y', 't', 'p', 'o', 'n', 'h']"
      ]
     },
     "execution_count": 23,
     "metadata": {},
     "output_type": "execute_result"
    }
   ],
   "source": [
    "sorted('python', reverse=True)"
   ]
  },
  {
   "cell_type": "code",
   "execution_count": 24,
   "id": "04615b38-5fb5-4be7-90c6-e3aed400aba0",
   "metadata": {},
   "outputs": [
    {
     "data": {
      "text/plain": [
       "(10+20j)"
      ]
     },
     "execution_count": 24,
     "metadata": {},
     "output_type": "execute_result"
    }
   ],
   "source": [
    "complex(10,20)"
   ]
  },
  {
   "cell_type": "code",
   "execution_count": 25,
   "id": "3ce01a75-66f7-494c-ab21-f3426270cf31",
   "metadata": {},
   "outputs": [
    {
     "data": {
      "text/plain": [
       "(10+30j)"
      ]
     },
     "execution_count": 25,
     "metadata": {},
     "output_type": "execute_result"
    }
   ],
   "source": [
    "complex(real=10,imag=30)"
   ]
  },
  {
   "cell_type": "markdown",
   "id": "d6977e47-28eb-45ce-9ad2-32b4ed6bc2d1",
   "metadata": {},
   "source": [
    "function() #Answwer\n",
    "function(a,b) # THis might return error, if we dont give values of a,b\n",
    "function(a=10,b=20) #Answer"
   ]
  },
  {
   "cell_type": "code",
   "execution_count": 1,
   "id": "aa611839-0229-47b2-ab62-b924406c7178",
   "metadata": {},
   "outputs": [
    {
     "data": {
      "text/plain": [
       "0.5511151082856841"
      ]
     },
     "execution_count": 1,
     "metadata": {},
     "output_type": "execute_result"
    }
   ],
   "source": [
    "import random\n",
    "random.random() # we will get answer but answer is not in our hands"
   ]
  },
  {
   "cell_type": "code",
   "execution_count": 2,
   "id": "0faee0a2-040d-4dae-b557-0703581da11f",
   "metadata": {},
   "outputs": [
    {
     "data": {
      "text/plain": [
       "12"
      ]
     },
     "execution_count": 2,
     "metadata": {},
     "output_type": "execute_result"
    }
   ],
   "source": [
    "import random\n",
    "random.randint(10,20) # Answer we can change"
   ]
  },
  {
   "cell_type": "code",
   "execution_count": 3,
   "id": "0856f35a-7e7d-4ab3-991c-3804e3c2191e",
   "metadata": {},
   "outputs": [
    {
     "data": {
      "text/plain": [
       "0j"
      ]
     },
     "execution_count": 3,
     "metadata": {},
     "output_type": "execute_result"
    }
   ],
   "source": [
    "complex() # By default 0,0\n"
   ]
  },
  {
   "cell_type": "code",
   "execution_count": 4,
   "id": "06e6e5f6-7de2-4fb3-b3ba-df2c9c9d7a54",
   "metadata": {},
   "outputs": [
    {
     "data": {
      "text/plain": [
       "(10+20j)"
      ]
     },
     "execution_count": 4,
     "metadata": {},
     "output_type": "execute_result"
    }
   ],
   "source": [
    "complex(10,20)\n"
   ]
  },
  {
   "cell_type": "code",
   "execution_count": null,
   "id": "4b0364cf-d951-4070-af70-7435d85b6048",
   "metadata": {},
   "outputs": [],
   "source": [
    "random.randint(a=10,b=30) # Anaswer\n"
   ]
  },
  {
   "cell_type": "code",
   "execution_count": null,
   "id": "d3ed75d9-3707-495f-a996-531ad1031aca",
   "metadata": {},
   "outputs": [],
   "source": [
    "sorted(iterable='python') # Error\n",
    "random.randint(a=10,b=30) # Anaswer"
   ]
  },
  {
   "cell_type": "code",
   "execution_count": null,
   "id": "44212faa-878a-4090-8945-929c6590c3b0",
   "metadata": {},
   "outputs": [],
   "source": [
    "sorted('python') # Anaswer\n",
    "sorted('python',reverse=True)\n"
   ]
  },
  {
   "cell_type": "markdown",
   "id": "1da9cfa6-3ebd-4732-b61a-0273c319128f",
   "metadata": {},
   "source": [
    "**Note**\n",
    "- we have arguments before / and after slash\n",
    "- we can use the argument names after / only\n",
    "- For example sorted has two arguments one is iterable and another one is reverse \n",
    "- iterbale is mentioned before / symbol\n",
    "- reverse is mentioned after / symbol\n",
    "- so we can use only reverse argument name while we are doing the work\n",
    "- we can not use iterable argument name\n",
    "- Instead of using iterable name , we can provide direct value at that posistion"
   ]
  },
  {
   "cell_type": "markdown",
   "id": "d133909e-c4ab-4e21-8bcf-9e9db9fdde74",
   "metadata": {},
   "source": [
    "**REVERSED**"
   ]
  },
  {
   "cell_type": "code",
   "execution_count": null,
   "id": "0909a756-1954-430c-8a9d-40405bd1065a",
   "metadata": {},
   "outputs": [],
   "source": [
    "type()\n",
    "len()\n",
    "max()\n",
    "min()\n",
    "print()\n",
    "sorted()"
   ]
  },
  {
   "cell_type": "code",
   "execution_count": 7,
   "id": "6c2de32d-f28a-4883-ad83-a5a5b07f89a5",
   "metadata": {},
   "outputs": [
    {
     "data": {
      "text/plain": [
       "<reversed at 0x23fcfe9b2b0>"
      ]
     },
     "execution_count": 7,
     "metadata": {},
     "output_type": "execute_result"
    }
   ],
   "source": [
    "reversed('python')"
   ]
  },
  {
   "cell_type": "code",
   "execution_count": 8,
   "id": "5817f2c5-2a75-49dc-ab5f-a10358d260ec",
   "metadata": {},
   "outputs": [
    {
     "name": "stdout",
     "output_type": "stream",
     "text": [
      "d\n",
      "c\n",
      "y\n",
      "z\n",
      "a\n"
     ]
    }
   ],
   "source": [
    "str1='azycd'\n",
    "output=reversed(str1)\n",
    "for i in output:\n",
    " print(i)\n"
   ]
  },
  {
   "cell_type": "code",
   "execution_count": null,
   "id": "71872e09-fdec-4fcd-8a2b-689fd7dc7ad4",
   "metadata": {},
   "outputs": [],
   "source": [
    "# sorted()\n",
    "# It will provide the acsending or desscing values\n",
    "\n",
    "sorted('Abhishek')\n",
    "\n",
    "# Default behavior : Ascending\n"
   ]
  },
  {
   "cell_type": "code",
   "execution_count": 9,
   "id": "1bc7d0be-c5ca-473f-bc2a-355ef76dd540",
   "metadata": {},
   "outputs": [
    {
     "name": "stdout",
     "output_type": "stream",
     "text": [
      "k\n",
      "e\n",
      "h\n",
      "s\n",
      "i\n",
      "h\n",
      "b\n",
      "A\n"
     ]
    }
   ],
   "source": [
    "for i in reversed('Abhishek'):\n",
    "    print(i)"
   ]
  },
  {
   "cell_type": "code",
   "execution_count": 11,
   "id": "9e4c5c50-8ca3-41bd-8f44-c58950a81ab8",
   "metadata": {},
   "outputs": [
    {
     "data": {
      "text/plain": [
       "[1, 2, 3, 4, 5]"
      ]
     },
     "execution_count": 11,
     "metadata": {},
     "output_type": "execute_result"
    }
   ],
   "source": [
    "sorted([1,2,3,4,5])\n"
   ]
  },
  {
   "cell_type": "code",
   "execution_count": 15,
   "id": "02215581-35a7-4acb-ab89-40b0c36027bf",
   "metadata": {},
   "outputs": [
    {
     "data": {
      "text/plain": [
       "[5, 4, 3, 2, 1]"
      ]
     },
     "execution_count": 15,
     "metadata": {},
     "output_type": "execute_result"
    }
   ],
   "source": [
    "sorted([1,2,3,4,5],reverse=True)"
   ]
  },
  {
   "cell_type": "code",
   "execution_count": null,
   "id": "1dce8551-7282-4a63-b5dc-f64a376a8b16",
   "metadata": {},
   "outputs": [],
   "source": []
  },
  {
   "cell_type": "code",
   "execution_count": null,
   "id": "e6e320b5-6522-4ee7-a14f-71df6c2349d7",
   "metadata": {},
   "outputs": [],
   "source": []
  },
  {
   "cell_type": "code",
   "execution_count": 16,
   "id": "6e0c2e0b-b8d9-4f14-8f6d-bdcc03623579",
   "metadata": {},
   "outputs": [
    {
     "name": "stdout",
     "output_type": "stream",
     "text": [
      "a\n",
      "z\n",
      "y\n",
      "c\n",
      "d\n"
     ]
    }
   ],
   "source": [
    "for i in str1:\n",
    "    print(i)"
   ]
  },
  {
   "cell_type": "markdown",
   "id": "5bdb84a3-47a0-4565-96fb-99b8d141a6c4",
   "metadata": {},
   "source": [
    "**NOTE**\n",
    "\n",
    "- In operator directly access the letters"
   ]
  },
  {
   "cell_type": "code",
   "execution_count": 18,
   "id": "cd0e7b8a-b756-4005-b427-c6ed4908322a",
   "metadata": {},
   "outputs": [],
   "source": [
    "#Q1 WAP ask the user count how many a are present is a string\n",
    "# str1='Hi Naresh How are you'\n",
    "\n",
    "str1='Hii Naresh How are you'\n",
    "count=0\n",
    "for i in str1:\n",
    "    if i=='a':\n",
    "        count=count+1\n",
    "\n",
    "# step1:    i=h h==!a false\n",
    "# step2:    i=a a==a TRue   count=0+1=1\n"
   ]
  },
  {
   "cell_type": "code",
   "execution_count": 28,
   "id": "b3b8b870-3f47-4911-b0db-fd606813ef74",
   "metadata": {},
   "outputs": [
    {
     "name": "stdout",
     "output_type": "stream",
     "text": [
      "The count is 9\n"
     ]
    }
   ],
   "source": [
    "#2 Wap ask to find vowels in a string\n",
    "str1='Hii Naresh How are you'\n",
    "count=0\n",
    "for i in str1:\n",
    "     if i=='a' or  i=='e'or  i=='i' or i=='o'or i=='u' :\n",
    "        count=count+1\n",
    "print(\"The count is\",count)"
   ]
  },
  {
   "cell_type": "code",
   "execution_count": 26,
   "id": "da15f6d1-810b-4caa-866b-f3f864498c6b",
   "metadata": {},
   "outputs": [
    {
     "name": "stdout",
     "output_type": "stream",
     "text": [
      "The count is: 9\n"
     ]
    }
   ],
   "source": [
    "str1='Hii Naresh How are you'\n",
    "count=0\n",
    "for i in str1:\n",
    "     if i in 'aeiou':\n",
    "        count=count+1\n",
    "print(\"The count is:\",count)"
   ]
  },
  {
   "cell_type": "code",
   "execution_count": 43,
   "id": "0970dcf9-234c-472f-9016-29bd519ed3a1",
   "metadata": {},
   "outputs": [
    {
     "name": "stdout",
     "output_type": "stream",
     "text": [
      "The count is: 9\n"
     ]
    }
   ],
   "source": [
    "count=0\n",
    "str1='Hii Naresh How are you'\n",
    "str2=''\n",
    "for i in str1:\n",
    "     str2=str2+i\n",
    "     if i in 'aeiou':\n",
    "      count=count+1\n",
    "print(\"The count is:\",count)"
   ]
  },
  {
   "cell_type": "markdown",
   "id": "c005e0f7-d653-4dbb-b712-b9bd5324b575",
   "metadata": {},
   "source": [
    "**String Concatenation**"
   ]
  },
  {
   "cell_type": "code",
   "execution_count": 35,
   "id": "bbe8b458-7cb5-452d-9228-99db3eb4606f",
   "metadata": {},
   "outputs": [
    {
     "data": {
      "text/plain": [
       "'Hello  Morning'"
      ]
     },
     "execution_count": 35,
     "metadata": {},
     "output_type": "execute_result"
    }
   ],
   "source": [
    "s1='Hello '\n",
    "s2=' Morning'\n",
    "s1+s2"
   ]
  },
  {
   "cell_type": "markdown",
   "id": "4f103c1b-cff7-4467-bcc9-35853a8a0a24",
   "metadata": {},
   "source": [
    "**INDEX**\n",
    "\n",
    "- Index is a  number attached to a number\n",
    "-  In python index start wit a 0\n",
    "-  two direction : Positive and Negative\n",
    "   - Positive : starts from 0\n",
    "    - Negative : starts from 0 in - direction"
   ]
  },
  {
   "cell_type": "markdown",
   "id": "fc8e3f25-2779-42ff-9ced-a7c3b2d76c9d",
   "metadata": {},
   "source": [
    "s1='python'\n",
    "\n",
    "-6 -5 -4 -3 -2 -1 \n",
    "p   y  t  h  o  n \n",
    "0   1  2  3  4  5 \n",
    "\n"
   ]
  },
  {
   "cell_type": "code",
   "execution_count": 37,
   "id": "e5374329-6bce-40cb-861e-1ab4f4ad3c3c",
   "metadata": {},
   "outputs": [
    {
     "data": {
      "text/plain": [
       "'n'"
      ]
     },
     "execution_count": 37,
     "metadata": {},
     "output_type": "execute_result"
    }
   ],
   "source": [
    "s1='python'\n",
    "s1[5]"
   ]
  },
  {
   "cell_type": "code",
   "execution_count": null,
   "id": "dab0b73d-21ba-4e32-9881-205d090d78d2",
   "metadata": {},
   "outputs": [],
   "source": [
    "Home work qn\n",
    "# str1='hai naresh how are you'\n",
    "# Repetaed vowels are there\n",
    "# We dont want repetaed vowels\n",
    "# Count the vowels avoid the repeatition: Unique vowels\n",
    "# Step-1: Count=0\n",
    "# Step-2: take one more empty string: ex= s2=''\n",
    "s2=''\n",
    "# Step-3: using for loop in operator iterate through given string\n",
    "# step-4: condition-1: That letter shoud not avaialble in s2\n",
    "# step-5 condition-2: vowel check condition\n",
    "# step-6 count=count+1\n",
    "# step-7: update the s2= s2=s2+<letter>"
   ]
  },
  {
   "cell_type": "markdown",
   "id": "4193d411-c813-460b-9778-e2f3863b8c34",
   "metadata": {},
   "source": [
    "**MUTABLE-IMMUTABLE**\n",
    "\n",
    "- mutable: can change\n",
    "- immutale: cant change"
   ]
  },
  {
   "cell_type": "code",
   "execution_count": 1,
   "id": "8b0055df-74c8-44c3-8e57-264c6fca3f15",
   "metadata": {},
   "outputs": [
    {
     "ename": "TypeError",
     "evalue": "'str' object does not support item assignment",
     "output_type": "error",
     "traceback": [
      "\u001b[1;31m---------------------------------------------------------------------------\u001b[0m",
      "\u001b[1;31mTypeError\u001b[0m                                 Traceback (most recent call last)",
      "Cell \u001b[1;32mIn[1], line 3\u001b[0m\n\u001b[0;32m      1\u001b[0m s\u001b[38;5;241m=\u001b[39m\u001b[38;5;124m'\u001b[39m\u001b[38;5;124mwelcome\u001b[39m\u001b[38;5;124m'\u001b[39m\n\u001b[0;32m      2\u001b[0m \u001b[38;5;66;03m#Replace L with l \u001b[39;00m\n\u001b[1;32m----> 3\u001b[0m s[\u001b[38;5;241m2\u001b[39m]\u001b[38;5;241m=\u001b[39m\u001b[38;5;124m'\u001b[39m\u001b[38;5;124mL\u001b[39m\u001b[38;5;124m'\u001b[39m\n",
      "\u001b[1;31mTypeError\u001b[0m: 'str' object does not support item assignment"
     ]
    }
   ],
   "source": [
    "s='welcome'\n",
    "#Replace L with l \n",
    "s[2]='L'"
   ]
  },
  {
   "cell_type": "code",
   "execution_count": null,
   "id": "937745ad-f8d9-42f0-8439-17bed83ab97d",
   "metadata": {},
   "outputs": [],
   "source": [
    "- Range belongs ito which family\n",
    "    - math \n",
    "- Inside range bracket what we need to provide\n",
    "    - number\n",
    "- How many numbers we provide\n",
    "    - No of letter : len(str)\n",
    "- How to access the letter using number\n",
    "    - by using index\n",
    "\n"
   ]
  },
  {
   "cell_type": "code",
   "execution_count": 3,
   "id": "84460da4-93c6-4fe5-8e15-4eec0ba889c1",
   "metadata": {},
   "outputs": [
    {
     "name": "stdout",
     "output_type": "stream",
     "text": [
      "w\n",
      "e\n",
      "l\n",
      "c\n",
      "o\n",
      "m\n",
      "e\n"
     ]
    }
   ],
   "source": [
    "#Q4 print each letter using loops \n",
    "\n",
    "s='welcome'\n",
    "for i in range(7):\n",
    "    print(s[i])\n",
    "#i=0 s[0]=w\n",
    "#i=1 s[1]=e"
   ]
  },
  {
   "cell_type": "code",
   "execution_count": 4,
   "id": "0171e7db-4c81-4c5b-9535-70d2dea6b323",
   "metadata": {},
   "outputs": [
    {
     "name": "stdout",
     "output_type": "stream",
     "text": [
      "w\n",
      "e\n",
      "l\n",
      "c\n",
      "o\n",
      "m\n",
      "e\n",
      " \n",
      "t\n",
      "o\n",
      " \n",
      "n\n",
      "a\n",
      "r\n",
      "e\n",
      "s\n",
      "h\n",
      " \n",
      "I\n",
      "T\n"
     ]
    }
   ],
   "source": [
    "s='welcome to naresh IT'\n",
    "n=len(s)\n",
    "for i in range(n):\n",
    "    print(s[i])\n"
   ]
  },
  {
   "cell_type": "markdown",
   "id": "73a00ee2-77ea-473a-a9a7-f547d9ae4c14",
   "metadata": {},
   "source": [
    "- **for-in** directly access the letters\n",
    "- **for-range** will access using index"
   ]
  },
  {
   "cell_type": "code",
   "execution_count": null,
   "id": "ac0c9ba5-0dd2-4fbd-89d8-89a830c7ea78",
   "metadata": {},
   "outputs": [],
   "source": [
    "# Q5 wap ask user to iterate using a string\n",
    "# print positive index of w is 0\n",
    "# print positive index of e is 1"
   ]
  },
  {
   "cell_type": "code",
   "execution_count": 11,
   "id": "76a6aca5-5f8c-48f1-ad92-48b92f8e3384",
   "metadata": {},
   "outputs": [
    {
     "name": "stdout",
     "output_type": "stream",
     "text": [
      "0 w\n",
      "The positive index of w is 0\n",
      "1 e\n",
      "The positive index of e is 1\n",
      "2 l\n",
      "The positive index of l is 2\n",
      "3 c\n",
      "The positive index of c is 3\n",
      "4 o\n",
      "The positive index of o is 4\n",
      "5 m\n",
      "The positive index of m is 5\n",
      "6 e\n",
      "The positive index of e is 6\n"
     ]
    }
   ],
   "source": [
    "s='welcome'\n",
    "for i in range(len(s)):\n",
    "    print(i,s[i])\n",
    "    print(f'The positive index of {s[i]} is {i}')"
   ]
  },
  {
   "cell_type": "code",
   "execution_count": 12,
   "id": "194184d8-3965-48b5-9614-26463aff497c",
   "metadata": {},
   "outputs": [
    {
     "name": "stdout",
     "output_type": "stream",
     "text": [
      "0 -7\n",
      "The negative index of w is 0\n",
      "1 -6\n",
      "The negative index of e is 1\n",
      "2 -5\n",
      "The negative index of l is 2\n",
      "3 -4\n",
      "The negative index of c is 3\n",
      "4 -3\n",
      "The negative index of o is 4\n",
      "5 -2\n",
      "The negative index of m is 5\n",
      "6 -1\n",
      "The negative index of e is 6\n"
     ]
    }
   ],
   "source": [
    "s='welcome'\n",
    "for i in range(len(s)):\n",
    "    print(i,i-len(s))\n",
    "    print(f'The negative index of {s[i]} is {i}')"
   ]
  },
  {
   "cell_type": "code",
   "execution_count": 14,
   "id": "f9d5ade9-7feb-4dc3-9f5e-7ed1700202d8",
   "metadata": {},
   "outputs": [
    {
     "name": "stdout",
     "output_type": "stream",
     "text": [
      "0 -7\n",
      "The positive index is  0 and the negative index of -7 for w\n",
      "\n",
      "1 -6\n",
      "The positive index is  1 and the negative index of -6 for e\n",
      "\n",
      "2 -5\n",
      "The positive index is  2 and the negative index of -5 for l\n",
      "\n",
      "3 -4\n",
      "The positive index is  3 and the negative index of -4 for c\n",
      "\n",
      "4 -3\n",
      "The positive index is  4 and the negative index of -3 for o\n",
      "\n",
      "5 -2\n",
      "The positive index is  5 and the negative index of -2 for m\n",
      "\n",
      "6 -1\n",
      "The positive index is  6 and the negative index of -1 for e\n",
      "\n"
     ]
    }
   ],
   "source": [
    "s='welcome'\n",
    "for i in range(len(s)):\n",
    "    print(i,i-len(s))\n",
    "    print(f'The positive index is  {i} and the negative index of {i-len(s)} for {s[i]}')\n",
    "    print(f'')"
   ]
  },
  {
   "cell_type": "code",
   "execution_count": 2,
   "id": "75cdb001-045f-4fa7-998a-369235b2ca6f",
   "metadata": {},
   "outputs": [
    {
     "name": "stdout",
     "output_type": "stream",
     "text": [
      "1\n",
      "8\n",
      "18\n",
      "a\n",
      "a\n",
      "a\n"
     ]
    }
   ],
   "source": [
    "#Q8) wap ask the user get the index of each 'a' in a given string\n",
    "# s='hai how are you i am good'\n",
    "# a=1 8 18\n",
    "s='hai how are you i am good'\n",
    "for i in range(len(s)):\n",
    "    if s[i]=='a':\n",
    "        print(i)\n",
    "s='hai how are you i am good'\n",
    "for i in s:\n",
    "    if i=='a':\n",
    "        print(i)"
   ]
  },
  {
   "cell_type": "code",
   "execution_count": 4,
   "id": "6326c00b-81fa-4ad5-b7f3-78680f2981bf",
   "metadata": {},
   "outputs": [
    {
     "data": {
      "text/plain": [
       "3"
      ]
     },
     "execution_count": 4,
     "metadata": {},
     "output_type": "execute_result"
    }
   ],
   "source": [
    "#Q9) wap ask the user to get count of number of 'a' in a given string\n",
    "# using for-range\n",
    "s='hai how are you i am good'\n",
    "count=0\n",
    "for i in range(len(s)):\n",
    "    if s[i]=='a':\n",
    "        count=count+1\n",
    "count\n"
   ]
  },
  {
   "cell_type": "code",
   "execution_count": 11,
   "id": "2f2421d2-8b46-4a08-bd9c-1dcbfa86871a",
   "metadata": {},
   "outputs": [
    {
     "ename": "NameError",
     "evalue": "name 'summ' is not defined",
     "output_type": "error",
     "traceback": [
      "\u001b[1;31m---------------------------------------------------------------------------\u001b[0m",
      "\u001b[1;31mNameError\u001b[0m                                 Traceback (most recent call last)",
      "Cell \u001b[1;32mIn[11], line 7\u001b[0m\n\u001b[0;32m      5\u001b[0m \u001b[38;5;28;01mfor\u001b[39;00m i \u001b[38;5;129;01min\u001b[39;00m \u001b[38;5;28mrange\u001b[39m(\u001b[38;5;28mlen\u001b[39m(s)):\n\u001b[0;32m      6\u001b[0m     \u001b[38;5;28;01mif\u001b[39;00m s[i]\u001b[38;5;241m==\u001b[39m\u001b[38;5;124m'\u001b[39m\u001b[38;5;124ma\u001b[39m\u001b[38;5;124m'\u001b[39m:\n\u001b[1;32m----> 7\u001b[0m         summ\u001b[38;5;241m=\u001b[39msumm\u001b[38;5;241m+\u001b[39mi\n\u001b[0;32m      8\u001b[0m summ\n",
      "\u001b[1;31mNameError\u001b[0m: name 'summ' is not defined"
     ]
    }
   ],
   "source": [
    "#Q10) wap ask the user get the sum of all index numbers of 'a'\n",
    "# 1+8+18= 27\n",
    "s='hai how are you i am good'\n",
    "count=0\n",
    "for i in range(len(s)):\n",
    "    if s[i]=='a':\n",
    "        summ=summ+i\n",
    "summ\n"
   ]
  },
  {
   "cell_type": "code",
   "execution_count": 9,
   "id": "ab139b45-63e2-4005-a45b-e63673a9a125",
   "metadata": {},
   "outputs": [
    {
     "name": "stdout",
     "output_type": "stream",
     "text": [
      "a\n",
      "i\n",
      "o\n",
      "a\n",
      "e\n",
      "o\n",
      "u\n",
      "i\n",
      "a\n",
      "o\n",
      "o\n",
      "The number of vowels are: 11\n"
     ]
    }
   ],
   "source": [
    "#Q11) wap ask the user get the vowels from a given string using for-range\n",
    "s='hai how are you i am good'\n",
    "count=0\n",
    "for i in range(len(s)):\n",
    "    if s[i] in 'aeiou':\n",
    "        print(s[i])\n",
    "        count=count+1\n",
    "print(\"The number of vowels are:\",count)\n"
   ]
  },
  {
   "cell_type": "code",
   "execution_count": 13,
   "id": "917c5566-1ddd-44b1-be25-2ffd6a4f72ae",
   "metadata": {},
   "outputs": [
    {
     "name": "stdout",
     "output_type": "stream",
     "text": [
      "The number of vowels are: 0\n",
      "i\n",
      "The number of vowels are: 1\n",
      "The number of vowels are: 1\n",
      "The number of vowels are: 1\n",
      "o\n",
      "The number of vowels are: 2\n",
      "The number of vowels are: 2\n",
      "The number of vowels are: 2\n",
      "The number of vowels are: 2\n",
      "e\n",
      "The number of vowels are: 3\n",
      "The number of vowels are: 3\n",
      "The number of vowels are: 3\n",
      "u\n",
      "The number of vowels are: 4\n",
      "The number of vowels are: 4\n",
      "The number of vowels are: 4\n",
      "The number of vowels are: 4\n",
      "The number of vowels are: 4\n",
      "The number of vowels are: 4\n",
      "The number of vowels are: 4\n"
     ]
    }
   ],
   "source": [
    "#Q12) wap ask the user get the vowels from a given string using for-range\n",
    "s='hi how re you i m good'\n",
    "s1=''\n",
    "count=0\n",
    "for i in range(len(s)):\n",
    "    if s[i] not in s1: # we are checking the letter is available in s1( It shou\n",
    "        if s[i] in 'aeiou': # we are checking vowel condition\n",
    "            print(s[i])\n",
    "            s1=s1+s[i] # we need to update the s1\n",
    "            count=count+1\n",
    "        print(\"The number of vowels are:\",count)"
   ]
  },
  {
   "cell_type": "code",
   "execution_count": 14,
   "id": "a0790b95-660c-43d6-8878-8a4daf7c1d95",
   "metadata": {},
   "outputs": [
    {
     "name": "stdout",
     "output_type": "stream",
     "text": [
      "i\n",
      "o\n",
      "a\n",
      "e\n",
      "u\n",
      "The number of vowels are: 5\n"
     ]
    }
   ],
   "source": [
    "#Q13)Ipdated wap ask the user get the vowels from a given syting using for range\n",
    "s='hi how are you im good'\n",
    "s1=''\n",
    "count=0\n",
    "for i in range(len(s)):\n",
    "    if s[i] not in s1 and s[i] in 'aeiou':\n",
    "        print(s[i])\n",
    "        s1=s1+s[i]\n",
    "        count=count+1\n",
    "print(\"The number of vowels are:\",count)"
   ]
  },
  {
   "cell_type": "code",
   "execution_count": null,
   "id": "2532192d-37e1-4a3a-b39c-c37b62dfd443",
   "metadata": {},
   "outputs": [],
   "source": [
    "#Q14) string1='ola ola ola '\n",
    "# Number of ola = 3\n",
    "#Q15) string1='hello hello how how how how are you'\n",
    "# What is the most repeated word : how\n",
    "# Q16) string1='hellooooo how aree u'\n",
    "# what is the maximum length of word: helloooo\n",
    "# what is the minimum length of word: u\n",
    "# Q17) with out using sorted then sort the letters\n",
    "\n",
    "['e', 'h', 'l', 'l', 'o']\n",
    "\n",
    "# Q16) string1='hellooooo how aree u'\n",
    "# what is the maximum length of word: helloooo\n",
    "# what is the minimum length of word: u\n",
    "# Q17) with out using sorted then sort the letters\n",
    "sorted('hello')\n",
    "['e', 'h', 'l', 'l', 'o']\n"
   ]
  },
  {
   "cell_type": "code",
   "execution_count": 15,
   "id": "2d661ef2-928d-4574-ac0f-21b01d5891dd",
   "metadata": {},
   "outputs": [
    {
     "data": {
      "text/plain": [
       "['e', 'h', 'l', 'l', 'o']"
      ]
     },
     "execution_count": 15,
     "metadata": {},
     "output_type": "execute_result"
    }
   ],
   "source": [
    "sorted('hello')"
   ]
  },
  {
   "cell_type": "markdown",
   "id": "c654f904-b5c9-43a9-986a-e1216170ae55",
   "metadata": {},
   "source": [
    "**Slice**\n",
    "\n",
    "- we can cut into pieces\n",
    "- Similar to range concept\n",
    "- start , stop ,step here also"
   ]
  },
  {
   "cell_type": "markdown",
   "id": "0fe48bd4-d93b-4b48-89cd-14e90862d0aa",
   "metadata": {},
   "source": [
    "-15 -14 -13 -12 -11 -10 -9  -8  -7  -6  -5 -4  -3 -2 -1\r",
    " \n",
    " h  a   i       h   o   w       a   r   e     y  o   u \r\n",
    "  0   1   2   3   4   5   6   7   8  9 1 0 11 12 13 141414"
   ]
  },
  {
   "cell_type": "code",
   "execution_count": null,
   "id": "c88b55f9-d1e2-4b1e-b532-4082d2cb95b5",
   "metadata": {},
   "outputs": [],
   "source": [
    "str1[start:stop:step]"
   ]
  },
  {
   "cell_type": "markdown",
   "id": "c65594a3-a87e-46bc-8173-d636d59b9d98",
   "metadata": {},
   "source": [
    "pattern − 1\n",
    "\n",
    "**str1[start:]**\n",
    "- By default start value = start only\n",
    "- Last value nothing mentioned automatically it will go till = last only\n",
    "- Step nothing mentioned means , It is a postive direction and increment by 1"
   ]
  },
  {
   "cell_type": "code",
   "execution_count": 18,
   "id": "292c0922-2758-4444-a2f0-80477d368424",
   "metadata": {},
   "outputs": [
    {
     "data": {
      "text/plain": [
       "'ow are you'"
      ]
     },
     "execution_count": 18,
     "metadata": {},
     "output_type": "execute_result"
    }
   ],
   "source": [
    "#-15 -14 -13 -12 -11 -10 -9 -8 -7 -6 -5 -4 -3 -2 -1\n",
    "# h a i h o w a r e y o u\n",
    "# 0 1 2 3 4 5 6 7 8 9 10 11 12 13 14\n",
    "str1='hai how are you'\n",
    "str1[5:]"
   ]
  },
  {
   "cell_type": "code",
   "execution_count": 19,
   "id": "cc0f50a5-38fa-42b4-ba0a-76761fc9d0de",
   "metadata": {},
   "outputs": [
    {
     "data": {
      "text/plain": [
       "'e you'"
      ]
     },
     "execution_count": 19,
     "metadata": {},
     "output_type": "execute_result"
    }
   ],
   "source": [
    "str1[10:]"
   ]
  },
  {
   "cell_type": "code",
   "execution_count": 20,
   "id": "2ffbe0e5-b473-4a93-9650-6e5b19ba21f2",
   "metadata": {},
   "outputs": [
    {
     "data": {
      "text/plain": [
       "'e you'"
      ]
     },
     "execution_count": 20,
     "metadata": {},
     "output_type": "execute_result"
    }
   ],
   "source": [
    "str1[-5:]"
   ]
  },
  {
   "cell_type": "code",
   "execution_count": 21,
   "id": "2d197b84-fa1d-442b-a36f-43408f702a60",
   "metadata": {},
   "outputs": [
    {
     "data": {
      "text/plain": [
       "('ow are you', 'ow are you')"
      ]
     },
     "execution_count": 21,
     "metadata": {},
     "output_type": "execute_result"
    }
   ],
   "source": [
    "str1[5:],str1[-10:] # Both will give same answer"
   ]
  },
  {
   "cell_type": "code",
   "execution_count": 22,
   "id": "5336cf1f-fe10-400d-9691-4650b8223221",
   "metadata": {},
   "outputs": [
    {
     "data": {
      "text/plain": [
       "'u'"
      ]
     },
     "execution_count": 22,
     "metadata": {},
     "output_type": "execute_result"
    }
   ],
   "source": [
    "str1[14:]"
   ]
  },
  {
   "cell_type": "code",
   "execution_count": 23,
   "id": "10cba3e6-e75c-41e1-831f-f25fa843f08c",
   "metadata": {},
   "outputs": [
    {
     "data": {
      "text/plain": [
       "'u'"
      ]
     },
     "execution_count": 23,
     "metadata": {},
     "output_type": "execute_result"
    }
   ],
   "source": [
    "str1[-1:]"
   ]
  },
  {
   "cell_type": "markdown",
   "id": "d24cca61-a31f-4071-a54e-e059458c736b",
   "metadata": {},
   "source": [
    "**pattern − 2 **\n",
    "\n",
    "- str1[start:stop]\n",
    "- start value means by default start only\n",
    "- step is not mentioned postive direction\n",
    "- last = stop-1\n",
    "\n",
    "\n",
    "\n",
    "\n"
   ]
  },
  {
   "cell_type": "code",
   "execution_count": 24,
   "id": "e521bff5-089b-4cd4-96be-5bc301907742",
   "metadata": {},
   "outputs": [
    {
     "data": {
      "text/plain": [
       "'ow are yo'"
      ]
     },
     "execution_count": 24,
     "metadata": {},
     "output_type": "execute_result"
    }
   ],
   "source": [
    "#-15 -14 -13 -12 -11 -10 -9 -8 -7 -6 -5 -4 -3 -2 -1\n",
    "# h a i h o w a r e y o u\n",
    "# 0 1 2 3 4 5 6 7 8 9 10 11 12 13 14\n",
    "str1='hai how are you'\n",
    "str1[5:14]"
   ]
  },
  {
   "cell_type": "code",
   "execution_count": null,
   "id": "a3e812d5-2100-4468-86c4-a425b96e677f",
   "metadata": {},
   "outputs": [],
   "source": [
    "#-15 -14 -13 -12 -11 -10 -9 -8 -7 -6 -5 -4 -3 -2 -1\n",
    "  h   a   i       h   o   w     a  r  e     y   o   u\n",
    "# 0   1   2   3   4   5   6  7  8  9  10 11  12 13 14\n",
    "str1='hai how are you' # step is mentioned or not mentioned\n",
    "str1[5:14], # Answer\n",
    "str1[-5:14], # Answer\n",
    "str1[5:-14], # No answer\n",
    "str1[-5:-14] # No answer\n",
    "\n"
   ]
  },
  {
   "cell_type": "code",
   "execution_count": 25,
   "id": "0b8b36c6-e114-4f82-8c32-0c0a1bb21ce0",
   "metadata": {},
   "outputs": [
    {
     "data": {
      "text/plain": [
       "'ow are you'"
      ]
     },
     "execution_count": 25,
     "metadata": {},
     "output_type": "execute_result"
    }
   ],
   "source": [
    "str1[5:500]"
   ]
  },
  {
   "cell_type": "markdown",
   "id": "af31ca21-bac9-482c-8cfe-4d19f20c471d",
   "metadata": {},
   "source": [
    "**Truncation behaviour**\n",
    "- when ever string range is limited, but we provided unlimited number\n",
    "- string will consider till the range we have\n",
    "- In the above example our range only 15 letters\n",
    "- we provided 500 , then 500 will truncate to till 15 letters only\n"
   ]
  },
  {
   "cell_type": "code",
   "execution_count": null,
   "id": "ae9b164e-54bd-4e6c-ad70-2b468b16764e",
   "metadata": {},
   "outputs": [],
   "source": [
    "str1[5:500] # Answer\n",
    "str1[-500:500] # Answer\n",
    "str1[-1:500] # Answer\n",
    "str1[500:] # no answer\n",
    "str1[-500:-100] # No answer\n"
   ]
  },
  {
   "cell_type": "markdown",
   "id": "01177434-d0b5-4c08-b017-685e18ab03a3",
   "metadata": {},
   "source": [
    "**Pattern 3 str1[start:stop:step]**\n",
    "- start value means start only\n",
    "- If step value positive\n",
    "    - last value= stop-1\n",
    "- f step value negative\n",
    "    - last value=stop+1"
   ]
  },
  {
   "cell_type": "code",
   "execution_count": 2,
   "id": "1c6b2c77-4ba5-4751-bc10-594422c25db6",
   "metadata": {},
   "outputs": [
    {
     "ename": "NameError",
     "evalue": "name 'str1' is not defined",
     "output_type": "error",
     "traceback": [
      "\u001b[1;31m---------------------------------------------------------------------------\u001b[0m",
      "\u001b[1;31mNameError\u001b[0m                                 Traceback (most recent call last)",
      "Cell \u001b[1;32mIn[2], line 1\u001b[0m\n\u001b[1;32m----> 1\u001b[0m \u001b[38;5;28mlen\u001b[39m(str1)\n",
      "\u001b[1;31mNameError\u001b[0m: name 'str1' is not defined"
     ]
    }
   ],
   "source": [
    "len(str1)"
   ]
  },
  {
   "cell_type": "code",
   "execution_count": null,
   "id": "8a808a19-cd0d-49b0-9ab6-fb83b7230fab",
   "metadata": {},
   "outputs": [],
   "source": [
    "str2='yeshwanth'\n",
    "\n",
    "y e s h w a n t h\n",
    "0 1 2 3 4 5 6 7 8\n"
   ]
  },
  {
   "cell_type": "code",
   "execution_count": null,
   "id": "53c780fc-fd61-4c14-9ebe-e46f32c4479e",
   "metadata": {},
   "outputs": [],
   "source": [
    "#-15 -14 -13 -12 -11 -10 -9 -8 -7 -6 -5 -4 -3 -2 -1\n",
    "# h   a   i        h  o  w      a  r  e     y  o  u\n",
    "# 0   1   2   3   4   5   6  7  8  9  10 11 12 13 14\n",
    "\n",
    "str1[2:13:2] # P\n",
    "str1[2:13:-2] # NP\n",
    "str1[2:-13:2] # NP (CHECK) str1[2:-13] str1[2:3:2] str1[2:2]\n",
    "str1[2:-13:-2] # NP (CHECK)\n",
    "str1[-2:13:2] # NP (CHECK)\n",
    "str1[-2:-13:2] # NP\n",
    "str1[-2:-13:-2] # P\n",
    "str1[13:2:2] # NP\n",
    "str1[-13:2:2] # NP (CHECK)\n",
    "str1[-13:-2:2] # P\n",
    "str1[-13:-2:-2] # NP\n",
    "str1[-13:2:-2] # NP(CHECK)\n"
   ]
  },
  {
   "cell_type": "code",
   "execution_count": null,
   "id": "c46d3c0e-35ef-4e9b-b75f-995fde71895c",
   "metadata": {},
   "outputs": [],
   "source": [
    "==================== PART-1=====================================\n",
    "- Intiaization\n",
    "- type\n",
    "- len\n",
    "- max\n",
    "- min\n",
    "- sorted\n",
    "- reveresed\n",
    "- in\n",
    "- for loop using in\n",
    "- index\n",
    "- for loop using index\n",
    "- mutable\n",
    "- cancatenation\n",
    "- slice\n",
    "\n",
    "#==============PART-2==========================\n",
    "    #Methods\n",
    "- mutable"
   ]
  },
  {
   "cell_type": "code",
   "execution_count": 3,
   "id": "6e5ac1a6-f7a2-42f4-a4ea-688bde2f234e",
   "metadata": {},
   "outputs": [
    {
     "ename": "NameError",
     "evalue": "name 'str1' is not defined",
     "output_type": "error",
     "traceback": [
      "\u001b[1;31m---------------------------------------------------------------------------\u001b[0m",
      "\u001b[1;31mNameError\u001b[0m                                 Traceback (most recent call last)",
      "Cell \u001b[1;32mIn[3], line 5\u001b[0m\n\u001b[0;32m      1\u001b[0m \u001b[38;5;66;03m#-15 -14 -13 -12 -11 -10 -9 -8 -7 -6 -5 -4 -3 -2 -1\u001b[39;00m\n\u001b[0;32m      2\u001b[0m \u001b[38;5;66;03m# h   a   i        h  o   w     a  r  e     y  o  u\u001b[39;00m\n\u001b[0;32m      3\u001b[0m \u001b[38;5;66;03m# 0   1   2   3   4   5   6  7  8  9  10 11 12 13 14\u001b[39;00m\n\u001b[1;32m----> 5\u001b[0m str1[:\u001b[38;5;241m5\u001b[39m:\u001b[38;5;241m-\u001b[39m\u001b[38;5;241m2\u001b[39m]\n",
      "\u001b[1;31mNameError\u001b[0m: name 'str1' is not defined"
     ]
    }
   ],
   "source": [
    "#-15 -14 -13 -12 -11 -10 -9 -8 -7 -6 -5 -4 -3 -2 -1\n",
    "# h   a   i        h  o   w     a  r  e     y  o  u\n",
    "# 0   1   2   3   4   5   6  7  8  9  10 11 12 13 14\n",
    "\n",
    "str1[:5:-2] # start value -1"
   ]
  },
  {
   "cell_type": "code",
   "execution_count": null,
   "id": "730d38e8-53ea-4c47-9862-bbffdb6bee9c",
   "metadata": {},
   "outputs": [],
   "source": [
    "str1[-13:2:2] # postive direction start value :0"
   ]
  },
  {
   "cell_type": "code",
   "execution_count": null,
   "id": "285beb8d-36cf-4fc0-82cc-904d1cb15e65",
   "metadata": {},
   "outputs": [],
   "source": [
    "str1[:] # Complete string\n",
    "str1[::] # Complete string\n",
    "str1[<start>::-1] # Reveres start value=-1\n",
    "str1[<start>:5:-2]"
   ]
  },
  {
   "cell_type": "markdown",
   "id": "e0f8fec5-9696-432d-a609-d17e4eed918c",
   "metadata": {},
   "source": [
    "**Methods**\n",
    "- Strings lists tuple dictionary every data type has its own methods\n",
    "- We already seen that packages has different method\n",
    "- For example random package : randint method\n",
    "- Math package : sqrt\n",
    "- In the same way strings also have methods\n",
    "- In order to see methods for the packages\n",
    "    - we are importing the package\n",
    "    - we are applying dir\n",
    "- In the similar way in order to see the methods of string , we need to apply dir only"
   ]
  },
  {
   "cell_type": "code",
   "execution_count": 6,
   "id": "1ecafc2c-2f02-4d89-b697-f3a4e6b1f04d",
   "metadata": {},
   "outputs": [
    {
     "data": {
      "text/plain": [
       "['__add__',\n",
       " '__class__',\n",
       " '__contains__',\n",
       " '__delattr__',\n",
       " '__dir__',\n",
       " '__doc__',\n",
       " '__eq__',\n",
       " '__format__',\n",
       " '__ge__',\n",
       " '__getattribute__',\n",
       " '__getitem__',\n",
       " '__getnewargs__',\n",
       " '__getstate__',\n",
       " '__gt__',\n",
       " '__hash__',\n",
       " '__init__',\n",
       " '__init_subclass__',\n",
       " '__iter__',\n",
       " '__le__',\n",
       " '__len__',\n",
       " '__lt__',\n",
       " '__mod__',\n",
       " '__mul__',\n",
       " '__ne__',\n",
       " '__new__',\n",
       " '__reduce__',\n",
       " '__reduce_ex__',\n",
       " '__repr__',\n",
       " '__rmod__',\n",
       " '__rmul__',\n",
       " '__setattr__',\n",
       " '__sizeof__',\n",
       " '__str__',\n",
       " '__subclasshook__',\n",
       " 'capitalize',\n",
       " 'casefold',\n",
       " 'center',\n",
       " 'count',\n",
       " 'encode',\n",
       " 'endswith',\n",
       " 'expandtabs',\n",
       " 'find',\n",
       " 'format',\n",
       " 'format_map',\n",
       " 'index',\n",
       " 'isalnum',\n",
       " 'isalpha',\n",
       " 'isascii',\n",
       " 'isdecimal',\n",
       " 'isdigit',\n",
       " 'isidentifier',\n",
       " 'islower',\n",
       " 'isnumeric',\n",
       " 'isprintable',\n",
       " 'isspace',\n",
       " 'istitle',\n",
       " 'isupper',\n",
       " 'join',\n",
       " 'ljust',\n",
       " 'lower',\n",
       " 'lstrip',\n",
       " 'maketrans',\n",
       " 'partition',\n",
       " 'removeprefix',\n",
       " 'removesuffix',\n",
       " 'replace',\n",
       " 'rfind',\n",
       " 'rindex',\n",
       " 'rjust',\n",
       " 'rpartition',\n",
       " 'rsplit',\n",
       " 'rstrip',\n",
       " 'split',\n",
       " 'splitlines',\n",
       " 'startswith',\n",
       " 'strip',\n",
       " 'swapcase',\n",
       " 'title',\n",
       " 'translate',\n",
       " 'upper',\n",
       " 'zfill']"
      ]
     },
     "execution_count": 6,
     "metadata": {},
     "output_type": "execute_result"
    }
   ],
   "source": [
    "dir('')\n",
    "# dir('hai')\n",
    "# str1='apple'\n",
    "# dir(str1)"
   ]
  },
  {
   "cell_type": "markdown",
   "id": "d363df51-a736-4a2f-8d2a-45fdf0ee3f16",
   "metadata": {},
   "source": [
    "**Upper**"
   ]
  },
  {
   "cell_type": "code",
   "execution_count": 8,
   "id": "277e5541-3b4a-45f1-9aad-8734074cf737",
   "metadata": {},
   "outputs": [],
   "source": [
    "str1='hai how are you'"
   ]
  },
  {
   "cell_type": "markdown",
   "id": "6f442020-2d6b-4e62-893e-9e37fbc507f3",
   "metadata": {},
   "source": [
    "type(str1)\n",
    "help(help.upper)"
   ]
  },
  {
   "cell_type": "markdown",
   "id": "9c8ef5ee-2940-421f-976d-7f2d0c0fce3f",
   "metadata": {},
   "source": [
    "Help on built-in function upper:\n",
    "upper() method of builtins.str instance\n",
    "Return a copy of the string converted to uppercase."
   ]
  },
  {
   "cell_type": "code",
   "execution_count": 10,
   "id": "3d7e693e-b36f-4b15-a180-839d6d7c98b0",
   "metadata": {},
   "outputs": [
    {
     "data": {
      "text/plain": [
       "'HAI HOW ARE YOU'"
      ]
     },
     "execution_count": 10,
     "metadata": {},
     "output_type": "execute_result"
    }
   ],
   "source": [
    "str1.upper()"
   ]
  },
  {
   "cell_type": "code",
   "execution_count": 11,
   "id": "b41fb7a1-4620-47ca-b909-6acb88a3a1e7",
   "metadata": {},
   "outputs": [
    {
     "data": {
      "text/plain": [
       "'HAI HOW ARE YOU'"
      ]
     },
     "execution_count": 11,
     "metadata": {},
     "output_type": "execute_result"
    }
   ],
   "source": [
    "str1.upper()"
   ]
  },
  {
   "cell_type": "code",
   "execution_count": 12,
   "id": "cbab7001-1699-41cd-87b2-9370b9399765",
   "metadata": {},
   "outputs": [
    {
     "data": {
      "text/plain": [
       "'hai how are you'"
      ]
     },
     "execution_count": 12,
     "metadata": {},
     "output_type": "execute_result"
    }
   ],
   "source": [
    "str1.lower()"
   ]
  },
  {
   "cell_type": "code",
   "execution_count": 14,
   "id": "913fe9ed-4b01-4bfd-a82f-75ebc1b74566",
   "metadata": {},
   "outputs": [
    {
     "data": {
      "text/plain": [
       "'hai how are you'"
      ]
     },
     "execution_count": 14,
     "metadata": {},
     "output_type": "execute_result"
    }
   ],
   "source": [
    "str1.casefold()"
   ]
  },
  {
   "cell_type": "code",
   "execution_count": 15,
   "id": "ef8a49f1-eb23-4305-9485-492e06d3133e",
   "metadata": {},
   "outputs": [
    {
     "data": {
      "text/plain": [
       "'Hai How Are You'"
      ]
     },
     "execution_count": 15,
     "metadata": {},
     "output_type": "execute_result"
    }
   ],
   "source": [
    "str1.title()"
   ]
  },
  {
   "cell_type": "code",
   "execution_count": null,
   "id": "4b44c75e-60a4-42bc-affa-81c820678a0b",
   "metadata": {},
   "outputs": [],
   "source": [
    "#str1='hai how are you'\n",
    "# o/p='How Are You'\n",
    "# with out using any method\n",
    "# One more level : iterate each letter apply capitalize\n",
    "# scratch : ord char"
   ]
  },
  {
   "cell_type": "code",
   "execution_count": 18,
   "id": "ff70d4c3-84cd-4fd0-9759-a48ae9dce863",
   "metadata": {},
   "outputs": [
    {
     "data": {
      "text/plain": [
       "'hai how are you'"
      ]
     },
     "execution_count": 18,
     "metadata": {},
     "output_type": "execute_result"
    }
   ],
   "source": [
    "str1.center(5)"
   ]
  },
  {
   "cell_type": "code",
   "execution_count": 19,
   "id": "367245d0-f527-4ee7-8286-5dae463c6866",
   "metadata": {},
   "outputs": [
    {
     "data": {
      "text/plain": [
       "20"
      ]
     },
     "execution_count": 19,
     "metadata": {},
     "output_type": "execute_result"
    }
   ],
   "source": [
    "len(str1.center(20))"
   ]
  },
  {
   "cell_type": "markdown",
   "id": "aab22e69-b683-4e50-9887-857ec79c1f67",
   "metadata": {},
   "source": [
    "- Cebter has two arguments\n",
    "    - width\n",
    "    - fill char\n",
    "- original string alread : 15 lettters\n",
    "- we want to create a new string with 20 letters\n",
    "- Remaining 5 letters by default empty\n",
    "- we can fill with charcters also"
   ]
  },
  {
   "cell_type": "code",
   "execution_count": 20,
   "id": "2fc3bbb5-a9d0-48a0-b2c1-6ac6335cd947",
   "metadata": {},
   "outputs": [
    {
     "data": {
      "text/plain": [
       "'*****hai how are you******'"
      ]
     },
     "execution_count": 20,
     "metadata": {},
     "output_type": "execute_result"
    }
   ],
   "source": [
    "str1.center(26,'*')"
   ]
  },
  {
   "cell_type": "markdown",
   "id": "8283a006-eff1-405e-b86d-7926e43ee67d",
   "metadata": {},
   "source": [
    "- upper\n",
    "- lower\n",
    "- casefold\n",
    "- Title\n",
    "- Capitalize\n",
    "- Center\n",
    "- Count\n"
   ]
  },
  {
   "cell_type": "markdown",
   "id": "80fa0b18-c616-4025-bbd3-f31bdcc3fd07",
   "metadata": {},
   "source": [
    "**COUNT**"
   ]
  },
  {
   "cell_type": "code",
   "execution_count": null,
   "id": "7ae35980-fd62-41a2-9a09-d0e66cea9aa0",
   "metadata": {},
   "outputs": [],
   "source": [
    "str1='hai how are you'\n",
    "# How many 'a's are there\n"
   ]
  },
  {
   "cell_type": "code",
   "execution_count": null,
   "id": "54a1098b-1174-4b10-82b5-ffc3ba13bd79",
   "metadata": {},
   "outputs": [],
   "source": [
    "count=0\n",
    "for i in str1:\n",
    "    if i=='a':\n",
    "        count=count+1\n",
    "count=0\n"
   ]
  },
  {
   "cell_type": "code",
   "execution_count": 21,
   "id": "60e3ed34-cd42-4ed6-b0d7-82dc25c34c14",
   "metadata": {},
   "outputs": [
    {
     "data": {
      "text/plain": [
       "2"
      ]
     },
     "execution_count": 21,
     "metadata": {},
     "output_type": "execute_result"
    }
   ],
   "source": [
    "str1='hai how are you'\n",
    "str1.count('a')\n",
    "\n"
   ]
  },
  {
   "cell_type": "code",
   "execution_count": 22,
   "id": "a46dc471-593c-4658-893c-1817c0f1ba56",
   "metadata": {},
   "outputs": [
    {
     "data": {
      "text/plain": [
       "3"
      ]
     },
     "execution_count": 22,
     "metadata": {},
     "output_type": "execute_result"
    }
   ],
   "source": [
    "\n",
    "str1='hai hai hai'\n",
    "str1.count('a')\n"
   ]
  },
  {
   "cell_type": "markdown",
   "id": "347f8bec-8db7-4cc7-85e4-901a2d1ad883",
   "metadata": {},
   "source": [
    "- We want number of a from a specific index\n",
    "- we want number of a between two indexes"
   ]
  },
  {
   "cell_type": "code",
   "execution_count": 24,
   "id": "a5ead373-1d73-4da9-bcc4-a13cc4064589",
   "metadata": {},
   "outputs": [
    {
     "data": {
      "text/plain": [
       "2"
      ]
     },
     "execution_count": 24,
     "metadata": {},
     "output_type": "execute_result"
    }
   ],
   "source": [
    "#h a i h a i h a i\n",
    "#0 1 2 3 4 5 6 7 8 9 10\n",
    "str1.count('a') # All the 'a'\n",
    "str1.count('a',5)\n"
   ]
  },
  {
   "cell_type": "code",
   "execution_count": null,
   "id": "fa430cdc-001d-4d0e-894c-c6e9873e6d42",
   "metadata": {},
   "outputs": [],
   "source": [
    "str1.count('a',3)\n",
    "# we are searching number of 'a' from index=3\n"
   ]
  },
  {
   "cell_type": "code",
   "execution_count": 25,
   "id": "8ad7fea7-0a5a-4f6e-a04b-c3a8d3c187bf",
   "metadata": {},
   "outputs": [
    {
     "data": {
      "text/plain": [
       "1"
      ]
     },
     "execution_count": 25,
     "metadata": {},
     "output_type": "execute_result"
    }
   ],
   "source": [
    "#h a i   h a i   h a i\n",
    "#0 1 2 3 4 5 6 7 8 9 10\n",
    "str1.count('a') # All the 'a'\n",
    "str1.count('a',5) # we are searching number of 'a' from index=3\n",
    "str1.count('a',4,8) #we are searching number of 'a' from index=4 to index=8\n"
   ]
  },
  {
   "cell_type": "code",
   "execution_count": 26,
   "id": "63628cc8-0aa8-4260-a4a4-7af6ed3ab3c8",
   "metadata": {},
   "outputs": [
    {
     "data": {
      "text/plain": [
       "3"
      ]
     },
     "execution_count": 26,
     "metadata": {},
     "output_type": "execute_result"
    }
   ],
   "source": [
    "str1='ola ola ola'\n",
    "str1.count('ola')\n"
   ]
  },
  {
   "cell_type": "code",
   "execution_count": null,
   "id": "8f815b20-64d5-4494-aec9-4174c109dc72",
   "metadata": {},
   "outputs": [],
   "source": [
    "# In the interviwes he will ask with out using method\n",
    "# After you got job\n"
   ]
  },
  {
   "cell_type": "code",
   "execution_count": null,
   "id": "057c01c7-0eb2-40de-8a9c-e5c2a7bd8f40",
   "metadata": {},
   "outputs": [],
   "source": [
    "str1='ola ola ola'\n",
    "for i in str1:\n",
    "    if i=='ola': # 'o' == 'ola'\n",
    "        print(i)\n"
   ]
  },
  {
   "cell_type": "markdown",
   "id": "48abadab-8efa-4599-9677-e7483dd716fc",
   "metadata": {},
   "source": [
    "**Window method**\n"
   ]
  },
  {
   "cell_type": "code",
   "execution_count": null,
   "id": "e0443970-093e-4495-a7c5-1974b7fa0f94",
   "metadata": {},
   "outputs": [],
   "source": [
    "str1[i:i+3]\n",
    "i=0 str1[0:3] === > ola\n",
    "i=1 str1[1:4] ==== > la\n",
    "i=2\n"
   ]
  },
  {
   "cell_type": "code",
   "execution_count": null,
   "id": "b82a38ea-dbb6-481d-a439-8189661e77b1",
   "metadata": {},
   "outputs": [],
   "source": [
    "str1='ola ola ola'\n",
    "count=0\n",
    "for i in range(len(str1)):\n",
    "if str1[i:i+3]=='ola':\n",
    "count=count+1\n",
    "# step-1: count=0 i =0 str1[0:3]=='ola' True count=1\n",
    "# step-2:         i=1  str1[1:4]=='ola' F"
   ]
  },
  {
   "cell_type": "code",
   "execution_count": null,
   "id": "9670a84d-8532-4f12-94ab-4c64c4be665e",
   "metadata": {},
   "outputs": [],
   "source": [
    "str1='ola ola ola'\n"
   ]
  },
  {
   "cell_type": "code",
   "execution_count": 27,
   "id": "f635d58c-91a8-4b70-ab73-b6767d885b78",
   "metadata": {},
   "outputs": [
    {
     "data": {
      "text/plain": [
       "1"
      ]
     },
     "execution_count": 27,
     "metadata": {},
     "output_type": "execute_result"
    }
   ],
   "source": [
    "str1.count('ola ola ola')\n"
   ]
  },
  {
   "cell_type": "code",
   "execution_count": 28,
   "id": "21351b89-9f0a-4576-b0e4-4b6d63120439",
   "metadata": {},
   "outputs": [
    {
     "data": {
      "text/plain": [
       "1"
      ]
     },
     "execution_count": 28,
     "metadata": {},
     "output_type": "execute_result"
    }
   ],
   "source": [
    "str1='ola ola ola'\n",
    "str1.count(str1)\n"
   ]
  },
  {
   "cell_type": "code",
   "execution_count": 29,
   "id": "1ad024ed-cf25-484b-9dc1-e234b1046332",
   "metadata": {},
   "outputs": [
    {
     "data": {
      "text/plain": [
       "0"
      ]
     },
     "execution_count": 29,
     "metadata": {},
     "output_type": "execute_result"
    }
   ],
   "source": [
    "str1.count('z')\n",
    "# No answer ''\n",
    "# Error\n",
    "# 0\n",
    "# NT\n"
   ]
  },
  {
   "cell_type": "markdown",
   "id": "38b417d5-d183-461d-bd84-7885f4c353cc",
   "metadata": {},
   "source": [
    "**Replace**\n"
   ]
  },
  {
   "cell_type": "code",
   "execution_count": null,
   "id": "82c32bc1-a98a-414a-bd8c-d41e36e75db5",
   "metadata": {},
   "outputs": [],
   "source": [
    "str1='welcome'\n",
    "# I want to replace 'l' with 'L'\n"
   ]
  },
  {
   "cell_type": "code",
   "execution_count": null,
   "id": "c68c7e12-656f-452a-af52-a843f102230c",
   "metadata": {},
   "outputs": [],
   "source": [
    "# we know that strings are immutable\n",
    "# we can not use index operations also\n",
    "# slice and concatenation\n",
    "# Divide welcome : we come\n",
    "# s1='we'\n",
    "# s2='come'\n",
    "# s1+'L'+s2\n",
    "sir, you said string is immutable\n",
    "it won't change but if we are doing concatenation\n",
    "s1=s1+'anything' total value of s1 is changing write sir how\n"
   ]
  },
  {
   "cell_type": "code",
   "execution_count": 30,
   "id": "f9e56907-f6c9-4a07-b410-f6c73142209b",
   "metadata": {},
   "outputs": [
    {
     "data": {
      "text/plain": [
       "'weLcome'"
      ]
     },
     "execution_count": 30,
     "metadata": {},
     "output_type": "execute_result"
    }
   ],
   "source": [
    "str1='welcome'\n",
    "s1=str1[0:2]\n",
    "s2=str1[3:]\n",
    "s1+'L'+s2\n"
   ]
  },
  {
   "cell_type": "code",
   "execution_count": 31,
   "id": "c6921289-8961-4e5a-ad9a-977ceb7510f0",
   "metadata": {},
   "outputs": [
    {
     "data": {
      "text/plain": [
       "'L'"
      ]
     },
     "execution_count": 31,
     "metadata": {},
     "output_type": "execute_result"
    }
   ],
   "source": [
    "chr(ord('l')-32) #Try this\n"
   ]
  },
  {
   "cell_type": "code",
   "execution_count": 32,
   "id": "93147d42-755a-483d-b26d-b2e9f4ca806e",
   "metadata": {},
   "outputs": [
    {
     "data": {
      "text/plain": [
       "'weLcome'"
      ]
     },
     "execution_count": 32,
     "metadata": {},
     "output_type": "execute_result"
    }
   ],
   "source": [
    "str1='welcome'\n",
    "str1.replace('l','L')\n"
   ]
  },
  {
   "cell_type": "code",
   "execution_count": 33,
   "id": "f31ed747-ca27-4ca1-9016-70d72355e410",
   "metadata": {},
   "outputs": [
    {
     "data": {
      "text/plain": [
       "'weLLcome'"
      ]
     },
     "execution_count": 33,
     "metadata": {},
     "output_type": "execute_result"
    }
   ],
   "source": [
    "str1='wellcome'\n",
    "str1.replace('l','L')\n"
   ]
  },
  {
   "cell_type": "markdown",
   "id": "da81ecd8-604e-454b-8e61-e4fc4764e292",
   "metadata": {},
   "source": [
    "- By default replace will change all the occurences\n",
    "- count= -1 is responsible for that\n",
    "- whcih means we can provide some count also, which how many I want to change\n",
    "- Give welllcome and change count=1 and count=2 explore it"
   ]
  },
  {
   "cell_type": "code",
   "execution_count": 34,
   "id": "366a6506-579c-40a0-9539-8cd801e7ffc7",
   "metadata": {},
   "outputs": [
    {
     "data": {
      "text/plain": [
       "'weLllcome'"
      ]
     },
     "execution_count": 34,
     "metadata": {},
     "output_type": "execute_result"
    }
   ],
   "source": [
    "str1='welllcome'\n",
    "str1.replace('l','L',1) # old='l', new ='L' count=1\n",
    "# when we write count=1\n",
    "# It will change only one letter\n",
    "# that to first occurence only"
   ]
  },
  {
   "cell_type": "code",
   "execution_count": 35,
   "id": "2bd73872-cffb-4382-89f4-832a54fc687f",
   "metadata": {},
   "outputs": [
    {
     "data": {
      "text/plain": [
       "'weLLlcome'"
      ]
     },
     "execution_count": 35,
     "metadata": {},
     "output_type": "execute_result"
    }
   ],
   "source": [
    "str1='welllcome'\n",
    "str1.replace('l','L',2)"
   ]
  },
  {
   "cell_type": "code",
   "execution_count": 36,
   "id": "c4500cb0-9f71-474a-9ea3-85b931c01ccc",
   "metadata": {},
   "outputs": [
    {
     "data": {
      "text/plain": [
       "'resta$t'"
      ]
     },
     "execution_count": 36,
     "metadata": {},
     "output_type": "execute_result"
    }
   ],
   "source": [
    "Str1='restart'\n",
    "# i/p= 'resta$t'\n",
    "str1='restart'\n",
    "s1=str1[:1]\n",
    "s2=str1[1:]\n",
    "s3=s2.replace('r','$')\n",
    "s1+s3\n"
   ]
  },
  {
   "cell_type": "code",
   "execution_count": null,
   "id": "31086432-7294-4664-a4cb-9ecef79258ea",
   "metadata": {},
   "outputs": [],
   "source": [
    "Q. Why is replacing -1 is replaced at all places. str1='welllcome'\n",
    "str1.replace('l','L',-1)\n",
    "# Flag=-1 True Flase ALL N\n"
   ]
  },
  {
   "cell_type": "code",
   "execution_count": 37,
   "id": "7a4a4f95-7654-4197-a814-9e76a928d8c6",
   "metadata": {},
   "outputs": [
    {
     "data": {
      "text/plain": [
       "'resta$t'"
      ]
     },
     "execution_count": 37,
     "metadata": {},
     "output_type": "execute_result"
    }
   ],
   "source": [
    "str1='restart' # This case\n",
    "str1[::-1].replace('r','$',1)[::-1]\n"
   ]
  },
  {
   "cell_type": "markdown",
   "id": "efc98cb9-5fc5-49ae-85f7-278b8eb7eb5e",
   "metadata": {},
   "source": [
    "**index-find**\n",
    "- Upper\n",
    "- lower\n",
    "- casefold\n",
    "- title\n",
    "- capitalize\n",
    "- count\n",
    "- replace\n",
    "- index-find\n",
    "- split\r\n",
    "- strip\r\n",
    "- startswith"
   ]
  },
  {
   "cell_type": "code",
   "execution_count": 39,
   "id": "9c07bb34-9de7-443d-a941-232219cf7bcf",
   "metadata": {},
   "outputs": [
    {
     "data": {
      "text/plain": [
       "['__add__',\n",
       " '__class__',\n",
       " '__contains__',\n",
       " '__delattr__',\n",
       " '__dir__',\n",
       " '__doc__',\n",
       " '__eq__',\n",
       " '__format__',\n",
       " '__ge__',\n",
       " '__getattribute__',\n",
       " '__getitem__',\n",
       " '__getnewargs__',\n",
       " '__getstate__',\n",
       " '__gt__',\n",
       " '__hash__',\n",
       " '__init__',\n",
       " '__init_subclass__',\n",
       " '__iter__',\n",
       " '__le__',\n",
       " '__len__',\n",
       " '__lt__',\n",
       " '__mod__',\n",
       " '__mul__',\n",
       " '__ne__',\n",
       " '__new__',\n",
       " '__reduce__',\n",
       " '__reduce_ex__',\n",
       " '__repr__',\n",
       " '__rmod__',\n",
       " '__rmul__',\n",
       " '__setattr__',\n",
       " '__sizeof__',\n",
       " '__str__',\n",
       " '__subclasshook__',\n",
       " 'capitalize',\n",
       " 'casefold',\n",
       " 'center',\n",
       " 'count',\n",
       " 'encode',\n",
       " 'endswith',\n",
       " 'expandtabs',\n",
       " 'find',\n",
       " 'format',\n",
       " 'format_map',\n",
       " 'index',\n",
       " 'isalnum',\n",
       " 'isalpha',\n",
       " 'isascii',\n",
       " 'isdecimal',\n",
       " 'isdigit',\n",
       " 'isidentifier',\n",
       " 'islower',\n",
       " 'isnumeric',\n",
       " 'isprintable',\n",
       " 'isspace',\n",
       " 'istitle',\n",
       " 'isupper',\n",
       " 'join',\n",
       " 'ljust',\n",
       " 'lower',\n",
       " 'lstrip',\n",
       " 'maketrans',\n",
       " 'partition',\n",
       " 'removeprefix',\n",
       " 'removesuffix',\n",
       " 'replace',\n",
       " 'rfind',\n",
       " 'rindex',\n",
       " 'rjust',\n",
       " 'rpartition',\n",
       " 'rsplit',\n",
       " 'rstrip',\n",
       " 'split',\n",
       " 'splitlines',\n",
       " 'startswith',\n",
       " 'strip',\n",
       " 'swapcase',\n",
       " 'title',\n",
       " 'translate',\n",
       " 'upper',\n",
       " 'zfill']"
      ]
     },
     "execution_count": 39,
     "metadata": {},
     "output_type": "execute_result"
    }
   ],
   "source": [
    "dir('')"
   ]
  },
  {
   "cell_type": "code",
   "execution_count": 40,
   "id": "9107ce1a-b469-4ded-ab4a-953beae7c692",
   "metadata": {},
   "outputs": [
    {
     "data": {
      "text/plain": [
       "True"
      ]
     },
     "execution_count": 40,
     "metadata": {},
     "output_type": "execute_result"
    }
   ],
   "source": [
    "str1='HELLO'\n",
    "str1.isupper()"
   ]
  },
  {
   "cell_type": "code",
   "execution_count": 41,
   "id": "c4355c57-2236-4760-9eed-01cd65dfe432",
   "metadata": {},
   "outputs": [
    {
     "data": {
      "text/plain": [
       "False"
      ]
     },
     "execution_count": 41,
     "metadata": {},
     "output_type": "execute_result"
    }
   ],
   "source": [
    "str1='HELLO'\n",
    "str1.istitle()"
   ]
  },
  {
   "cell_type": "code",
   "execution_count": 42,
   "id": "d8a5d77a-84be-41d8-8ba9-9e39ba0c525a",
   "metadata": {},
   "outputs": [
    {
     "data": {
      "text/plain": [
       "False"
      ]
     },
     "execution_count": 42,
     "metadata": {},
     "output_type": "execute_result"
    }
   ],
   "source": [
    "str1='hello'\n",
    "str1.isupper()"
   ]
  },
  {
   "cell_type": "markdown",
   "id": "a0667585-62d4-4b67-81ad-b5bdaa69511e",
   "metadata": {},
   "source": [
    "**Index**\n",
    "- Index says that it will give the index of any letter in a given string\n",
    "- we already seen about count: Count will give how many letters are there in a string\n",
    "    - at what index you want to count\n",
    "    - between indexes also we can count the letters\n",
    "- index meaning it will provide the index\n",
    "- imagine that there same letters repeated\n",
    "- how can we find the next index"
   ]
  },
  {
   "cell_type": "code",
   "execution_count": 43,
   "id": "260c6acb-ea85-4a39-ae9b-a4f29728f512",
   "metadata": {},
   "outputs": [
    {
     "data": {
      "text/plain": [
       "1"
      ]
     },
     "execution_count": 43,
     "metadata": {},
     "output_type": "execute_result"
    }
   ],
   "source": [
    "#h a i h a i h a i\n",
    "#0 1 2 3 4 5 6 7 8 9 10\n",
    "str1= 'hai hai hai'\n",
    "str1.index('a')\n",
    "# Return the lowest index in S where substring sub is found,"
   ]
  },
  {
   "cell_type": "code",
   "execution_count": 45,
   "id": "4730cc20-09a0-49b8-8551-8cb7763d01bd",
   "metadata": {},
   "outputs": [
    {
     "data": {
      "text/plain": [
       "5"
      ]
     },
     "execution_count": 45,
     "metadata": {},
     "output_type": "execute_result"
    }
   ],
   "source": [
    "#h a i h a i h a i\n",
    "#0 1 2 3 4 5 6 7 8 9 10\n",
    "str1='hai hai hai'\n",
    "str1.index('a',3)\n"
   ]
  },
  {
   "cell_type": "code",
   "execution_count": 46,
   "id": "ce9128d5-8c3c-45b7-92d9-ae47049458e6",
   "metadata": {},
   "outputs": [
    {
     "data": {
      "text/plain": [
       "5"
      ]
     },
     "execution_count": 46,
     "metadata": {},
     "output_type": "execute_result"
    }
   ],
   "source": [
    "# I want to know 'a' index between 3rd and 7th index\n",
    "#h a i h a i h a i\n",
    "#0 1 2 3 4 5 6 7 8 9 10\n",
    "str1= 'hai hai hai'\n",
    "str1.index('a',3,7)\n"
   ]
  },
  {
   "cell_type": "code",
   "execution_count": 47,
   "id": "024fe056-0302-45db-a33e-80e931ea8c92",
   "metadata": {},
   "outputs": [
    {
     "data": {
      "text/plain": [
       "5"
      ]
     },
     "execution_count": 47,
     "metadata": {},
     "output_type": "execute_result"
    }
   ],
   "source": [
    "# I always a Return a lowest index only\n",
    "str1= 'hai hai hai'\n",
    "str1.index('a') # among all the indexes the lowset index is '1'\n",
    "str1= 'hai hai hai'\n",
    "str1.index('a',3) # after 3rd index the lowset index of a is '5'\n",
    "str1= 'hai hai hai'\n",
    "str1.index('a',3,7) # Between 3-7 index the lowset index is '5' only\n"
   ]
  },
  {
   "cell_type": "code",
   "execution_count": 48,
   "id": "e6fc8372-eec1-4942-a04f-68ec9e4a1e49",
   "metadata": {},
   "outputs": [
    {
     "data": {
      "text/plain": [
       "9"
      ]
     },
     "execution_count": 48,
     "metadata": {},
     "output_type": "execute_result"
    }
   ],
   "source": [
    "str1= 'hai hai hai'\n",
    "str1.index('a',-3,-1) # among all the indexes the lowset index is '1'\n"
   ]
  },
  {
   "cell_type": "code",
   "execution_count": null,
   "id": "1904bb23-fc7b-45a6-917e-ea653b78fe93",
   "metadata": {},
   "outputs": [],
   "source": [
    "# -11 -10 -9 -8 -7 -6 -5 -4 -3 -2 -1\n",
    "# h a i h a i h a i\n",
    "# 0 1 2 3 4 5 6 7 8 9 10\n",
    "str1= 'hai hai hai'\n",
    "str1.index('a',-9,-4) # among all the indexes the lowset index is '1'\n"
   ]
  },
  {
   "cell_type": "code",
   "execution_count": 49,
   "id": "b098a387-2337-4186-9bd5-e1ac327949a7",
   "metadata": {},
   "outputs": [
    {
     "ename": "ValueError",
     "evalue": "substring not found",
     "output_type": "error",
     "traceback": [
      "\u001b[1;31m---------------------------------------------------------------------------\u001b[0m",
      "\u001b[1;31mValueError\u001b[0m                                Traceback (most recent call last)",
      "Cell \u001b[1;32mIn[49], line 2\u001b[0m\n\u001b[0;32m      1\u001b[0m \u001b[38;5;28mstr\u001b[39m\u001b[38;5;241m=\u001b[39m\u001b[38;5;124m'\u001b[39m\u001b[38;5;124mhai hai hai\u001b[39m\u001b[38;5;124m'\u001b[39m\n\u001b[1;32m----> 2\u001b[0m \u001b[38;5;28mprint\u001b[39m(\u001b[38;5;28mstr\u001b[39m\u001b[38;5;241m.\u001b[39mindex(\u001b[38;5;124m'\u001b[39m\u001b[38;5;124ma\u001b[39m\u001b[38;5;124m'\u001b[39m,\u001b[38;5;241m-\u001b[39m\u001b[38;5;241m9\u001b[39m,\u001b[38;5;241m-\u001b[39m\u001b[38;5;241m6\u001b[39m))\n",
      "\u001b[1;31mValueError\u001b[0m: substring not found"
     ]
    }
   ],
   "source": [
    "str='hai hai hai'\n",
    "print(str.index('a',-9,-6))"
   ]
  },
  {
   "cell_type": "code",
   "execution_count": 50,
   "id": "23741f75-9427-4f86-b0e9-f72101852b9f",
   "metadata": {},
   "outputs": [
    {
     "name": "stdout",
     "output_type": "stream",
     "text": [
      "3\n",
      "2\n",
      "1\n"
     ]
    }
   ],
   "source": [
    "# -11 -10 -9 -8 -7 -6 -5 -4 -3 -2 -1\n",
    "# h a i h a i h a i\n",
    "# 0 1 2 3 4 5 6 7 8 9 10\n",
    "str1= 'hai hai hai'\n",
    "print(str1.count('a'))\n",
    "print(str1.count('a',3))\n",
    "print(str1.count('a',3,7))\n"
   ]
  },
  {
   "cell_type": "code",
   "execution_count": 51,
   "id": "919a7680-a2c9-4476-bc2a-332dda6917cc",
   "metadata": {},
   "outputs": [
    {
     "name": "stdout",
     "output_type": "stream",
     "text": [
      "1\n",
      "5\n",
      "5\n"
     ]
    }
   ],
   "source": [
    "# -11 -10 -9 -8 -7 -6 -5 -4 -3 -2 -1\n",
    "# h a i h a i h a i\n",
    "# 0 1 2 3 4 5 6 7 8 9 10\n",
    "str1= 'hai hai hai'\n",
    "print(str1.index('a'))\n",
    "print(str1.index('a',3))\n",
    "print(str1.index('a',3,7))\n"
   ]
  },
  {
   "cell_type": "code",
   "execution_count": null,
   "id": "62f9a141-c61e-4ea5-9308-dfb6dcf732c7",
   "metadata": {},
   "outputs": [],
   "source": [
    "Sir, yesterday assignment methods are string methods right?\n",
    "Why those are not visible in string package? Those are visible with dir('') not\n",
    "import string\n",
    "name='praveen'\n",
    "dir(name)\n",
    "dir(string)\n"
   ]
  },
  {
   "cell_type": "code",
   "execution_count": 52,
   "id": "49d8c917-d4f8-453d-a588-fef30e1f9d4c",
   "metadata": {},
   "outputs": [
    {
     "name": "stdout",
     "output_type": "stream",
     "text": [
      "1\n",
      "5\n",
      "9\n"
     ]
    }
   ],
   "source": [
    "str1='hai hai hai'\n",
    "# I want to know all the indexes of 'a'\n",
    "for i in range(len(str1)):\n",
    "    if str1[i]=='a':\n",
    "        print(i)\n"
   ]
  },
  {
   "cell_type": "code",
   "execution_count": 53,
   "id": "9299c672-cff3-40c4-ab3b-83ef0257aaeb",
   "metadata": {},
   "outputs": [
    {
     "name": "stdout",
     "output_type": "stream",
     "text": [
      "1\n",
      "5\n",
      "9\n",
      "13\n"
     ]
    }
   ],
   "source": [
    "# h a i h a i h a i hai\n",
    "# 0 1 2 3 4 5 6 7 8 9 10\n",
    "str1='hai hai hai hai'\n",
    "i1=str1.index('a')\n",
    "print(i1)\n",
    "i2=str1.index('a',i1+1)\n",
    "print(i2)\n",
    "i3=str1.index('a',i2+1)\n",
    "print(i3)\n",
    "i4=str1.index('a',i3+1)\n",
    "print(i4)"
   ]
  },
  {
   "cell_type": "code",
   "execution_count": 54,
   "id": "539ddd07-b67e-477f-8e78-6c0cd383ebb7",
   "metadata": {},
   "outputs": [
    {
     "name": "stdout",
     "output_type": "stream",
     "text": [
      "1\n",
      "5\n",
      "9\n",
      "13\n"
     ]
    },
    {
     "ename": "ValueError",
     "evalue": "substring not found",
     "output_type": "error",
     "traceback": [
      "\u001b[1;31m---------------------------------------------------------------------------\u001b[0m",
      "\u001b[1;31mValueError\u001b[0m                                Traceback (most recent call last)",
      "Cell \u001b[1;32mIn[54], line 13\u001b[0m\n\u001b[0;32m     11\u001b[0m i4\u001b[38;5;241m=\u001b[39m str1\u001b[38;5;241m.\u001b[39mindex(\u001b[38;5;124m'\u001b[39m\u001b[38;5;124ma\u001b[39m\u001b[38;5;124m'\u001b[39m,i3\u001b[38;5;241m+\u001b[39m\u001b[38;5;241m1\u001b[39m)\n\u001b[0;32m     12\u001b[0m \u001b[38;5;28mprint\u001b[39m(i4)\n\u001b[1;32m---> 13\u001b[0m i5\u001b[38;5;241m=\u001b[39m str1\u001b[38;5;241m.\u001b[39mindex(\u001b[38;5;124m'\u001b[39m\u001b[38;5;124ma\u001b[39m\u001b[38;5;124m'\u001b[39m,i4\u001b[38;5;241m+\u001b[39m\u001b[38;5;241m1\u001b[39m)\n\u001b[0;32m     14\u001b[0m \u001b[38;5;28mprint\u001b[39m(i5)\n",
      "\u001b[1;31mValueError\u001b[0m: substring not found"
     ]
    }
   ],
   "source": [
    "# Home work Implement above logic to get all the indexes\n",
    "# h a i h a i h a i hai\n",
    "# 0 1 2 3 4 5 6 7 8 9 10\n",
    "str1='hai hai hai hai'\n",
    "i1=str1.index('a')\n",
    "print(i1) # 1\n",
    "i2= str1.index('a',i1+1)\n",
    "print(i2) # 5\n",
    "i3= str1.index('a',i2+1)\n",
    "print(i3)\n",
    "i4= str1.index('a',i3+1)\n",
    "print(i4)\n",
    "i5= str1.index('a',i4+1)\n",
    "print(i5)"
   ]
  },
  {
   "cell_type": "markdown",
   "id": "6c7b0e8a-6aba-469d-8ddd-ac75223f6d62",
   "metadata": {},
   "source": [
    "**FIND**\n",
    "\n"
   ]
  },
  {
   "cell_type": "code",
   "execution_count": 55,
   "id": "614c506d-d9de-43bb-8bd1-e7178654c7db",
   "metadata": {},
   "outputs": [
    {
     "name": "stdout",
     "output_type": "stream",
     "text": [
      "1\n",
      "5\n",
      "9\n",
      "13\n",
      "-1\n"
     ]
    }
   ],
   "source": [
    "str1='hai hai hai hai'\n",
    "i1=str1.find('a')\n",
    "print(i1) # 1\n",
    "i2= str1.find('a',i1+1)\n",
    "print(i2) # 5\n",
    "i3= str1.find('a',i2+1)\n",
    "print(i3)\n",
    "i4= str1.find('a',i3+1)\n",
    "print(i4)\n",
    "i5= str1.find('a',i4+1)\n",
    "print(i5)"
   ]
  },
  {
   "cell_type": "code",
   "execution_count": null,
   "id": "4de79d52-77f7-41c0-ba6e-b8345fbe7197",
   "metadata": {},
   "outputs": [],
   "source": [
    "str1.index() # Raises ValueError when the substring is not found.\n",
    "str1.find() # Return -1 on failure."
   ]
  },
  {
   "cell_type": "code",
   "execution_count": 57,
   "id": "f43e5656-d349-4ce8-ac0c-61760d7d2e1f",
   "metadata": {},
   "outputs": [
    {
     "data": {
      "text/plain": [
       "0"
      ]
     },
     "execution_count": 57,
     "metadata": {},
     "output_type": "execute_result"
    }
   ],
   "source": [
    "str1='hai hai hai'\n",
    "str1.count('z')"
   ]
  },
  {
   "cell_type": "code",
   "execution_count": 58,
   "id": "6dd53d57-8952-4028-9ddd-baac14f016d6",
   "metadata": {},
   "outputs": [
    {
     "data": {
      "text/plain": [
       "'hai hai hai'"
      ]
     },
     "execution_count": 58,
     "metadata": {},
     "output_type": "execute_result"
    }
   ],
   "source": [
    "str1='hai hai hai'\n",
    "str1.replace('z','Z')"
   ]
  },
  {
   "cell_type": "markdown",
   "id": "bae6b61c-6f52-4359-9cf5-a4d35536c1e6",
   "metadata": {},
   "source": [
    "- If substring not found\n",
    "- Count method will give zero\n",
    "- Replace method will give original string\n",
    "- Index will give sub string not found error\n",
    "- Find will give -1\n"
   ]
  },
  {
   "cell_type": "code",
   "execution_count": null,
   "id": "8fc0e19f-de66-48cc-8b04-711b93bdd4f6",
   "metadata": {},
   "outputs": [],
   "source": [
    "str1='omkar.nallagoni@cognizant.com'\n",
    "# Fisrt name= omkar\n",
    "# second name= nallagoni\n",
    "# company name= cognizant\n",
    "str2='virat.kohli@rcb.com'\n",
    "str3='rohit.sharma@mi.com'\n",
    "str4='a.b@c.com'\n",
    "\n",
    "# Idea : find the triggers\n",
    "# For first name .\n",
    "# second name . and @\n",
    "# Compnay name @ and second .\n",
    "# i1= first dot index\n",
    "# i2= @ index\n",
    "# i3= second index\n"
   ]
  },
  {
   "cell_type": "code",
   "execution_count": 59,
   "id": "b93f98fc-1448-406d-b47b-82d94f5bd2d4",
   "metadata": {},
   "outputs": [
    {
     "data": {
      "text/plain": [
       "('omkar', 'nallagoni', 'cognizant')"
      ]
     },
     "execution_count": 59,
     "metadata": {},
     "output_type": "execute_result"
    }
   ],
   "source": [
    "str1='omkar.nallagoni@cognizant.com'\n",
    "i1=str1.index('.')\n",
    "i2=str1.index('@')\n",
    "i3=str1.index('.',i1+1)\n",
    "first_name=str1[:i1]\n",
    "second_name=str1[i1+1:i2]\n",
    "cname=str1[i2+1:i3]\n",
    "first_name,second_name,cname"
   ]
  },
  {
   "cell_type": "markdown",
   "id": "96374e5f-9b34-4ce7-9627-705084e5540e",
   "metadata": {},
   "source": [
    "- count\n",
    "- replace\n",
    "- find\n",
    "- index\n",
    "\n",
    "- Upper/lower/casefold\n",
    "- Capitalize/Title\n",
    "- Center\n",
    "- Count\n",
    "- Replace\n",
    "- index/find\n",
    "- start with is"
   ]
  },
  {
   "cell_type": "markdown",
   "id": "d57256d9-ba26-4972-adc2-9a08fd45d86d",
   "metadata": {},
   "source": [
    "- split\n",
    "- strip/lstrip/rstrip\n",
    "- startswith/endswith"
   ]
  },
  {
   "cell_type": "code",
   "execution_count": null,
   "id": "3f7572bd-72a4-4beb-81bd-3f9c056a64cb",
   "metadata": {},
   "outputs": [],
   "source": []
  }
 ],
 "metadata": {
  "kernelspec": {
   "display_name": "Python 3 (ipykernel)",
   "language": "python",
   "name": "python3"
  },
  "language_info": {
   "codemirror_mode": {
    "name": "ipython",
    "version": 3
   },
   "file_extension": ".py",
   "mimetype": "text/x-python",
   "name": "python",
   "nbconvert_exporter": "python",
   "pygments_lexer": "ipython3",
   "version": "3.11.7"
  }
 },
 "nbformat": 4,
 "nbformat_minor": 5
}
