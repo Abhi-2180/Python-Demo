{
 "cells": [
  {
   "cell_type": "markdown",
   "id": "c38a5b88-d61c-4ffd-b4ad-17bb99db6cdc",
   "metadata": {},
   "source": [
    "**File Handling**"
   ]
  },
  {
   "cell_type": "code",
   "execution_count": null,
   "id": "1f90e9bb-4ea8-47c2-97ae-69043873f27a",
   "metadata": {},
   "outputs": [],
   "source": [
    "File Name                                       Type of file\n",
    "========================= Structures and Semi-Structured ======================\n",
    "Text                                           .text\n",
    "\n",
    "word                                           .doc or .docx\n",
    "\n",
    "Pdf                                            .pdf\n",
    "\n",
    "CSV(Excel)                                     .csv (Comma seperated value)(tabular)\n",
    "\n",
    "Excel                                          .xlsx (Tabular)\n",
    "\n",
    "json                                           .json (Dictionary key-value) \n",
    "\n",
    "\n",
    "============================== Unstructured ===================================\n",
    "XML                                           .xml (Image data)\n",
    "\n",
    "Parquet                                       .delta/.parquet (DE)\n",
    "\n",
    "Delta                                         .delta (DE)\n",
    "\n",
    "Image                                         .jpg,.JPEG,.png\n",
    "\n",
    "Video                                         .mp4\n",
    "\n",
    "Audio                                          .mp3\n",
    "\n",
    "\n",
    "location\\filename.typeoffile\n",
    "\n",
    "\n",
    "\n",
    "\n"
   ]
  },
  {
   "cell_type": "markdown",
   "id": "06706fca-ea03-4000-933f-28e84c7b8005",
   "metadata": {},
   "source": [
    "**task**\n",
    "- Get the package names to read each file"
   ]
  },
  {
   "cell_type": "code",
   "execution_count": null,
   "id": "ae339a61-028b-4ae1-9b65-b3bc8a19701f",
   "metadata": {},
   "outputs": [],
   "source": [
    "**How to read the text file**\n",
    "- In order to read any file, we need 3 points\n",
    "- Where is the file located: directory or folder name\n",
    "'C:\\Users\\omkar\\OneDrive\\Documents\\Data science\\Naresh IT\\Naresh IT\\Datafiles'\n",
    "- What is the file name\n",
    "'mbox-short'\n",
    "- What is the extension of the file\n",
    "'.txt'\n",
    "- location\\filename.typeoffile\n",
    "\n",
    "path=\"C:\\Users\\omkar\\OneDrive\\Documents\\Data science\\Naresh IT\\Naresh IT\\Datafil\n",
    "C:\\Users\\omkar\\OneDrive\\Documents\\Data science\\Naresh IT\\Naresh IT\\Datafiles\n",
    "\"C:\\Users\\omkar\\OneDrive\\Documents\\Data science\\Naresh IT\\Naresh IT\\Datafiles\\mb"
   ]
  },
  {
   "cell_type": "markdown",
   "id": "ed365e59-2300-4e3b-9234-a971ffb1fef3",
   "metadata": {},
   "source": [
    "**Unicode error**\n",
    "- Whenever we see apply the single slash python gives the error\n",
    "- This is called as Unicode error\n",
    "- Uni means one\n",
    "- Unicode means you need to provide double slash\n",
    "- we can avoid unicode error by providing a r letter in starting of the path"
   ]
  },
  {
   "cell_type": "code",
   "execution_count": null,
   "id": "2008e091-f8b2-44c4-b213-0520bcad5dd3",
   "metadata": {},
   "outputs": [],
   "source": []
  }
 ],
 "metadata": {
  "kernelspec": {
   "display_name": "Python 3 (ipykernel)",
   "language": "python",
   "name": "python3"
  },
  "language_info": {
   "codemirror_mode": {
    "name": "ipython",
    "version": 3
   },
   "file_extension": ".py",
   "mimetype": "text/x-python",
   "name": "python",
   "nbconvert_exporter": "python",
   "pygments_lexer": "ipython3",
   "version": "3.11.7"
  }
 },
 "nbformat": 4,
 "nbformat_minor": 5
}
