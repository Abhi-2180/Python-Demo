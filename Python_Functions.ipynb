{
 "cells": [
  {
   "cell_type": "markdown",
   "id": "529c0c0a-9e10-4f41-9160-4ee850ae2278",
   "metadata": {},
   "source": [
    "**Functions**\n",
    "\n",
    "-A block of code which we cAN use many times ."
   ]
  },
  {
   "cell_type": "code",
   "execution_count": null,
   "id": "8f997d42-3b08-4712-913b-f9ba97a192a9",
   "metadata": {},
   "outputs": [],
   "source": [
    "def <function_name>"
   ]
  },
  {
   "cell_type": "code",
   "execution_count": 2,
   "id": "9fb17b61-f811-4840-8ad0-85c95cb9ef94",
   "metadata": {},
   "outputs": [
    {
     "ename": "SyntaxError",
     "evalue": "invalid syntax. Perhaps you forgot a comma? (1783561194.py, line 7)",
     "output_type": "error",
     "traceback": [
      "\u001b[1;36m  Cell \u001b[1;32mIn[2], line 7\u001b[1;36m\u001b[0m\n\u001b[1;33m    print(f\"The addition of {num1} and {num2} is \" add)\u001b[0m\n\u001b[1;37m          ^\u001b[0m\n\u001b[1;31mSyntaxError\u001b[0m\u001b[1;31m:\u001b[0m invalid syntax. Perhaps you forgot a comma?\n"
     ]
    }
   ],
   "source": [
    "def addition():\n",
    "    num1=15\n",
    "    print(\"num1 is :{num1}\")\n",
    "    num2=20\n",
    "    print(\"num2 is :{num2}\")\n",
    "    add=num1+num2\n",
    "    print(f\"The addition of {num1} and {num2} is \" add)"
   ]
  },
  {
   "cell_type": "code",
   "execution_count": null,
   "id": "c7ce7bb8-8705-4e5c-8ea5-2bcdd4c892b9",
   "metadata": {},
   "outputs": [],
   "source": [
    "#Function name :addition#\n",
    "#we need to caall the functuon to execute code lines#\n",
    "\n",
    "\n",
    "**Rules**\n",
    "- Function name can be anything\n",
    "- same rules applicable for variables\n",
    "- indentation check when creating a function\n",
    "- start with keyword , wnding with colon then code lines start with intentaion\n",
    "- brackets means functions\n",
    "- brackets while calling functions\n",
    "- we need to call the function\n",
    "- function error or bound method errormeans brackets missing\n",
    "- whilw we define function if nothing mentioned it is fuunction without argument"
   ]
  },
  {
   "cell_type": "code",
   "execution_count": 12,
   "id": "f7d05662-23f6-482e-b396-d779723fe418",
   "metadata": {},
   "outputs": [
    {
     "name": "stdin",
     "output_type": "stream",
     "text": [
      "Enter num1: 10\n",
      "Enter num2: 12\n",
      "Enter num3: 15\n"
     ]
    },
    {
     "name": "stdout",
     "output_type": "stream",
     "text": [
      "The average of 10 12 15 :12.33\n"
     ]
    }
   ],
   "source": [
    "def average():\n",
    "    num1=eval(input(\"Enter num1:\"))\n",
    "    num2=eval(input(\"Enter num2:\"))\n",
    "    num3=eval(input(\"Enter num3:\"))\n",
    "    average=(num1+num2+num3)/3\n",
    "    average1=round(average,2)\n",
    "    print(f\"The average of {num1} {num2} {num3} :{average1}\")\n",
    "average()"
   ]
  },
  {
   "cell_type": "code",
   "execution_count": 16,
   "id": "e9d8b297-a9ce-4cf9-891d-e9f81656653c",
   "metadata": {},
   "outputs": [],
   "source": [
    "\n",
    "##FUNCTIONS WITH ARGUMENTS "
   ]
  },
  {
   "cell_type": "code",
   "execution_count": null,
   "id": "c1dd35d3-da9e-45d4-8e29-148cc50f673e",
   "metadata": {},
   "outputs": [],
   "source": [
    "-frist look how many arguments or variables are there\n",
    "-in that how many input variables are there\n",
    "-output variables are there\n",
    "-input vaiables user defined output varaible python gives output"
   ]
  },
  {
   "cell_type": "code",
   "execution_count": 20,
   "id": "8da4c8f1-eae1-43d6-9846-4eb4eccc332c",
   "metadata": {},
   "outputs": [
    {
     "name": "stdout",
     "output_type": "stream",
     "text": [
      "The addition of 2025 is 45\n"
     ]
    }
   ],
   "source": [
    "def addition2(num1,num2):\n",
    "    add=num1+num2\n",
    "    print(f\"The addition of {num1}and{num2} is {add}\")\n",
    "\n",
    "addition2(20,25)"
   ]
  },
  {
   "cell_type": "code",
   "execution_count": 26,
   "id": "1e59611f-3d0b-4a13-892b-39a886c75916",
   "metadata": {},
   "outputs": [
    {
     "name": "stdout",
     "output_type": "stream",
     "text": [
      "the average of 10,20,30 is 20.0\n"
     ]
    }
   ],
   "source": [
    "def average1(num1,num2,num3):\n",
    "    avg=(num1+num2+num3)/3\n",
    "    avg1=round(avg,2)\n",
    "    print(f\"the average of {num1},{num2},{num3} is {avg1}\")\n",
    "    \n",
    "average1(10,20,30)"
   ]
  },
  {
   "cell_type": "code",
   "execution_count": 28,
   "id": "ead78672-9111-46de-9a14-3bf0257ad301",
   "metadata": {},
   "outputs": [
    {
     "name": "stdout",
     "output_type": "stream",
     "text": [
      "area is 200\n"
     ]
    }
   ],
   "source": [
    "def area(len,bre):\n",
    "    a=(len*bre)\n",
    "    print(f\"area is {a}\")\n",
    "area(10,20)"
   ]
  },
  {
   "cell_type": "code",
   "execution_count": 1,
   "id": "f9e279c9-0d19-4745-99aa-ca515ac318d4",
   "metadata": {},
   "outputs": [
    {
     "name": "stdout",
     "output_type": "stream",
     "text": [
      "The subraction is -10\n"
     ]
    }
   ],
   "source": [
    "def sub(n1,n2):\n",
    "    sub=n1-n2\n",
    "    print(f\"The subraction is {sub}\")\n",
    "sub(10,20)"
   ]
  },
  {
   "cell_type": "markdown",
   "id": "83786ad6-7db7-476a-938f-3df9e9a1fbb0",
   "metadata": {},
   "source": [
    "**Default Arguments**"
   ]
  },
  {
   "cell_type": "markdown",
   "id": "65684567-2440-43d2-b02a-326ad3811549",
   "metadata": {},
   "source": [
    "## Bill amount problem##\n"
   ]
  },
  {
   "cell_type": "code",
   "execution_count": 2,
   "id": "9b307d67-12cf-4d92-9faa-404b8b673f39",
   "metadata": {},
   "outputs": [
    {
     "name": "stdin",
     "output_type": "stream",
     "text": [
      "Ënter the bill amount : 500\n",
      "Enter the tip percentage : 15\n"
     ]
    },
    {
     "name": "stdout",
     "output_type": "stream",
     "text": [
      "The total bill is : 575.0\n"
     ]
    }
   ],
   "source": [
    "bill=eval(input(\"Ënter the bill amount :\"))\n",
    "tip_percent=eval(input(\"Enter the tip percentage :\"))\n",
    "tip_amount=bill*tip_percent/100\n",
    "Total_bill=bill+tip_amount\n",
    "print(\"The total bill is :\",Total_bill)"
   ]
  },
  {
   "cell_type": "code",
   "execution_count": 3,
   "id": "24a843d9-054f-41a4-b031-1252bde529b0",
   "metadata": {},
   "outputs": [
    {
     "name": "stdin",
     "output_type": "stream",
     "text": [
      "Enter Bill AMount : 500\n",
      "Enter tip percent : 10\n"
     ]
    },
    {
     "name": "stdout",
     "output_type": "stream",
     "text": [
      "The total bill is : 550.0\n"
     ]
    }
   ],
   "source": [
    "# with arguments\n",
    "# we need to provide arguments check arguemnts \n",
    "\n",
    "def bill_pay():\n",
    "    bill=eval(input(\"Enter Bill AMount :\"))\n",
    "    tip_percent=eval(input(\"Enter tip percent :\"))\n",
    "    tip_amount=bill*tip_percent/100\n",
    "    Total_bill=bill+tip_amount\n",
    "    print(\"The total bill is :\",Total_bill)\n",
    "bill_pay()"
   ]
  },
  {
   "cell_type": "code",
   "execution_count": 4,
   "id": "5b0cc83c-54fd-4efb-b0e6-d45974159d96",
   "metadata": {},
   "outputs": [
    {
     "name": "stdout",
     "output_type": "stream",
     "text": [
      "The bill is  2000\n",
      "tip_percent is 20\n",
      "The total bill is : 2400.0\n"
     ]
    }
   ],
   "source": [
    "def bill_pay(bill,tip_percent=20):\n",
    "    print(\"The bill is \",bill)\n",
    "    print(\"tip_percent is\",tip_percent)\n",
    "    tip_amount=bill*tip_percent/100\n",
    "    total_bill=bill+tip_amount\n",
    "    print(\"The total bill is :\",total_bill)\n",
    "bill_pay(2000)"
   ]
  },
  {
   "cell_type": "code",
   "execution_count": 7,
   "id": "76dc14b4-7370-436a-a2ed-485866d201d9",
   "metadata": {},
   "outputs": [
    {
     "name": "stdout",
     "output_type": "stream",
     "text": [
      "num1: 10\n",
      "num2: 20\n",
      "num3: 50\n",
      "the average of 10,20,50 is 26.67\n"
     ]
    }
   ],
   "source": [
    "def average1(num1,num2,num3=50):\n",
    "    print(\"num1:\",num1)\n",
    "    print(\"num2:\",num2)\n",
    "    print(\"num3:\",num3)\n",
    "    avg=(num1+num2+num3)/3\n",
    "    avg1=round(avg,2)\n",
    "    print(f\"the average of {num1},{num2},{num3} is {avg1}\")\n",
    "    \n",
    "average1(10,20,)"
   ]
  },
  {
   "cell_type": "code",
   "execution_count": 10,
   "id": "8cae0032-814d-4d9b-b875-94eab5f66f30",
   "metadata": {},
   "outputs": [
    {
     "name": "stdout",
     "output_type": "stream",
     "text": [
      "num1: 10\n",
      "num2: 50\n",
      "num3: 20\n",
      "the average of 10,50,20 is 26.67\n"
     ]
    }
   ],
   "source": [
    "def average1(num1,num3,num2=50):\n",
    "    print(\"num1:\",num1)\n",
    "    print(\"num2:\",num2)\n",
    "    print(\"num3:\",num3)\n",
    "    avg=(num1+num2+num3)/3\n",
    "    avg1=round(avg,2)\n",
    "    print(f\"the average of {num1},{num2},{num3} is {avg1}\")\n",
    "    \n",
    "average1(10,20)"
   ]
  },
  {
   "cell_type": "markdown",
   "id": "e15fd08f-c218-48a1-83f7-812a6a62382b",
   "metadata": {},
   "source": [
    "** Default arguments always at last**"
   ]
  },
  {
   "cell_type": "markdown",
   "id": "5948f4b4-32c0-457a-9977-e2bd7dc1d8f9",
   "metadata": {},
   "source": [
    "average1(num1,num3,num2=50)\n",
    "average1(num1,num3=20,num2=50)\n",
    "average1(num1=10,num3,num2=50)\n",
    "average1(num1=45,num3=35,num2=50)\n",
    "average1(num1=20,num3=30,num2)"
   ]
  },
  {
   "cell_type": "code",
   "execution_count": 21,
   "id": "1da7e74d-0dce-44ee-92a9-b366050881c3",
   "metadata": {},
   "outputs": [
    {
     "name": "stdout",
     "output_type": "stream",
     "text": [
      "700\n"
     ]
    }
   ],
   "source": [
    "def addition(n1,n2=600):\n",
    "    add=n1+n2\n",
    "    print(add)\n",
    "addition(500,200)"
   ]
  },
  {
   "cell_type": "code",
   "execution_count": 22,
   "id": "6bbc6acd-142b-4386-816d-374d60f61749",
   "metadata": {},
   "outputs": [
    {
     "name": "stdout",
     "output_type": "stream",
     "text": [
      "1300\n"
     ]
    }
   ],
   "source": [
    "def addition(n1,n2=600):\n",
    "    n2=800\n",
    "    add=n1+n2\n",
    "    print(add)\n",
    "addition(500,200)\n",
    "\n",
    "# step1- Define the function n2=600\n",
    "# step2- call the function n2=1000\n",
    "# step3- Running the function n2=2000"
   ]
  },
  {
   "cell_type": "markdown",
   "id": "da2aac7b-76ce-465e-bcc6-ea4a51cec3b2",
   "metadata": {},
   "source": [
    "**Local Variable and Global Variable**\n",
    "\n",
    "-Local Variable:\n",
    "- Variables inside the function call\n",
    "\n",
    "-Global Variable:\n",
    "-Variables outside function call\n",
    "\n",
    "-Once you define varaibles outside,mans you can use variables anywhere\n",
    "-You can use global variables inside functions too\n",
    "- But you cant use local variables outside function"
   ]
  },
  {
   "cell_type": "code",
   "execution_count": 23,
   "id": "3ba9e4db-ba38-4975-a9c9-b8ced8815518",
   "metadata": {},
   "outputs": [
    {
     "name": "stdout",
     "output_type": "stream",
     "text": [
      "300\n"
     ]
    }
   ],
   "source": [
    "def multiplication():\n",
    "    a=10\n",
    "    b=30\n",
    "    mul=a*b\n",
    "    print(mul)\n",
    "multiplication()"
   ]
  },
  {
   "cell_type": "code",
   "execution_count": 1,
   "id": "2b2c591e-3a52-40dd-b35c-5e43bfe07c46",
   "metadata": {},
   "outputs": [
    {
     "ename": "NameError",
     "evalue": "name 'mul' is not defined",
     "output_type": "error",
     "traceback": [
      "\u001b[1;31m---------------------------------------------------------------------------\u001b[0m",
      "\u001b[1;31mNameError\u001b[0m                                 Traceback (most recent call last)",
      "Cell \u001b[1;32mIn[1], line 1\u001b[0m\n\u001b[1;32m----> 1\u001b[0m mul\n",
      "\u001b[1;31mNameError\u001b[0m: name 'mul' is not defined"
     ]
    }
   ],
   "source": [
    "mul"
   ]
  },
  {
   "cell_type": "code",
   "execution_count": 2,
   "id": "99bc0eef-75e7-4c9b-a4ba-9ae02902c085",
   "metadata": {},
   "outputs": [
    {
     "name": "stdout",
     "output_type": "stream",
     "text": [
      "20000\n"
     ]
    }
   ],
   "source": [
    "a1=100\n",
    "b1=200\n",
    "def multiplication():\n",
    "    mul1=a1*b1\n",
    "    print(mul1)\n",
    "multiplication()"
   ]
  },
  {
   "cell_type": "code",
   "execution_count": 3,
   "id": "835c1c5e-07ec-48ef-ac89-03024b63e6aa",
   "metadata": {},
   "outputs": [
    {
     "data": {
      "text/plain": [
       "100"
      ]
     },
     "execution_count": 3,
     "metadata": {},
     "output_type": "execute_result"
    }
   ],
   "source": [
    "a1"
   ]
  },
  {
   "cell_type": "code",
   "execution_count": 4,
   "id": "a2e95332-ca73-4c7e-af35-37245ef52409",
   "metadata": {},
   "outputs": [
    {
     "ename": "NameError",
     "evalue": "name 'mul1' is not defined",
     "output_type": "error",
     "traceback": [
      "\u001b[1;31m---------------------------------------------------------------------------\u001b[0m",
      "\u001b[1;31mNameError\u001b[0m                                 Traceback (most recent call last)",
      "Cell \u001b[1;32mIn[4], line 1\u001b[0m\n\u001b[1;32m----> 1\u001b[0m mul1\n",
      "\u001b[1;31mNameError\u001b[0m: name 'mul1' is not defined"
     ]
    }
   ],
   "source": [
    "mul1"
   ]
  },
  {
   "cell_type": "code",
   "execution_count": 8,
   "id": "4241353f-5585-4ba6-879a-32949574b8c4",
   "metadata": {},
   "outputs": [
    {
     "name": "stdout",
     "output_type": "stream",
     "text": [
      "1200\n"
     ]
    }
   ],
   "source": [
    "#case 5\n",
    "a1=100\n",
    "b1=200\n",
    "def add11(a1=1000):\n",
    "    add1=a1+b1\n",
    "    print(add1)\n",
    "add11()\n",
    "\n",
    "# a1=100 === > a1=1000 === > 1000+200\n",
    "#Step-1: Global variable intialization a1=100\n",
    "# Step-2: Define the function a1=1000\n",
    "# Step-3: Call the function a1=1000\n",
    "# Step-4: Running the function a1=1000"
   ]
  },
  {
   "cell_type": "code",
   "execution_count": 7,
   "id": "879275dc-4af1-4aea-80b4-309a7792bc53",
   "metadata": {},
   "outputs": [
    {
     "ename": "TypeError",
     "evalue": "add11() got an unexpected keyword argument 'b1'",
     "output_type": "error",
     "traceback": [
      "\u001b[1;31m---------------------------------------------------------------------------\u001b[0m",
      "\u001b[1;31mTypeError\u001b[0m                                 Traceback (most recent call last)",
      "Cell \u001b[1;32mIn[7], line 7\u001b[0m\n\u001b[0;32m      5\u001b[0m     add1\u001b[38;5;241m=\u001b[39ma1\u001b[38;5;241m+\u001b[39mb1\n\u001b[0;32m      6\u001b[0m     \u001b[38;5;28mprint\u001b[39m(add1)\n\u001b[1;32m----> 7\u001b[0m add11(a1\u001b[38;5;241m=\u001b[39m\u001b[38;5;241m2000\u001b[39m,b1\u001b[38;5;241m=\u001b[39m\u001b[38;5;241m3000\u001b[39m)\n",
      "\u001b[1;31mTypeError\u001b[0m: add11() got an unexpected keyword argument 'b1'"
     ]
    }
   ],
   "source": [
    "# Case-6\n",
    "a1=100\n",
    "b1=200\n",
    "def add11(a1=1000):\n",
    "    add1=a1+b1\n",
    "    print(add1)\n",
    "add11(a1=2000,b1=3000)\n",
    "\n",
    "# while defiening function only one argument is there\n",
    "# while calling we are providing two arguments\n",
    "# It is not possibile"
   ]
  },
  {
   "cell_type": "code",
   "execution_count": 9,
   "id": "13f9b66a-e9ca-42a9-bca3-c2b5ced92641",
   "metadata": {},
   "outputs": [
    {
     "name": "stdout",
     "output_type": "stream",
     "text": [
      "2200\n"
     ]
    }
   ],
   "source": [
    "# Case-7:\n",
    "a1=100\n",
    "b1=200\n",
    "def add11(a1=1000):\n",
    "    add1=a1+b1\n",
    "    print(add1)\n",
    "add11(a1=2000)"
   ]
  },
  {
   "cell_type": "code",
   "execution_count": 11,
   "id": "5ecc05a1-2650-498e-a166-b25ee3758e06",
   "metadata": {},
   "outputs": [
    {
     "name": "stdout",
     "output_type": "stream",
     "text": [
      "5200\n"
     ]
    }
   ],
   "source": [
    "# Case-8:\n",
    "a1=100\n",
    "b1=200\n",
    "def add11(a1=1000):\n",
    "    a1=5000\n",
    "    add1=a1+b1\n",
    "    print(add1)\n",
    "add11(a1=2000)"
   ]
  },
  {
   "cell_type": "code",
   "execution_count": 12,
   "id": "1ea17461-8f5d-4de3-999c-38bab9e99c37",
   "metadata": {},
   "outputs": [
    {
     "data": {
      "text/plain": [
       "100"
      ]
     },
     "execution_count": 12,
     "metadata": {},
     "output_type": "execute_result"
    }
   ],
   "source": [
    "a1"
   ]
  },
  {
   "cell_type": "code",
   "execution_count": 15,
   "id": "1e7c355f-04ca-4ca2-9b64-a87a906d7186",
   "metadata": {},
   "outputs": [
    {
     "name": "stdout",
     "output_type": "stream",
     "text": [
      "5200\n"
     ]
    }
   ],
   "source": [
    "# Case-9:\n",
    "a1=100\n",
    "b1=200\n",
    "def add11(a1=1000):\n",
    "    a1=5000\n",
    "    add1=a1+b1\n",
    "    print(add1)\n",
    "a1=6000\n",
    "add11(a1=2000)\n",
    "# a1=100,b1=200\n",
    "# define the function a1=1000\n",
    "# a1=6000\n",
    "# calling the a1=2000\n",
    "# running a1=5000"
   ]
  },
  {
   "cell_type": "code",
   "execution_count": 16,
   "id": "6def29ae-95d7-43c2-b4bb-7b15b6377a14",
   "metadata": {},
   "outputs": [
    {
     "data": {
      "text/plain": [
       "6000"
      ]
     },
     "execution_count": 16,
     "metadata": {},
     "output_type": "execute_result"
    }
   ],
   "source": [
    "a1"
   ]
  },
  {
   "cell_type": "code",
   "execution_count": 17,
   "id": "a7c5eaf8-1c70-4568-8c51-fd6278bbc201",
   "metadata": {},
   "outputs": [
    {
     "name": "stdout",
     "output_type": "stream",
     "text": [
      "6200\n"
     ]
    }
   ],
   "source": [
    "# Case-10:\n",
    "b1=200\n",
    "def add11():\n",
    "    add1=a1+b1\n",
    "    print(add1)\n",
    "a1=6000\n",
    "add11()\n",
    "# b1=200\n",
    "# define the function\n",
    "# a1=6000\n",
    "# calling the function\n",
    "# running the function"
   ]
  },
  {
   "cell_type": "code",
   "execution_count": 18,
   "id": "c09d7a60-b484-4e94-95e3-1e7d373708c5",
   "metadata": {},
   "outputs": [
    {
     "name": "stdout",
     "output_type": "stream",
     "text": [
      "6200\n"
     ]
    }
   ],
   "source": [
    "# Case-11:\n",
    "b1=200\n",
    "def add11():\n",
    "    add1=a1+b1\n",
    "    print(add1)\n",
    "a1=6000\n",
    "add11()"
   ]
  },
  {
   "cell_type": "code",
   "execution_count": null,
   "id": "396cb8d7-c9be-4726-a9a6-52667f9738aa",
   "metadata": {},
   "outputs": [],
   "source": [
    "even through we use same variable name a1 in local and global.. both are different"
   ]
  },
  {
   "cell_type": "code",
   "execution_count": 19,
   "id": "d87e73fe-3a4f-4299-ad0d-08fbdd802091",
   "metadata": {},
   "outputs": [
    {
     "name": "stdout",
     "output_type": "stream",
     "text": [
      "hello\n"
     ]
    }
   ],
   "source": [
    "a=100\n",
    "def greet():\n",
    "    a=200\n",
    "    print('hello')\n",
    "greet()"
   ]
  },
  {
   "cell_type": "code",
   "execution_count": null,
   "id": "607b415b-b890-45e8-8af0-f7061c82d655",
   "metadata": {},
   "outputs": [],
   "source": [
    "# step-1: Variables intilised\n",
    "# Step-2: Define the function\n",
    "# Step-3: Calling the function\n",
    "# Step-4: Running the function"
   ]
  },
  {
   "cell_type": "code",
   "execution_count": 27,
   "id": "8a01b310-6e89-4b13-8d2d-62c7df06fcbb",
   "metadata": {},
   "outputs": [
    {
     "ename": "NameError",
     "evalue": "name 'c21' is not defined",
     "output_type": "error",
     "traceback": [
      "\u001b[1;31m---------------------------------------------------------------------------\u001b[0m",
      "\u001b[1;31mNameError\u001b[0m                                 Traceback (most recent call last)",
      "Cell \u001b[1;32mIn[27], line 6\u001b[0m\n\u001b[0;32m      4\u001b[0m     add1\u001b[38;5;241m=\u001b[39mc21\u001b[38;5;241m+\u001b[39mb21\n\u001b[0;32m      5\u001b[0m     \u001b[38;5;28mprint\u001b[39m(add1)\n\u001b[1;32m----> 6\u001b[0m add21()\n\u001b[0;32m      7\u001b[0m a\u001b[38;5;241m=\u001b[39m\u001b[38;5;241m6000\u001b[39m\n",
      "Cell \u001b[1;32mIn[27], line 4\u001b[0m, in \u001b[0;36madd21\u001b[1;34m()\u001b[0m\n\u001b[0;32m      3\u001b[0m \u001b[38;5;28;01mdef\u001b[39;00m \u001b[38;5;21madd21\u001b[39m():\n\u001b[1;32m----> 4\u001b[0m     add1\u001b[38;5;241m=\u001b[39mc21\u001b[38;5;241m+\u001b[39mb21\n\u001b[0;32m      5\u001b[0m     \u001b[38;5;28mprint\u001b[39m(add1)\n",
      "\u001b[1;31mNameError\u001b[0m: name 'c21' is not defined"
     ]
    }
   ],
   "source": [
    "# Case-12:\n",
    "b21=200\n",
    "def add21():\n",
    "    add1=c21+b21\n",
    "    print(add1)\n",
    "add21()\n",
    "a=6000\n"
   ]
  },
  {
   "cell_type": "code",
   "execution_count": 28,
   "id": "0dd01a6c-607d-4ffb-9f6f-bcec80c602ff",
   "metadata": {},
   "outputs": [
    {
     "ename": "UnboundLocalError",
     "evalue": "cannot access local variable 's' where it is not associated with a value",
     "output_type": "error",
     "traceback": [
      "\u001b[1;31m---------------------------------------------------------------------------\u001b[0m",
      "\u001b[1;31mUnboundLocalError\u001b[0m                         Traceback (most recent call last)",
      "Cell \u001b[1;32mIn[28], line 5\u001b[0m\n\u001b[0;32m      3\u001b[0m     s\u001b[38;5;241m=\u001b[39ms\u001b[38;5;241m+\u001b[39m\u001b[38;5;241m10\u001b[39m\n\u001b[0;32m      4\u001b[0m     \u001b[38;5;28mprint\u001b[39m(s)\n\u001b[1;32m----> 5\u001b[0m add()\n",
      "Cell \u001b[1;32mIn[28], line 3\u001b[0m, in \u001b[0;36madd\u001b[1;34m()\u001b[0m\n\u001b[0;32m      2\u001b[0m \u001b[38;5;28;01mdef\u001b[39;00m \u001b[38;5;21madd\u001b[39m():\n\u001b[1;32m----> 3\u001b[0m     s\u001b[38;5;241m=\u001b[39ms\u001b[38;5;241m+\u001b[39m\u001b[38;5;241m10\u001b[39m\n\u001b[0;32m      4\u001b[0m     \u001b[38;5;28mprint\u001b[39m(s)\n",
      "\u001b[1;31mUnboundLocalError\u001b[0m: cannot access local variable 's' where it is not associated with a value"
     ]
    }
   ],
   "source": [
    "s=0\n",
    "def add():\n",
    "    s=s+10\n",
    "    print(s)\n",
    "add()"
   ]
  },
  {
   "cell_type": "code",
   "execution_count": 30,
   "id": "8e85b77e-ba67-4062-a1ac-5aa59f651f8b",
   "metadata": {},
   "outputs": [
    {
     "name": "stdout",
     "output_type": "stream",
     "text": [
      "100 200 300\n"
     ]
    }
   ],
   "source": [
    "n1=10\n",
    "def addition():\n",
    "    n1=100\n",
    "    n2=200\n",
    "    n3=n1+n2\n",
    "    print(n1,n2,n3)\n",
    "addition()\n"
   ]
  },
  {
   "cell_type": "markdown",
   "id": "44292749-4400-4240-a3a7-c68463b3d2f6",
   "metadata": {},
   "source": [
    " Note\n",
    "- if you give same variabel as global and local\n",
    "- make sure that that variable should not use as value inside the function"
   ]
  },
  {
   "cell_type": "code",
   "execution_count": 31,
   "id": "450d5f0a-a318-4ab2-8d47-06f5d504a850",
   "metadata": {},
   "outputs": [
    {
     "name": "stdout",
     "output_type": "stream",
     "text": [
      "10 210 220\n"
     ]
    }
   ],
   "source": [
    "n11=10\n",
    "def addition():\n",
    "    n22=200+n11\n",
    "    n33=n11+n22\n",
    "    print(n11,n22,n33)\n",
    "addition()\n",
    "\n",
    "# step-1: n11 =10\n",
    "# step-2: define the function\n",
    "# step-3: call the function\n",
    "# step-4: run the function\n",
    "# n11 is global variable passing inside the function (yes)\n",
    "# n22=200+n11= 200+10=210\n",
    "# n33=10+210=220\n",
    "# print(10,210,220)"
   ]
  },
  {
   "cell_type": "code",
   "execution_count": 32,
   "id": "8b5f3a66-5551-47b4-a030-bb79e53d12cb",
   "metadata": {},
   "outputs": [
    {
     "ename": "UnboundLocalError",
     "evalue": "cannot access local variable 's' where it is not associated with a value",
     "output_type": "error",
     "traceback": [
      "\u001b[1;31m---------------------------------------------------------------------------\u001b[0m",
      "\u001b[1;31mUnboundLocalError\u001b[0m                         Traceback (most recent call last)",
      "Cell \u001b[1;32mIn[32], line 6\u001b[0m\n\u001b[0;32m      4\u001b[0m     s\u001b[38;5;241m=\u001b[39mc \u001b[38;5;66;03m# LV\u001b[39;00m\n\u001b[0;32m      5\u001b[0m     \u001b[38;5;28mprint\u001b[39m(s)\n\u001b[1;32m----> 6\u001b[0m add()\n",
      "Cell \u001b[1;32mIn[32], line 3\u001b[0m, in \u001b[0;36madd\u001b[1;34m()\u001b[0m\n\u001b[0;32m      2\u001b[0m \u001b[38;5;28;01mdef\u001b[39;00m \u001b[38;5;21madd\u001b[39m():\n\u001b[1;32m----> 3\u001b[0m     c\u001b[38;5;241m=\u001b[39ms\u001b[38;5;241m+\u001b[39m\u001b[38;5;241m10\u001b[39m\n\u001b[0;32m      4\u001b[0m     s\u001b[38;5;241m=\u001b[39mc \u001b[38;5;66;03m# LV\u001b[39;00m\n\u001b[0;32m      5\u001b[0m     \u001b[38;5;28mprint\u001b[39m(s)\n",
      "\u001b[1;31mUnboundLocalError\u001b[0m: cannot access local variable 's' where it is not associated with a value"
     ]
    }
   ],
   "source": [
    "s=0 # GV\n",
    "def add():\n",
    "    c=s+10\n",
    "    s=c # LV\n",
    "    print(s)\n",
    "add()\n",
    "\n",
    "# step-1: s=0 gv\n",
    "# step-2: define the function\n",
    "# step-3: call the function\n",
    "# step-4: run the function\n",
    "# c is lv : c= s+10 = c=10\n",
    "# we are creating a new variable same like as global s\n",
    "# we are creating a new variable with same name as global variable\n",
    "# by using global variable"
   ]
  },
  {
   "cell_type": "code",
   "execution_count": 34,
   "id": "186271c5-12be-497a-86bf-84496e1d4684",
   "metadata": {},
   "outputs": [
    {
     "name": "stdout",
     "output_type": "stream",
     "text": [
      "hello Abhishek\n"
     ]
    }
   ],
   "source": [
    "value=100\n",
    "def greet():\n",
    "    value=200\n",
    "    print('hello Abhishek')\n",
    "greet()"
   ]
  },
  {
   "cell_type": "markdown",
   "id": "daba01d3-ec8e-466d-86ed-cfd886337b46",
   "metadata": {},
   "source": [
    "**global**\n",
    "- global keyword is used to take the local variable value outside the function"
   ]
  },
  {
   "cell_type": "code",
   "execution_count": 35,
   "id": "42e075e9-00ac-466a-b5a6-efb518e2dcb7",
   "metadata": {},
   "outputs": [
    {
     "name": "stdout",
     "output_type": "stream",
     "text": [
      "hello\n",
      "value: 200\n"
     ]
    }
   ],
   "source": [
    "value=100\n",
    "def greet():\n",
    "    global value\n",
    "    value=200\n",
    "    print('hello')\n",
    "greet()\n",
    "print('value:',value)"
   ]
  },
  {
   "cell_type": "code",
   "execution_count": 37,
   "id": "d5870384-2dc7-4abe-8264-0e460c0329b8",
   "metadata": {},
   "outputs": [
    {
     "name": "stdout",
     "output_type": "stream",
     "text": [
      "10 200 210\n"
     ]
    }
   ],
   "source": [
    "n11=10\n",
    "def addition():\n",
    "    global n33,n22\n",
    "    n22=200\n",
    "    n33=n11+n22\n",
    "    print(n11,n22,n33)\n",
    "addition()"
   ]
  },
  {
   "cell_type": "code",
   "execution_count": 38,
   "id": "a0c6ba33-2f22-4a01-91cc-b64fd2cb62d7",
   "metadata": {},
   "outputs": [
    {
     "data": {
      "text/plain": [
       "200"
      ]
     },
     "execution_count": 38,
     "metadata": {},
     "output_type": "execute_result"
    }
   ],
   "source": [
    "n22"
   ]
  },
  {
   "cell_type": "markdown",
   "id": "45baaa3d-8791-4e7e-8be5-e62adf9e8d53",
   "metadata": {},
   "source": [
    "- Outside the function is called Global variables\n",
    "- Inside the function is local varaiable\n",
    "- local variables can not use outside the function\n",
    "- if you want to use outside the function use global keyword"
   ]
  },
  {
   "cell_type": "code",
   "execution_count": 41,
   "id": "dcddd972-9405-4732-971e-fc8fdf6b56a8",
   "metadata": {},
   "outputs": [
    {
     "name": "stdin",
     "output_type": "stream",
     "text": [
      " 600\n"
     ]
    },
    {
     "ename": "KeyboardInterrupt",
     "evalue": "Interrupted by user",
     "output_type": "error",
     "traceback": [
      "\u001b[1;31m---------------------------------------------------------------------------\u001b[0m",
      "\u001b[1;31mKeyboardInterrupt\u001b[0m                         Traceback (most recent call last)",
      "Cell \u001b[1;32mIn[41], line 4\u001b[0m\n\u001b[0;32m      1\u001b[0m \u001b[38;5;28;01mdef\u001b[39;00m \u001b[38;5;21mmul\u001b[39m(a,b):\n\u001b[0;32m      2\u001b[0m     \u001b[38;5;28mprint\u001b[39m(a\u001b[38;5;241m*\u001b[39mb)\n\u001b[0;32m      3\u001b[0m mul(\u001b[38;5;28meval\u001b[39m(\u001b[38;5;28minput\u001b[39m()),\n\u001b[1;32m----> 4\u001b[0m     \u001b[38;5;28meval\u001b[39m(\u001b[38;5;28minput\u001b[39m()))\n",
      "File \u001b[1;32m~\\anaconda3\\Lib\\site-packages\\ipykernel\\kernelbase.py:1262\u001b[0m, in \u001b[0;36mKernel.raw_input\u001b[1;34m(self, prompt)\u001b[0m\n\u001b[0;32m   1260\u001b[0m     msg \u001b[38;5;241m=\u001b[39m \u001b[38;5;124m\"\u001b[39m\u001b[38;5;124mraw_input was called, but this frontend does not support input requests.\u001b[39m\u001b[38;5;124m\"\u001b[39m\n\u001b[0;32m   1261\u001b[0m     \u001b[38;5;28;01mraise\u001b[39;00m StdinNotImplementedError(msg)\n\u001b[1;32m-> 1262\u001b[0m \u001b[38;5;28;01mreturn\u001b[39;00m \u001b[38;5;28mself\u001b[39m\u001b[38;5;241m.\u001b[39m_input_request(\n\u001b[0;32m   1263\u001b[0m     \u001b[38;5;28mstr\u001b[39m(prompt),\n\u001b[0;32m   1264\u001b[0m     \u001b[38;5;28mself\u001b[39m\u001b[38;5;241m.\u001b[39m_parent_ident[\u001b[38;5;124m\"\u001b[39m\u001b[38;5;124mshell\u001b[39m\u001b[38;5;124m\"\u001b[39m],\n\u001b[0;32m   1265\u001b[0m     \u001b[38;5;28mself\u001b[39m\u001b[38;5;241m.\u001b[39mget_parent(\u001b[38;5;124m\"\u001b[39m\u001b[38;5;124mshell\u001b[39m\u001b[38;5;124m\"\u001b[39m),\n\u001b[0;32m   1266\u001b[0m     password\u001b[38;5;241m=\u001b[39m\u001b[38;5;28;01mFalse\u001b[39;00m,\n\u001b[0;32m   1267\u001b[0m )\n",
      "File \u001b[1;32m~\\anaconda3\\Lib\\site-packages\\ipykernel\\kernelbase.py:1305\u001b[0m, in \u001b[0;36mKernel._input_request\u001b[1;34m(self, prompt, ident, parent, password)\u001b[0m\n\u001b[0;32m   1302\u001b[0m \u001b[38;5;28;01mexcept\u001b[39;00m \u001b[38;5;167;01mKeyboardInterrupt\u001b[39;00m:\n\u001b[0;32m   1303\u001b[0m     \u001b[38;5;66;03m# re-raise KeyboardInterrupt, to truncate traceback\u001b[39;00m\n\u001b[0;32m   1304\u001b[0m     msg \u001b[38;5;241m=\u001b[39m \u001b[38;5;124m\"\u001b[39m\u001b[38;5;124mInterrupted by user\u001b[39m\u001b[38;5;124m\"\u001b[39m\n\u001b[1;32m-> 1305\u001b[0m     \u001b[38;5;28;01mraise\u001b[39;00m \u001b[38;5;167;01mKeyboardInterrupt\u001b[39;00m(msg) \u001b[38;5;28;01mfrom\u001b[39;00m \u001b[38;5;28;01mNone\u001b[39;00m\n\u001b[0;32m   1306\u001b[0m \u001b[38;5;28;01mexcept\u001b[39;00m \u001b[38;5;167;01mException\u001b[39;00m:\n\u001b[0;32m   1307\u001b[0m     \u001b[38;5;28mself\u001b[39m\u001b[38;5;241m.\u001b[39mlog\u001b[38;5;241m.\u001b[39mwarning(\u001b[38;5;124m\"\u001b[39m\u001b[38;5;124mInvalid Message:\u001b[39m\u001b[38;5;124m\"\u001b[39m, exc_info\u001b[38;5;241m=\u001b[39m\u001b[38;5;28;01mTrue\u001b[39;00m)\n",
      "\u001b[1;31mKeyboardInterrupt\u001b[0m: Interrupted by user"
     ]
    }
   ],
   "source": [
    "def mul(a,b):\n",
    "    print(a*b)\n",
    "mul(eval(input()),\n",
    "    eval(input()))"
   ]
  },
  {
   "cell_type": "markdown",
   "id": "0125bb2e-7f8f-4da8-9476-1308c7e44add",
   "metadata": {},
   "source": [
    "Return: \n",
    "- we can use the local variable or function outputs outside the function using return\n",
    "- print is different\n",
    "- return is different\n",
    "- print is used to only to print the values\n",
    "- that value you can only see, but you can not use\n",
    "- if you want to use outside we will use return (it is also possibile by using"
   ]
  },
  {
   "cell_type": "code",
   "execution_count": 44,
   "id": "8102533c-ff8e-4b53-9ebe-6b1e01382d2a",
   "metadata": {},
   "outputs": [],
   "source": [
    "def average():\n",
    "    n1=10\n",
    "    n2=20\n",
    "    n3=30\n",
    "    avg=(n1+n2+n3)/3\n",
    "    return(avg)\n",
    "avg=average()\n",
    "\n",
    "# function is ready to return values to me\n",
    "# so i need to store"
   ]
  },
  {
   "cell_type": "code",
   "execution_count": 45,
   "id": "1b6f5151-82e1-476e-89c1-6f01aff61658",
   "metadata": {},
   "outputs": [
    {
     "data": {
      "text/plain": [
       "20.0"
      ]
     },
     "execution_count": 45,
     "metadata": {},
     "output_type": "execute_result"
    }
   ],
   "source": [
    "avg"
   ]
  },
  {
   "cell_type": "code",
   "execution_count": 46,
   "id": "70df7177-1458-42d4-afb9-740391149377",
   "metadata": {},
   "outputs": [],
   "source": [
    "def sub():\n",
    "    a=10\n",
    "    b=20\n",
    "    subb=b-a\n",
    "    return(subb)\n",
    "subb=sub()"
   ]
  },
  {
   "cell_type": "code",
   "execution_count": 47,
   "id": "4df2c43a-b52c-4097-b8ac-e6d2743f9fcb",
   "metadata": {},
   "outputs": [
    {
     "data": {
      "text/plain": [
       "10"
      ]
     },
     "execution_count": 47,
     "metadata": {},
     "output_type": "execute_result"
    }
   ],
   "source": [
    "subb"
   ]
  },
  {
   "cell_type": "code",
   "execution_count": 50,
   "id": "9d462115-0997-424d-822d-b8f169704ed1",
   "metadata": {},
   "outputs": [],
   "source": [
    "def addition():\n",
    "    a=100\n",
    "    b=200\n",
    "    c=a+b\n",
    "    return(c)\n",
    "c=addition()\n"
   ]
  },
  {
   "cell_type": "code",
   "execution_count": 51,
   "id": "e833a0f6-dee1-4323-b0f0-3af7e50ff243",
   "metadata": {},
   "outputs": [
    {
     "data": {
      "text/plain": [
       "300"
      ]
     },
     "execution_count": 51,
     "metadata": {},
     "output_type": "execute_result"
    }
   ],
   "source": [
    "c"
   ]
  },
  {
   "cell_type": "code",
   "execution_count": 56,
   "id": "513061b6-4c87-4a9d-a987-ffda5bc080c7",
   "metadata": {},
   "outputs": [],
   "source": [
    "def addition():\n",
    "    a=100\n",
    "    b=200\n",
    "    d=a+b\n",
    "addition()\n"
   ]
  },
  {
   "cell_type": "code",
   "execution_count": 57,
   "id": "6696df6b-7ece-4206-b88e-188aad4fa1a6",
   "metadata": {},
   "outputs": [],
   "source": [
    "d"
   ]
  },
  {
   "cell_type": "code",
   "execution_count": 58,
   "id": "e8ae4c44-ffb3-4041-9d88-cccd8965a102",
   "metadata": {},
   "outputs": [],
   "source": [
    "# Return always at last line of the function\n",
    "# Not in middile lines\n",
    "#Sir in real time projects, do we use return or global more sir?\n",
    "#return"
   ]
  },
  {
   "cell_type": "code",
   "execution_count": 59,
   "id": "252c83dd-0442-4cd6-9b84-0762fc9b21dc",
   "metadata": {},
   "outputs": [],
   "source": [
    "def sub():\n",
    "    a=10\n",
    "    b=20\n",
    "    subb=b-a\n",
    "    return(a,b,subb)\n",
    "out=sub()"
   ]
  },
  {
   "cell_type": "code",
   "execution_count": 60,
   "id": "2aef9666-f6ae-4ab2-a364-cc721a3dca9e",
   "metadata": {},
   "outputs": [
    {
     "data": {
      "text/plain": [
       "(10, 20, 10)"
      ]
     },
     "execution_count": 60,
     "metadata": {},
     "output_type": "execute_result"
    }
   ],
   "source": [
    "out"
   ]
  },
  {
   "cell_type": "code",
   "execution_count": null,
   "id": "43310c35-9e57-4c33-9e8c-5a1302810989",
   "metadata": {},
   "outputs": [],
   "source": []
  }
 ],
 "metadata": {
  "kernelspec": {
   "display_name": "Python 3 (ipykernel)",
   "language": "python",
   "name": "python3"
  },
  "language_info": {
   "codemirror_mode": {
    "name": "ipython",
    "version": 3
   },
   "file_extension": ".py",
   "mimetype": "text/x-python",
   "name": "python",
   "nbconvert_exporter": "python",
   "pygments_lexer": "ipython3",
   "version": "3.11.7"
  }
 },
 "nbformat": 4,
 "nbformat_minor": 5
}
