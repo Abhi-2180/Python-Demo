{
 "cells": [
  {
   "cell_type": "markdown",
   "id": "e147c760-c5f6-4131-8edb-da52cf5ecdfd",
   "metadata": {},
   "source": [
    "**Dictionary**\n",
    "- We already seen many Data types\n",
    "- String\n",
    "- List\n",
    "- Tuple\n",
    "- Set\n",
    "- Dictionary\n",
    "- int float bool complex\n",
    "- range\n",
    "- bytes\n",
    "- eval is not a data type"
   ]
  },
  {
   "cell_type": "code",
   "execution_count": null,
   "id": "b7bc05af-5fcd-40d3-9a75-83d11874ca5a",
   "metadata": {},
   "outputs": [],
   "source": [
    "# By using lambda list reduce\n",
    "str=b'hello'"
   ]
  },
  {
   "cell_type": "code",
   "execution_count": null,
   "id": "996e3847-8dfb-45e4-9d7d-3589fddc01a9",
   "metadata": {},
   "outputs": [],
   "source": [
    "string=''\n",
    "list=[]\n",
    "tuple=()\n",
    "set={}\n",
    "dictionary={key:value}"
   ]
  },
  {
   "cell_type": "code",
   "execution_count": 1,
   "id": "08219e74-6bbd-4add-a2e5-985d96ad6135",
   "metadata": {},
   "outputs": [],
   "source": [
    "names=['Ramesh','Suresh','Satish']\n",
    "age=[20,25,30]\n",
    "# Print\n",
    "# Ramesh age is 20"
   ]
  },
  {
   "cell_type": "markdown",
   "id": "d357d200-c9ea-4133-b47d-30562cd6ed29",
   "metadata": {},
   "source": [
    "**ZIP**"
   ]
  },
  {
   "cell_type": "code",
   "execution_count": 2,
   "id": "886ceab1-6ee7-48d3-95f0-4416028a10a5",
   "metadata": {},
   "outputs": [
    {
     "name": "stdout",
     "output_type": "stream",
     "text": [
      "Ramesh 20\n",
      "Suresh 25\n",
      "Satish 30\n"
     ]
    }
   ],
   "source": [
    "names=['Ramesh','Suresh','Satish']\n",
    "age=[20,25,30]\n",
    "\n",
    "for i,j in zip(names,age):\n",
    "    print(i,j)"
   ]
  },
  {
   "cell_type": "code",
   "execution_count": 3,
   "id": "eb14ce48-f48e-44c3-9eae-905c4f4992c6",
   "metadata": {},
   "outputs": [
    {
     "data": {
      "text/plain": [
       "[('Ramesh', 20), ('Suresh', 25), ('Satish', 30)]"
      ]
     },
     "execution_count": 3,
     "metadata": {},
     "output_type": "execute_result"
    }
   ],
   "source": [
    "list(zip(names,age))"
   ]
  },
  {
   "cell_type": "code",
   "execution_count": null,
   "id": "62604c14-9c8e-48de-b479-d3932a945089",
   "metadata": {},
   "outputs": [],
   "source": [
    "#dict1={<key>:<value>}\n",
    "#names=['Ramesh','Suresh','Satish']\n",
    "#age=[20,25,30]\n",
    "#'Ramesh' is the key ====== 20 its related value\n",
    "dict1={'Ramesh':20,'Suresh':25,'Satish':30}"
   ]
  },
  {
   "cell_type": "code",
   "execution_count": 4,
   "id": "0cdb5200-936d-4a45-bbd1-4e1cfb48d066",
   "metadata": {},
   "outputs": [
    {
     "data": {
      "text/plain": [
       "dict"
      ]
     },
     "execution_count": 4,
     "metadata": {},
     "output_type": "execute_result"
    }
   ],
   "source": [
    "dict1={'Ramesh':20,'Suresh':25,'Satish':30}\n",
    "type(dict1)"
   ]
  },
  {
   "cell_type": "code",
   "execution_count": null,
   "id": "20da0958-efcb-4659-9b68-23f7aedba174",
   "metadata": {},
   "outputs": [],
   "source": [
    "#If the list are of different length?\n",
    "#if both lists are different lenght\n",
    "#zip will not work"
   ]
  },
  {
   "cell_type": "markdown",
   "id": "3bacc5c3-0758-48c8-88d5-ec456fc4f0dc",
   "metadata": {},
   "source": [
    "- intialization\n",
    "- type\n",
    "- max\n",
    "- min\n",
    "- len\n",
    "- reversed\n",
    "- sorted\n",
    "- in\n",
    "- index\n",
    "- mutable\n",
    "- concate\n",
    "- slicing\n",
    "- methods"
   ]
  },
  {
   "cell_type": "markdown",
   "id": "e3879c03-28a8-4347-adf2-1ad327b3a32c",
   "metadata": {},
   "source": [
    "**Create all type of dictionaries**"
   ]
  },
  {
   "cell_type": "code",
   "execution_count": null,
   "id": "71bea2df-300e-4783-8341-db1968658928",
   "metadata": {},
   "outputs": [],
   "source": [
    "d1={'Manish':25,'Shubam':20,'Govindh':15}\n",
    "d2={'Manish':'25','Shubam':'20','Govindh':'15'}\n",
    "d3={25:'Manish',20:'Shubam',15:'Govindh'}\n",
    "d4={25:50}\n",
    "d5={'Fruites':['Apple','Cherry']}\n",
    "d6={['Apple','Cherry']:'Fruites'}\n",
    "d7={('Apple','Cherry'):'Fruites'}\n",
    "d8={'Ajay':25,'Ajay':30}\n",
    "d9={25:'Ajay',30:'Ajay'}\n",
    "d10={'Fruites':{'Mango':25}}"
   ]
  },
  {
   "cell_type": "code",
   "execution_count": 5,
   "id": "1a6be84c-77cf-444c-94f5-b2fdc9fe759f",
   "metadata": {},
   "outputs": [
    {
     "data": {
      "text/plain": [
       "{'Manish': 25, 'Shubam': 20, 'Govindh': 15}"
      ]
     },
     "execution_count": 5,
     "metadata": {},
     "output_type": "execute_result"
    }
   ],
   "source": [
    "d1={'Manish':25,'Shubam':20,'Govindh':15}\n",
    "d1"
   ]
  },
  {
   "cell_type": "code",
   "execution_count": 6,
   "id": "8883e8fe-a436-4e86-87f1-9477b6139a87",
   "metadata": {},
   "outputs": [
    {
     "data": {
      "text/plain": [
       "{'Manish': '25', 'Shubam': '20', 'Govindh': '15'}"
      ]
     },
     "execution_count": 6,
     "metadata": {},
     "output_type": "execute_result"
    }
   ],
   "source": [
    "d2={'Manish':'25','Shubam':'20','Govindh':'15'}\n",
    "d2"
   ]
  },
  {
   "cell_type": "code",
   "execution_count": 7,
   "id": "9e0484da-ab0d-4012-8bba-cdbc5eab0c62",
   "metadata": {},
   "outputs": [
    {
     "data": {
      "text/plain": [
       "{25: 'Manish', 20: 'Shubam', 15: 'Govindh'}"
      ]
     },
     "execution_count": 7,
     "metadata": {},
     "output_type": "execute_result"
    }
   ],
   "source": [
    "d3={25:'Manish',20:'Shubam',15:'Govindh'}\n",
    "d3"
   ]
  },
  {
   "cell_type": "code",
   "execution_count": 8,
   "id": "73d9e6db-92c1-4e08-bb6f-e8bb3e08b584",
   "metadata": {},
   "outputs": [],
   "source": [
    "d4={25:50}"
   ]
  },
  {
   "cell_type": "code",
   "execution_count": 9,
   "id": "1b1ed294-7dc4-4d78-a8df-d07257510bd1",
   "metadata": {},
   "outputs": [
    {
     "data": {
      "text/plain": [
       "{'Fruites': ['Apple', 'Cherry']}"
      ]
     },
     "execution_count": 9,
     "metadata": {},
     "output_type": "execute_result"
    }
   ],
   "source": [
    "d5={'Fruites':['Apple','Cherry']}\n",
    "d5"
   ]
  },
  {
   "cell_type": "code",
   "execution_count": 10,
   "id": "5a9d3ab9-9532-466c-9ed0-69d6bdeea610",
   "metadata": {},
   "outputs": [
    {
     "ename": "TypeError",
     "evalue": "unhashable type: 'list'",
     "output_type": "error",
     "traceback": [
      "\u001b[1;31m---------------------------------------------------------------------------\u001b[0m",
      "\u001b[1;31mTypeError\u001b[0m                                 Traceback (most recent call last)",
      "Cell \u001b[1;32mIn[10], line 1\u001b[0m\n\u001b[1;32m----> 1\u001b[0m d6\u001b[38;5;241m=\u001b[39m{[\u001b[38;5;124m'\u001b[39m\u001b[38;5;124mApple\u001b[39m\u001b[38;5;124m'\u001b[39m,\u001b[38;5;124m'\u001b[39m\u001b[38;5;124mCherry\u001b[39m\u001b[38;5;124m'\u001b[39m]:\u001b[38;5;124m'\u001b[39m\u001b[38;5;124mFruites\u001b[39m\u001b[38;5;124m'\u001b[39m}\n\u001b[0;32m      2\u001b[0m d6\n",
      "\u001b[1;31mTypeError\u001b[0m: unhashable type: 'list'"
     ]
    }
   ],
   "source": [
    "d6={['Apple','Cherry']:'Fruites'}\n",
    "d6\n"
   ]
  },
  {
   "cell_type": "code",
   "execution_count": 11,
   "id": "f00a3f5f-05a9-429e-a545-20958fc3ec19",
   "metadata": {},
   "outputs": [
    {
     "data": {
      "text/plain": [
       "{('Apple', 'Cherry'): 'Fruites'}"
      ]
     },
     "execution_count": 11,
     "metadata": {},
     "output_type": "execute_result"
    }
   ],
   "source": [
    "d7={('Apple','Cherry'):'Fruites'}\n",
    "d7"
   ]
  },
  {
   "cell_type": "code",
   "execution_count": 12,
   "id": "8d185250-acfa-4af1-9bd4-400c0108e0d5",
   "metadata": {},
   "outputs": [
    {
     "data": {
      "text/plain": [
       "{'Ajay': 30}"
      ]
     },
     "execution_count": 12,
     "metadata": {},
     "output_type": "execute_result"
    }
   ],
   "source": [
    "d8={'Ajay':25,'Ajay':30}\n",
    "d8"
   ]
  },
  {
   "cell_type": "code",
   "execution_count": 13,
   "id": "92533fd7-812b-47b3-ad32-2e0f8fb2a11d",
   "metadata": {},
   "outputs": [
    {
     "data": {
      "text/plain": [
       "{25: 'Ajay', 30: 'Ajay'}"
      ]
     },
     "execution_count": 13,
     "metadata": {},
     "output_type": "execute_result"
    }
   ],
   "source": [
    "d9={25:'Ajay',30:'Ajay'}\n",
    "d9"
   ]
  },
  {
   "cell_type": "markdown",
   "id": "23663f38-34c8-4081-83ea-969c7ad6331f",
   "metadata": {},
   "source": [
    "**keys are important**\n",
    "- Keys have only latest value\n",
    "- No duplicate keys\n",
    "- Keys should be only one\n",
    "- Values can be duplicate\n",
    "- which means different keys can have same value\n",
    "- List can not be a key, Because lists are mutable\n",
    "- tuple can be a key, Because tuple are immutable"
   ]
  },
  {
   "cell_type": "code",
   "execution_count": 14,
   "id": "2f14f699-02a2-47a5-a1c0-9cc8ada93138",
   "metadata": {},
   "outputs": [],
   "source": [
    "d1={'Manish':25,'Shubam':20,'Govindh':15} # 'Shubam'\n",
    "d2={'Manish':'25','Shubam':'20','Govindh':'15'} # 'Shubam'\n",
    "d3={25:'Manish',20:'Shubam',15:'Govindh'} # 25\n",
    "d4={'Manish':25,'Shubam':'20','Govindh':15} # 'Shubal'\n",
    "d5={25:'Manish','20':'Shubam',15:'Govindh'} # Error\n",
    "d6={'Manish':20,'Shubam':20,'Govindh':20} # 'Shubam'\n",
    "d7={20:'Manish',20:'Shubam',20:'Govindh'} # 20"
   ]
  },
  {
   "cell_type": "code",
   "execution_count": 15,
   "id": "5c1b4480-f7ca-4acf-87c7-23207c4e372a",
   "metadata": {},
   "outputs": [
    {
     "data": {
      "text/plain": [
       "'Shubam'"
      ]
     },
     "execution_count": 15,
     "metadata": {},
     "output_type": "execute_result"
    }
   ],
   "source": [
    "d1={'Manish':25,'Shubam':20,'Govindh':15}\n",
    "max(d1)\n",
    "# Operations apply on keys\n",
    "# Keys are important"
   ]
  },
  {
   "cell_type": "code",
   "execution_count": 16,
   "id": "cc1157d6-ff52-458e-bfeb-d6631c390dfc",
   "metadata": {},
   "outputs": [
    {
     "data": {
      "text/plain": [
       "'Shubam'"
      ]
     },
     "execution_count": 16,
     "metadata": {},
     "output_type": "execute_result"
    }
   ],
   "source": [
    "d2={'Manish':'25','Shubam':'20','Govindh':'15'}\n",
    "max(d2)"
   ]
  },
  {
   "cell_type": "code",
   "execution_count": 17,
   "id": "5f763f90-cabc-4495-993c-95d3ca0fc787",
   "metadata": {},
   "outputs": [
    {
     "data": {
      "text/plain": [
       "25"
      ]
     },
     "execution_count": 17,
     "metadata": {},
     "output_type": "execute_result"
    }
   ],
   "source": [
    "d3={25:'Manish',20:'Shubam',15:'Govindh'}\n",
    "max(d3)"
   ]
  },
  {
   "cell_type": "code",
   "execution_count": 18,
   "id": "6ee42e60-1b45-4c81-a2b7-88fc29ed3fd7",
   "metadata": {},
   "outputs": [
    {
     "data": {
      "text/plain": [
       "'Shubam'"
      ]
     },
     "execution_count": 18,
     "metadata": {},
     "output_type": "execute_result"
    }
   ],
   "source": [
    "d4={'Manish':25,'Shubam':'20','Govindh':15}\n",
    "max(d4)"
   ]
  },
  {
   "cell_type": "code",
   "execution_count": 20,
   "id": "fa18431f-94ad-44b4-b09c-99dc6eae4859",
   "metadata": {},
   "outputs": [
    {
     "ename": "TypeError",
     "evalue": "'>' not supported between instances of 'int' and 'str'",
     "output_type": "error",
     "traceback": [
      "\u001b[1;31m---------------------------------------------------------------------------\u001b[0m",
      "\u001b[1;31mTypeError\u001b[0m                                 Traceback (most recent call last)",
      "Cell \u001b[1;32mIn[20], line 2\u001b[0m\n\u001b[0;32m      1\u001b[0m l\u001b[38;5;241m=\u001b[39m[\u001b[38;5;124m'\u001b[39m\u001b[38;5;124mA\u001b[39m\u001b[38;5;124m'\u001b[39m,\u001b[38;5;241m2\u001b[39m]\n\u001b[1;32m----> 2\u001b[0m \u001b[38;5;28mmax\u001b[39m(l)\n",
      "\u001b[1;31mTypeError\u001b[0m: '>' not supported between instances of 'int' and 'str'"
     ]
    }
   ],
   "source": [
    "l=['A',2]\n",
    "max(l)"
   ]
  },
  {
   "cell_type": "code",
   "execution_count": 22,
   "id": "edcbcd6f-af92-4916-8349-4ceebba9d448",
   "metadata": {},
   "outputs": [
    {
     "ename": "TypeError",
     "evalue": "'>' not supported between instances of 'str' and 'int'",
     "output_type": "error",
     "traceback": [
      "\u001b[1;31m---------------------------------------------------------------------------\u001b[0m",
      "\u001b[1;31mTypeError\u001b[0m                                 Traceback (most recent call last)",
      "Cell \u001b[1;32mIn[22], line 2\u001b[0m\n\u001b[0;32m      1\u001b[0m d5\u001b[38;5;241m=\u001b[39m{\u001b[38;5;241m25\u001b[39m:\u001b[38;5;124m'\u001b[39m\u001b[38;5;124mManish\u001b[39m\u001b[38;5;124m'\u001b[39m,\u001b[38;5;124m'\u001b[39m\u001b[38;5;124m20\u001b[39m\u001b[38;5;124m'\u001b[39m:\u001b[38;5;124m'\u001b[39m\u001b[38;5;124mShubam\u001b[39m\u001b[38;5;124m'\u001b[39m,\u001b[38;5;241m15\u001b[39m:\u001b[38;5;124m'\u001b[39m\u001b[38;5;124mGovindh\u001b[39m\u001b[38;5;124m'\u001b[39m}\n\u001b[1;32m----> 2\u001b[0m \u001b[38;5;28mmax\u001b[39m(d5)\n",
      "\u001b[1;31mTypeError\u001b[0m: '>' not supported between instances of 'str' and 'int'"
     ]
    }
   ],
   "source": [
    "d5={25:'Manish','20':'Shubam',15:'Govindh'}\n",
    "max(d5)"
   ]
  },
  {
   "cell_type": "code",
   "execution_count": 23,
   "id": "8a2a04d7-09c7-4b10-b71c-616823973a9f",
   "metadata": {},
   "outputs": [
    {
     "data": {
      "text/plain": [
       "20"
      ]
     },
     "execution_count": 23,
     "metadata": {},
     "output_type": "execute_result"
    }
   ],
   "source": [
    "d7={20:'Manish',20:'Shubam',20:'Govindh'}\n",
    "max(d7)\n"
   ]
  },
  {
   "cell_type": "code",
   "execution_count": 24,
   "id": "7a5a7a0d-bd75-4160-b576-ec4436a0a294",
   "metadata": {},
   "outputs": [
    {
     "data": {
      "text/plain": [
       "{20: 'Govindh'}"
      ]
     },
     "execution_count": 24,
     "metadata": {},
     "output_type": "execute_result"
    }
   ],
   "source": [
    "d7={20:'Manish',20:'Shubam',20:'Govindh'}\n",
    "d7"
   ]
  },
  {
   "cell_type": "code",
   "execution_count": 25,
   "id": "6cf92cdc-795e-4e8f-8f6f-f77244d418e1",
   "metadata": {},
   "outputs": [
    {
     "data": {
      "text/plain": [
       "'Shubam'"
      ]
     },
     "execution_count": 25,
     "metadata": {},
     "output_type": "execute_result"
    }
   ],
   "source": [
    "d4={'Manish':25, 'Shubam': '20', 'Govindh':15}\n",
    "max(d4)"
   ]
  },
  {
   "cell_type": "markdown",
   "id": "6a93c03e-bab0-4e75-bc7a-9f83414660d3",
   "metadata": {},
   "source": [
    "**Reversed**\n",
    "- you might have think dictionary will reverse\n",
    "- when you apply reveresd , then you got to know\n",
    "- only keys will come in reverse"
   ]
  },
  {
   "cell_type": "code",
   "execution_count": 26,
   "id": "185f2385-8d21-4344-ac83-6b1524275f0a",
   "metadata": {},
   "outputs": [
    {
     "data": {
      "text/plain": [
       "['Govindh', 'Shubam', 'Manish']"
      ]
     },
     "execution_count": 26,
     "metadata": {},
     "output_type": "execute_result"
    }
   ],
   "source": [
    "d1={'Manish':25,'Shubam':20,'Govindh':15}\n",
    "list(reversed(d1))"
   ]
  },
  {
   "cell_type": "code",
   "execution_count": 27,
   "id": "363243aa-5a0d-4200-9c61-8dc38f4cfe23",
   "metadata": {},
   "outputs": [
    {
     "data": {
      "text/plain": [
       "['Govindh', 'Manish', 'Shubam']"
      ]
     },
     "execution_count": 27,
     "metadata": {},
     "output_type": "execute_result"
    }
   ],
   "source": [
    "d1={'Manish':25,'Shubam':20,'Govindh':15}\n",
    "list(sorted(d1))"
   ]
  },
  {
   "cell_type": "code",
   "execution_count": 28,
   "id": "b346d5b6-be2e-4dfc-a33d-adaa49f432a2",
   "metadata": {},
   "outputs": [
    {
     "data": {
      "text/plain": [
       "['Shubam', 'Manish', 'Govindh']"
      ]
     },
     "execution_count": 28,
     "metadata": {},
     "output_type": "execute_result"
    }
   ],
   "source": [
    "d1={'Manish':25,'Shubam':20,'Govindh':15}\n",
    "list(sorted(d1,reverse=True))"
   ]
  },
  {
   "cell_type": "code",
   "execution_count": 29,
   "id": "674f4bd0-0cac-49fe-8984-3424c192007e",
   "metadata": {},
   "outputs": [
    {
     "name": "stdout",
     "output_type": "stream",
     "text": [
      "Manish\n",
      "Shubam\n",
      "Govindh\n"
     ]
    }
   ],
   "source": [
    "d1={'Manish':25,'Shubam':20,'Govindh':15}\n",
    "for i in d1:\n",
    "    print(i)"
   ]
  },
  {
   "cell_type": "code",
   "execution_count": 30,
   "id": "7f5213ba-7653-4f01-9576-13beb7e624a8",
   "metadata": {},
   "outputs": [
    {
     "data": {
      "text/plain": [
       "True"
      ]
     },
     "execution_count": 30,
     "metadata": {},
     "output_type": "execute_result"
    }
   ],
   "source": [
    "'Manish' in d1"
   ]
  },
  {
   "cell_type": "markdown",
   "id": "f31f6757-8c2c-4514-a95f-39cfcf79a284",
   "metadata": {},
   "source": [
    "**INDEX**"
   ]
  },
  {
   "cell_type": "code",
   "execution_count": null,
   "id": "3aef6ccb-40bb-4691-aa2b-65eaf1648a91",
   "metadata": {},
   "outputs": [],
   "source": [
    "d1={'Manish':25,'Shubam':20,'Govindh':15}\n",
    "# If you want retrive the values\n",
    "# Python will never give 'Manish':25\n",
    "d1[0]"
   ]
  },
  {
   "cell_type": "code",
   "execution_count": 31,
   "id": "d14756cf-4c38-48d6-aa54-9db83ca73950",
   "metadata": {},
   "outputs": [
    {
     "data": {
      "text/plain": [
       "25"
      ]
     },
     "execution_count": 31,
     "metadata": {},
     "output_type": "execute_result"
    }
   ],
   "source": [
    "d1['Manish']"
   ]
  },
  {
   "cell_type": "code",
   "execution_count": 33,
   "id": "1eb22387-39ff-429e-b222-f8a91ace9d12",
   "metadata": {},
   "outputs": [
    {
     "data": {
      "text/plain": [
       "15"
      ]
     },
     "execution_count": 33,
     "metadata": {},
     "output_type": "execute_result"
    }
   ],
   "source": [
    "d1={'Manish':25,'Shubam':20,'Govindh':15}\n",
    "# Dictionary is a key:value pair\n",
    "# We can not use index number directly\n",
    "# whenever you want to call a value, we will use key\n",
    "d1['Manish']\n",
    "d1['Shubam']\n",
    "d1['Govindh']\n",
    "d1[i]"
   ]
  },
  {
   "cell_type": "code",
   "execution_count": 34,
   "id": "5a8b2872-21e3-436b-8028-e4be9fa8a7e3",
   "metadata": {},
   "outputs": [
    {
     "name": "stdout",
     "output_type": "stream",
     "text": [
      "Manish has age 25\n",
      "Shubam has age 20\n",
      "Govindh has age 15\n"
     ]
    }
   ],
   "source": [
    "d1={'Manish':25,'Shubam':20,'Govindh':15}\n",
    "for i in d1:\n",
    "    print(f\"{i} has age {d1[i]}\")"
   ]
  },
  {
   "cell_type": "code",
   "execution_count": 35,
   "id": "260adc25-757b-48a0-b888-83dd19bcf3a0",
   "metadata": {},
   "outputs": [
    {
     "name": "stdout",
     "output_type": "stream",
     "text": [
      "Vignesh has age 20\n",
      "Mohit has age 25\n",
      "Nagesh has age 30\n"
     ]
    }
   ],
   "source": [
    "names=['Vignesh','Mohit','Nagesh']\n",
    "age=[20,25,30]\n",
    "for i,j in zip(names,age):\n",
    "    print(f\"{i} has age {j}\")"
   ]
  },
  {
   "cell_type": "markdown",
   "id": "e096b554-c2bf-4b56-a827-c8164b427910",
   "metadata": {},
   "source": [
    "**Dictionary to list**"
   ]
  },
  {
   "cell_type": "code",
   "execution_count": 37,
   "id": "b7f0bdd1-732d-4408-9980-22d2393290c2",
   "metadata": {},
   "outputs": [
    {
     "data": {
      "text/plain": [
       "[25, 20, 15]"
      ]
     },
     "execution_count": 37,
     "metadata": {},
     "output_type": "execute_result"
    }
   ],
   "source": [
    "d1={'Manish':25,'Shubam':20,'Govindh':15}\n",
    "keys,values=[],[]\n",
    "for i in d1:\n",
    "    keys.append(i)\n",
    "    values.append(d1[i])\n",
    "values"
   ]
  },
  {
   "cell_type": "code",
   "execution_count": 38,
   "id": "b0491490-7550-47d4-aae7-ed65fb230b13",
   "metadata": {},
   "outputs": [],
   "source": [
    "keys=[i for i in d1]\n",
    "values=[d1[i] for i in d1]"
   ]
  },
  {
   "cell_type": "markdown",
   "id": "ff332b76-c4a8-463f-b11c-dd0f544d2ccb",
   "metadata": {},
   "source": [
    "**How to create a empty list**"
   ]
  },
  {
   "cell_type": "code",
   "execution_count": 39,
   "id": "5a9c747e-1246-455c-abac-3fea36a529eb",
   "metadata": {},
   "outputs": [
    {
     "data": {
      "text/plain": [
       "[20]"
      ]
     },
     "execution_count": 39,
     "metadata": {},
     "output_type": "execute_result"
    }
   ],
   "source": [
    "l=[]\n",
    "l.append(20)\n",
    "l"
   ]
  },
  {
   "cell_type": "markdown",
   "id": "a7f4baa8-10e0-49b6-9246-c7b8ef4b9eac",
   "metadata": {},
   "source": [
    "**Empty String**"
   ]
  },
  {
   "cell_type": "code",
   "execution_count": 40,
   "id": "5829c35e-2d16-4e8c-8678-f8f7471daf52",
   "metadata": {},
   "outputs": [
    {
     "data": {
      "text/plain": [
       "'a'"
      ]
     },
     "execution_count": 40,
     "metadata": {},
     "output_type": "execute_result"
    }
   ],
   "source": [
    "s=''\n",
    "s=s+'a'\n",
    "s"
   ]
  },
  {
   "cell_type": "markdown",
   "id": "d4b94dd9-c1e2-49d2-ad61-5686f4273114",
   "metadata": {},
   "source": [
    "**empty dictionary**"
   ]
  },
  {
   "cell_type": "code",
   "execution_count": null,
   "id": "1614565f-ee83-4572-aa7b-5708c7a71e2f",
   "metadata": {},
   "outputs": [],
   "source": [
    "d={}\n",
    "d[<key>]=<value>"
   ]
  },
  {
   "cell_type": "code",
   "execution_count": 43,
   "id": "2688bb4d-4271-46cf-8727-a95ee7f7cfd8",
   "metadata": {},
   "outputs": [],
   "source": [
    "d={}\n",
    "d['Vignesh']=20\n",
    "d['Mohit']=25\n",
    "d['Nagesh']=30\n",
    "#d[i]=j"
   ]
  },
  {
   "cell_type": "code",
   "execution_count": 44,
   "id": "506e1515-d733-4359-87f0-342d68144136",
   "metadata": {},
   "outputs": [
    {
     "data": {
      "text/plain": [
       "{'Vignesh': 20, 'Mohit': 25, 'Nagesh': 30}"
      ]
     },
     "execution_count": 44,
     "metadata": {},
     "output_type": "execute_result"
    }
   ],
   "source": [
    "names=['Vignesh','Mohit','Nagesh']\n",
    "age=[20,25,30]\n",
    "NAMES={}\n",
    "for i,j in zip(names,age):\n",
    "    NAMES[i]=j\n",
    "NAMES"
   ]
  },
  {
   "cell_type": "markdown",
   "id": "97195269-d51e-4567-9c74-f81c5d149b40",
   "metadata": {},
   "source": [
    "**string to list**"
   ]
  },
  {
   "cell_type": "code",
   "execution_count": 45,
   "id": "2d244cf9-3039-4ac2-918c-4c64c096264c",
   "metadata": {},
   "outputs": [
    {
     "data": {
      "text/plain": [
       "['hello', 'hai', 'hai', 'how', 'how', 'are', 'you']"
      ]
     },
     "execution_count": 45,
     "metadata": {},
     "output_type": "execute_result"
    }
   ],
   "source": [
    "s='hello hai hai how how are you'\n",
    "s.split()"
   ]
  },
  {
   "cell_type": "markdown",
   "id": "323f1700-e41e-4b44-973c-aee52fd5a5b0",
   "metadata": {},
   "source": [
    "**Word frequency**"
   ]
  },
  {
   "cell_type": "code",
   "execution_count": 46,
   "id": "8e7db659-64ac-409f-a395-d41057e6a179",
   "metadata": {},
   "outputs": [
    {
     "data": {
      "text/plain": [
       "{'hello': 1, 'hai': 2, 'how': 2, 'are': 1, 'you': 1}"
      ]
     },
     "execution_count": 46,
     "metadata": {},
     "output_type": "execute_result"
    }
   ],
   "source": [
    "# i/p: s='hello hai hai how how are you'\n",
    "#o/p:{'hello':1,'hai':2,'how':2,'are':1,'you':2}\n",
    "# idea\n",
    "# step-1: split the string: List of words\n",
    "# step-2: Iterate using the list\n",
    "#each word will come apply the count\n",
    "#word key, count become value\n",
    "#step-3: Make a dictionary\n",
    "s='hello hai hai how how are you'\n",
    "words_list=s.split()\n",
    "words_list\n",
    "dict1={}\n",
    "for word in words_list:\n",
    "    dict1[word]=s.count(word)\n",
    "dict1"
   ]
  },
  {
   "cell_type": "code",
   "execution_count": 51,
   "id": "ad00febf-5edc-440d-91e2-c8c97e5b3686",
   "metadata": {},
   "outputs": [
    {
     "ename": "SyntaxError",
     "evalue": "unterminated string literal (detected at line 1) (1949909626.py, line 1)",
     "output_type": "error",
     "traceback": [
      "\u001b[1;36m  Cell \u001b[1;32mIn[51], line 1\u001b[1;36m\u001b[0m\n\u001b[1;33m    string1=\"Data science is an interdisciplinary academic field that uses statist\u001b[0m\n\u001b[1;37m            ^\u001b[0m\n\u001b[1;31mSyntaxError\u001b[0m\u001b[1;31m:\u001b[0m unterminated string literal (detected at line 1)\n"
     ]
    }
   ],
   "source": [
    "string1=\"Data science is an interdisciplinary academic field that uses statist\n",
    "        scientific computing, scientific methods, processes, scientific visual\n",
    "        algorithms and systems to extract or extrapolate knowledge and insight\n",
    "        Data science also integrates domain knowledge from the underlying application\n",
    "        a research paradigm, a research method, a discipline, a workflow, and a \"\n",
    "#task -1: in the above sentence you need to remove a,an,is,the\n",
    "# task-2: Data first letter Ascii value: 68\n",
    "# science first letter Ascii value : 115\n",
    "{'Data':68,'science':115}"
   ]
  },
  {
   "cell_type": "markdown",
   "id": "23025d68-6181-41f4-ae21-9c1a2b7a949e",
   "metadata": {},
   "source": [
    "**Mutable-immutable**\n",
    "- Change the elements using index\n",
    "- But In dictionary there is no index\n",
    "- In dictionary we wil change the value based on key only\n",
    "- instead of using the index, change the values using key\n",
    "- if it is change it is Mutable\n",
    "- if it is not change it is Immutable"
   ]
  },
  {
   "cell_type": "code",
   "execution_count": 52,
   "id": "909c6125-3500-4826-a969-248543e830cc",
   "metadata": {},
   "outputs": [
    {
     "data": {
      "text/plain": [
       "{'Vignesh': 20, 'Mohit': 25, 'Nagesh': 22}"
      ]
     },
     "execution_count": 52,
     "metadata": {},
     "output_type": "execute_result"
    }
   ],
   "source": [
    "d={'Vignesh': 20, 'Mohit': 25, 'Nagesh': 30}\n",
    "d['Nagesh']=22\n",
    "d"
   ]
  },
  {
   "cell_type": "markdown",
   "id": "dba4b0c7-11a5-405b-a84d-327ae8a6fe98",
   "metadata": {},
   "source": [
    "- List and Dictionary are mutable\n",
    "- tuple and strings are immutable\n",
    "- Difference between list and Tuple"
   ]
  },
  {
   "cell_type": "code",
   "execution_count": 53,
   "id": "096be8d3-affc-4032-8bc4-271fd356d689",
   "metadata": {},
   "outputs": [
    {
     "data": {
      "text/plain": [
       "'Mango'"
      ]
     },
     "execution_count": 53,
     "metadata": {},
     "output_type": "execute_result"
    }
   ],
   "source": [
    "d={'Fruites':['Mango']}\n",
    "d['Fruites'][0]"
   ]
  },
  {
   "cell_type": "code",
   "execution_count": 54,
   "id": "196c3c86-a223-48fe-a7c7-8271de7b5f90",
   "metadata": {},
   "outputs": [
    {
     "data": {
      "text/plain": [
       "{'Fruites': [{'Apple': ['Kashmir']}]}"
      ]
     },
     "execution_count": 54,
     "metadata": {},
     "output_type": "execute_result"
    }
   ],
   "source": [
    "d={'Fruites':[{'Apple':['Kashmir']}]}\n",
    "d"
   ]
  },
  {
   "cell_type": "code",
   "execution_count": 55,
   "id": "d4690d29-313e-4adb-a00e-aff9adb66522",
   "metadata": {},
   "outputs": [
    {
     "data": {
      "text/plain": [
       "'Kashmir'"
      ]
     },
     "execution_count": 55,
     "metadata": {},
     "output_type": "execute_result"
    }
   ],
   "source": [
    "d['Fruites'][0]['Apple'][0]"
   ]
  },
  {
   "cell_type": "code",
   "execution_count": 56,
   "id": "ca03617a-8edb-4792-8d80-db9622a8127e",
   "metadata": {},
   "outputs": [
    {
     "data": {
      "text/plain": [
       "{'Fruites': [{'Apple': {'Kashmir': ['India']}}]}"
      ]
     },
     "execution_count": 56,
     "metadata": {},
     "output_type": "execute_result"
    }
   ],
   "source": [
    "d={'Fruites':[\n",
    "    {'Apple':\n",
    "    {'Kashmir':\n",
    "    ['India']\n",
    "    }\n",
    "    }\n",
    "    ]\n",
    "  }\n",
    "d"
   ]
  },
  {
   "cell_type": "code",
   "execution_count": 57,
   "id": "5987e681-d6b2-432b-a69d-aba14be93163",
   "metadata": {},
   "outputs": [
    {
     "data": {
      "text/plain": [
       "'India'"
      ]
     },
     "execution_count": 57,
     "metadata": {},
     "output_type": "execute_result"
    }
   ],
   "source": [
    "d['Fruites'][0]['Apple']['Kashmir'][0]"
   ]
  },
  {
   "cell_type": "code",
   "execution_count": 59,
   "id": "f9d69e9f-920e-4ee7-a9f2-8830a55ce6fc",
   "metadata": {},
   "outputs": [
    {
     "data": {
      "text/plain": [
       "{'Fruites': {'Benganapalli': {'Mango': {'Nagpur': {'MH': {'Shivaji': {'Shambaji'}}}}}}}"
      ]
     },
     "execution_count": 59,
     "metadata": {},
     "output_type": "execute_result"
    }
   ],
   "source": [
    "d={'Fruites':{'Benganapalli':{'Mango':{'Nagpur':{'MH':{'Shivaji':{'Shambaji'}}}}}}}\n",
    "d"
   ]
  },
  {
   "cell_type": "code",
   "execution_count": 60,
   "id": "98658d99-e4bd-42e2-8310-2984f17fb7f6",
   "metadata": {},
   "outputs": [
    {
     "data": {
      "text/plain": [
       "{'Shambaji'}"
      ]
     },
     "execution_count": 60,
     "metadata": {},
     "output_type": "execute_result"
    }
   ],
   "source": [
    "d['Fruites']['Benganapalli']['Mango']['Nagpur']['MH']['Shivaji']"
   ]
  },
  {
   "cell_type": "markdown",
   "id": "13efbb49-587c-4e96-a025-6a33c67511bc",
   "metadata": {},
   "source": [
    "**Dictionary Methods**"
   ]
  },
  {
   "cell_type": "code",
   "execution_count": 61,
   "id": "b159b31f-1e85-46f9-8997-948f1f5b102f",
   "metadata": {},
   "outputs": [
    {
     "data": {
      "text/plain": [
       "['__class__',\n",
       " '__class_getitem__',\n",
       " '__contains__',\n",
       " '__delattr__',\n",
       " '__delitem__',\n",
       " '__dir__',\n",
       " '__doc__',\n",
       " '__eq__',\n",
       " '__format__',\n",
       " '__ge__',\n",
       " '__getattribute__',\n",
       " '__getitem__',\n",
       " '__getstate__',\n",
       " '__gt__',\n",
       " '__hash__',\n",
       " '__init__',\n",
       " '__init_subclass__',\n",
       " '__ior__',\n",
       " '__iter__',\n",
       " '__le__',\n",
       " '__len__',\n",
       " '__lt__',\n",
       " '__ne__',\n",
       " '__new__',\n",
       " '__or__',\n",
       " '__reduce__',\n",
       " '__reduce_ex__',\n",
       " '__repr__',\n",
       " '__reversed__',\n",
       " '__ror__',\n",
       " '__setattr__',\n",
       " '__setitem__',\n",
       " '__sizeof__',\n",
       " '__str__',\n",
       " '__subclasshook__',\n",
       " 'clear',\n",
       " 'copy',\n",
       " 'fromkeys',\n",
       " 'get',\n",
       " 'items',\n",
       " 'keys',\n",
       " 'pop',\n",
       " 'popitem',\n",
       " 'setdefault',\n",
       " 'update',\n",
       " 'values']"
      ]
     },
     "execution_count": 61,
     "metadata": {},
     "output_type": "execute_result"
    }
   ],
   "source": [
    "dir('') # string methods\n",
    "dir([]) # list methods\n",
    "dir(()) # tuple methods\n",
    "dir({}) # Dictionary methods"
   ]
  },
  {
   "cell_type": "code",
   "execution_count": null,
   "id": "e5e219df-00dc-4ebe-9225-6679d263bec8",
   "metadata": {},
   "outputs": [],
   "source": [
    "string\n",
    "list\n",
    "tuple\n",
    "dictionary all are class objects"
   ]
  },
  {
   "cell_type": "code",
   "execution_count": 62,
   "id": "8081bf1a-3ecd-44e5-8138-b23befb0a3fa",
   "metadata": {},
   "outputs": [
    {
     "name": "stdout",
     "output_type": "stream",
     "text": [
      "<class 'tuple'>\n"
     ]
    }
   ],
   "source": [
    "print(type(()))"
   ]
  },
  {
   "cell_type": "markdown",
   "id": "8b3c8cca-f329-4faa-8ceb-c04a233847a1",
   "metadata": {},
   "source": [
    "**items-keys-values**"
   ]
  },
  {
   "cell_type": "code",
   "execution_count": 63,
   "id": "8fc402da-6543-498c-9048-7474d24d70ca",
   "metadata": {},
   "outputs": [
    {
     "data": {
      "text/plain": [
       "{'Vignesh': 20, 'Mohit': 25, 'Nagesh': 30}"
      ]
     },
     "execution_count": 63,
     "metadata": {},
     "output_type": "execute_result"
    }
   ],
   "source": [
    "d={'Vignesh': 20, 'Mohit': 25, 'Nagesh': 30}\n",
    "d"
   ]
  },
  {
   "cell_type": "code",
   "execution_count": 64,
   "id": "5b41b96f-8628-4294-9c03-caf9bf02324f",
   "metadata": {},
   "outputs": [],
   "source": [
    "#<package>.<methodname>"
   ]
  },
  {
   "cell_type": "code",
   "execution_count": 65,
   "id": "2e35a256-bfec-4292-9b38-aabfede0b8fc",
   "metadata": {},
   "outputs": [
    {
     "data": {
      "text/plain": [
       "dict_items([('Vignesh', 20), ('Mohit', 25), ('Nagesh', 30)])"
      ]
     },
     "execution_count": 65,
     "metadata": {},
     "output_type": "execute_result"
    }
   ],
   "source": [
    "d.items()\n"
   ]
  },
  {
   "cell_type": "code",
   "execution_count": 66,
   "id": "4a377ca2-f5e4-40c3-a7a8-f806836e7428",
   "metadata": {},
   "outputs": [
    {
     "data": {
      "text/plain": [
       "dict_keys(['Vignesh', 'Mohit', 'Nagesh'])"
      ]
     },
     "execution_count": 66,
     "metadata": {},
     "output_type": "execute_result"
    }
   ],
   "source": [
    "d.keys()"
   ]
  },
  {
   "cell_type": "code",
   "execution_count": 67,
   "id": "9ed52481-7b5b-412d-8b28-84e7f601d860",
   "metadata": {},
   "outputs": [
    {
     "data": {
      "text/plain": [
       "dict_values([20, 25, 30])"
      ]
     },
     "execution_count": 67,
     "metadata": {},
     "output_type": "execute_result"
    }
   ],
   "source": [
    "d.values()"
   ]
  },
  {
   "cell_type": "code",
   "execution_count": 68,
   "id": "24831521-f332-4722-b095-36e17594604d",
   "metadata": {},
   "outputs": [
    {
     "name": "stdout",
     "output_type": "stream",
     "text": [
      "Vignesh 20\n",
      "Mohit 25\n",
      "Nagesh 30\n"
     ]
    },
    {
     "data": {
      "text/plain": [
       "(['Vignesh', 'Mohit', 'Nagesh'], [20, 25, 30])"
      ]
     },
     "execution_count": 68,
     "metadata": {},
     "output_type": "execute_result"
    }
   ],
   "source": [
    "# We already learn how to make a list from dictionary\n",
    "d={'Vignesh': 20, 'Mohit': 25, 'Nagesh': 30}\n",
    "keys,values=[],[]\n",
    "for i in d:\n",
    "    print(i,d[i])\n",
    "    keys.append(i)\n",
    "    values.append(d[i])\n",
    "keys,values"
   ]
  },
  {
   "cell_type": "code",
   "execution_count": 69,
   "id": "e30e98fe-6240-41b5-b726-626b7adff32f",
   "metadata": {},
   "outputs": [
    {
     "data": {
      "text/plain": [
       "dict_keys(['Vignesh', 'Mohit', 'Nagesh'])"
      ]
     },
     "execution_count": 69,
     "metadata": {},
     "output_type": "execute_result"
    }
   ],
   "source": [
    "d.keys()"
   ]
  },
  {
   "cell_type": "code",
   "execution_count": 70,
   "id": "11ff93fa-76ad-4207-8df9-d5d68e74b298",
   "metadata": {},
   "outputs": [
    {
     "data": {
      "text/plain": [
       "dict_keys"
      ]
     },
     "execution_count": 70,
     "metadata": {},
     "output_type": "execute_result"
    }
   ],
   "source": [
    "type(d.keys())"
   ]
  },
  {
   "cell_type": "code",
   "execution_count": 71,
   "id": "9121ddff-7ab3-4ba9-a26a-c9c58a8c7b43",
   "metadata": {},
   "outputs": [
    {
     "data": {
      "text/plain": [
       "(['Vignesh', 'Mohit', 'Nagesh'], [20, 25, 30])"
      ]
     },
     "execution_count": 71,
     "metadata": {},
     "output_type": "execute_result"
    }
   ],
   "source": [
    "d={'Vignesh': 20, 'Mohit': 25, 'Nagesh': 30}\n",
    "list(d.keys()),list(d.values())"
   ]
  },
  {
   "cell_type": "code",
   "execution_count": 72,
   "id": "b07ad3ec-aa5b-4e44-8549-d948a15c54b1",
   "metadata": {},
   "outputs": [
    {
     "ename": "AttributeError",
     "evalue": "'dict_keys' object has no attribute 'append'",
     "output_type": "error",
     "traceback": [
      "\u001b[1;31m---------------------------------------------------------------------------\u001b[0m",
      "\u001b[1;31mAttributeError\u001b[0m                            Traceback (most recent call last)",
      "Cell \u001b[1;32mIn[72], line 1\u001b[0m\n\u001b[1;32m----> 1\u001b[0m d\u001b[38;5;241m.\u001b[39mkeys()\u001b[38;5;241m.\u001b[39mappend(\u001b[38;5;241m20\u001b[39m)\n",
      "\u001b[1;31mAttributeError\u001b[0m: 'dict_keys' object has no attribute 'append'"
     ]
    }
   ],
   "source": [
    "d.keys().append(20)"
   ]
  },
  {
   "cell_type": "markdown",
   "id": "54127064-6bb4-4e56-9d67-34b83ef8c8d8",
   "metadata": {},
   "source": [
    "- Dictionary keys will give dictionary keys items in a list\n",
    "- It looks like a list , but it is not a list\n",
    "- Whcih means we can not apply list methods\n",
    "- So we need to convert into list type, by using list type casting"
   ]
  },
  {
   "cell_type": "code",
   "execution_count": 73,
   "id": "9c2f9f10-fade-4d77-aa4a-b6f482a27e62",
   "metadata": {},
   "outputs": [
    {
     "data": {
      "text/plain": [
       "['__add__',\n",
       " '__args__',\n",
       " '__class__',\n",
       " '__class_getitem__',\n",
       " '__contains__',\n",
       " '__copy__',\n",
       " '__deepcopy__',\n",
       " '__delattr__',\n",
       " '__delitem__',\n",
       " '__dir__',\n",
       " '__doc__',\n",
       " '__eq__',\n",
       " '__format__',\n",
       " '__ge__',\n",
       " '__getattribute__',\n",
       " '__getitem__',\n",
       " '__getstate__',\n",
       " '__gt__',\n",
       " '__hash__',\n",
       " '__iadd__',\n",
       " '__imul__',\n",
       " '__init__',\n",
       " '__init_subclass__',\n",
       " '__iter__',\n",
       " '__le__',\n",
       " '__len__',\n",
       " '__lt__',\n",
       " '__mro_entries__',\n",
       " '__mul__',\n",
       " '__ne__',\n",
       " '__new__',\n",
       " '__origin__',\n",
       " '__parameters__',\n",
       " '__reduce__',\n",
       " '__reduce_ex__',\n",
       " '__repr__',\n",
       " '__reversed__',\n",
       " '__rmul__',\n",
       " '__setattr__',\n",
       " '__setitem__',\n",
       " '__sizeof__',\n",
       " '__str__',\n",
       " '__subclasshook__',\n",
       " '__typing_unpacked_tuple_args__',\n",
       " '__unpacked__',\n",
       " 'append',\n",
       " 'clear',\n",
       " 'copy',\n",
       " 'count',\n",
       " 'extend',\n",
       " 'index',\n",
       " 'insert',\n",
       " 'pop',\n",
       " 'remove',\n",
       " 'reverse',\n",
       " 'sort']"
      ]
     },
     "execution_count": 73,
     "metadata": {},
     "output_type": "execute_result"
    }
   ],
   "source": [
    "dir(list[d.keys()])"
   ]
  },
  {
   "cell_type": "code",
   "execution_count": 74,
   "id": "8466a3d6-af97-4cdb-a1e9-600a8dc7e906",
   "metadata": {},
   "outputs": [
    {
     "data": {
      "text/plain": [
       "list[dict_keys(['Vignesh', 'Mohit', 'Nagesh'])]"
      ]
     },
     "execution_count": 74,
     "metadata": {},
     "output_type": "execute_result"
    }
   ],
   "source": [
    "list[d.keys()]"
   ]
  },
  {
   "cell_type": "code",
   "execution_count": 75,
   "id": "2378c9d1-e542-4c30-947c-fb748af4f325",
   "metadata": {},
   "outputs": [
    {
     "name": "stdout",
     "output_type": "stream",
     "text": [
      "*list[dict_keys(['Vignesh', 'Mohit', 'Nagesh'])]\n"
     ]
    }
   ],
   "source": [
    "for i in list[d.keys()]:\n",
    "    print(i)"
   ]
  },
  {
   "cell_type": "code",
   "execution_count": 76,
   "id": "b87941a5-80f5-4ebd-95d6-05d1bf805203",
   "metadata": {},
   "outputs": [
    {
     "data": {
      "text/plain": [
       "types.GenericAlias"
      ]
     },
     "execution_count": 76,
     "metadata": {},
     "output_type": "execute_result"
    }
   ],
   "source": [
    "type(list[d.keys()])"
   ]
  },
  {
   "cell_type": "markdown",
   "id": "78e3a13e-fc10-4ec1-82db-43556f2822ac",
   "metadata": {},
   "source": [
    "**Method-1**"
   ]
  },
  {
   "cell_type": "code",
   "execution_count": 77,
   "id": "8ad75304-bb34-4b99-8691-1ee52d97ef29",
   "metadata": {},
   "outputs": [
    {
     "name": "stdout",
     "output_type": "stream",
     "text": [
      "Vignesh 20\n",
      "Mohit 25\n",
      "Nagesh 30\n"
     ]
    },
    {
     "data": {
      "text/plain": [
       "(['Vignesh', 'Mohit', 'Nagesh'], [20, 25, 30])"
      ]
     },
     "execution_count": 77,
     "metadata": {},
     "output_type": "execute_result"
    }
   ],
   "source": [
    "d={'Vignesh': 20, 'Mohit': 25, 'Nagesh': 30}\n",
    "keys,values=[],[]\n",
    "for i in d:\n",
    "    print(i,d[i])\n",
    "    keys.append(i)\n",
    "    values.append(d[i])\n",
    "keys,values"
   ]
  },
  {
   "cell_type": "markdown",
   "id": "d6ef4523-238e-4598-b692-ee5acc1f7f47",
   "metadata": {},
   "source": [
    "**Method-2**"
   ]
  },
  {
   "cell_type": "code",
   "execution_count": 78,
   "id": "5ec7df17-7e27-4e1d-bccf-3ef6d5b21dd7",
   "metadata": {},
   "outputs": [],
   "source": [
    "d={'Vignesh': 20, 'Mohit': 25, 'Nagesh': 30}\n",
    "keys=list(d.keys())\n",
    "values=list(d.values())"
   ]
  },
  {
   "cell_type": "markdown",
   "id": "7ed03f71-2b6c-4419-9da3-c1964184c00c",
   "metadata": {},
   "source": [
    "**Method-3**"
   ]
  },
  {
   "cell_type": "code",
   "execution_count": 79,
   "id": "9e33660d-bc2c-42f1-95a8-3dbbda7ef0a8",
   "metadata": {},
   "outputs": [
    {
     "data": {
      "text/plain": [
       "dict_items([('Vignesh', 20), ('Mohit', 25), ('Nagesh', 30)])"
      ]
     },
     "execution_count": 79,
     "metadata": {},
     "output_type": "execute_result"
    }
   ],
   "source": [
    "d.items()"
   ]
  },
  {
   "cell_type": "code",
   "execution_count": 80,
   "id": "c689d203-91a1-43ee-ad1d-7c3494a59a85",
   "metadata": {},
   "outputs": [
    {
     "name": "stdout",
     "output_type": "stream",
     "text": [
      "Vignesh 20\n",
      "Mohit 25\n",
      "Nagesh 30\n"
     ]
    },
    {
     "data": {
      "text/plain": [
       "(['Vignesh', 'Mohit', 'Nagesh'], [20, 25, 30])"
      ]
     },
     "execution_count": 80,
     "metadata": {},
     "output_type": "execute_result"
    }
   ],
   "source": [
    "keys,values=[],[]\n",
    "for i,j in d.items():\n",
    "    print(i,j)\n",
    "    keys.append(i)\n",
    "    values.append(j)\n",
    "keys,values"
   ]
  },
  {
   "cell_type": "code",
   "execution_count": null,
   "id": "5083f008-2871-4c2f-88bf-b189c9865a8d",
   "metadata": {},
   "outputs": [],
   "source": [
    "a=10,20 # Works\n",
    "a,b=10,20 # Works\n",
    "a,b=10 # Fails"
   ]
  },
  {
   "cell_type": "code",
   "execution_count": 81,
   "id": "27bdeb2f-71ed-4fbd-a73a-4b6d4a96d2b6",
   "metadata": {},
   "outputs": [
    {
     "data": {
      "text/plain": [
       "['__class__',\n",
       " '__class_getitem__',\n",
       " '__contains__',\n",
       " '__delattr__',\n",
       " '__delitem__',\n",
       " '__dir__',\n",
       " '__doc__',\n",
       " '__eq__',\n",
       " '__format__',\n",
       " '__ge__',\n",
       " '__getattribute__',\n",
       " '__getitem__',\n",
       " '__getstate__',\n",
       " '__gt__',\n",
       " '__hash__',\n",
       " '__init__',\n",
       " '__init_subclass__',\n",
       " '__ior__',\n",
       " '__iter__',\n",
       " '__le__',\n",
       " '__len__',\n",
       " '__lt__',\n",
       " '__ne__',\n",
       " '__new__',\n",
       " '__or__',\n",
       " '__reduce__',\n",
       " '__reduce_ex__',\n",
       " '__repr__',\n",
       " '__reversed__',\n",
       " '__ror__',\n",
       " '__setattr__',\n",
       " '__setitem__',\n",
       " '__sizeof__',\n",
       " '__str__',\n",
       " '__subclasshook__',\n",
       " 'clear',\n",
       " 'copy',\n",
       " 'fromkeys',\n",
       " 'get',\n",
       " 'items',\n",
       " 'keys',\n",
       " 'pop',\n",
       " 'popitem',\n",
       " 'setdefault',\n",
       " 'update',\n",
       " 'values']"
      ]
     },
     "execution_count": 81,
     "metadata": {},
     "output_type": "execute_result"
    }
   ],
   "source": [
    "dir({})"
   ]
  },
  {
   "cell_type": "code",
   "execution_count": null,
   "id": "b90fc87d-011b-4f0c-9af0-9d65f050e629",
   "metadata": {},
   "outputs": [],
   "source": []
  }
 ],
 "metadata": {
  "kernelspec": {
   "display_name": "Python 3 (ipykernel)",
   "language": "python",
   "name": "python3"
  },
  "language_info": {
   "codemirror_mode": {
    "name": "ipython",
    "version": 3
   },
   "file_extension": ".py",
   "mimetype": "text/x-python",
   "name": "python",
   "nbconvert_exporter": "python",
   "pygments_lexer": "ipython3",
   "version": "3.11.7"
  }
 },
 "nbformat": 4,
 "nbformat_minor": 5
}
